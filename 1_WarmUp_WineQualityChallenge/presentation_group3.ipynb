{
 "cells": [
  {
   "cell_type": "markdown",
   "metadata": {
    "colab_type": "text",
    "id": "t-3KRfKduA_4"
   },
   "source": [
    "---\n",
    "# _Final report: Wine Quality \"Warm up\" Challenge_\n",
    "### Physicochemical factors that predict good quality wine\n",
    "---\n",
    "\n",
    "\n",
    "**Names**: ARRIAU Emma, GUIGA Chloé, LUSCAN Pierre, MOSCHINI Irina\n",
    "\n",
    "## Overview\n",
    "As the title of the challenge says, this challenge is a \"Warm  up\". Thus, we decided to fix a different objective from the usual goals set by the Kaggle's competitors. We want to find the model that gives the best score on the testing set only among the basic algorithms we studied in Malis, to have a \"recap\" of what we learnt. \n",
    "\n",
    "This report will be separated into 3 parts. The first part is about the data preparation. Then, in the second part, we try several basics algorithms and report the scores we obtained. Finally, we will conclude by applying the best model on the testing set (even if we don't expect incredible results as we try the basic algorithms)."
   ]
  },
  {
   "cell_type": "code",
   "execution_count": 0,
   "metadata": {
    "colab": {},
    "colab_type": "code",
    "id": "ZA2OnkqO26sK"
   },
   "outputs": [],
   "source": [
    "# Importations\n",
    "import pandas as pd\n",
    "import numpy as np\n",
    "import sklearn.metrics\n",
    "import matplotlib.pyplot as plt\n",
    "\n",
    "from sklearn.neighbors import KNeighborsClassifier\n",
    "from sklearn.linear_model import LogisticRegression"
   ]
  },
  {
   "cell_type": "code",
   "execution_count": 0,
   "metadata": {
    "colab": {
     "base_uri": "https://localhost:8080/",
     "height": 33
    },
    "colab_type": "code",
    "id": "z9GK_7jS2fCv",
    "outputId": "fea48f9d-c5fb-4278-faf4-c84027cfb1ae"
   },
   "outputs": [
    {
     "name": "stdout",
     "output_type": "stream",
     "text": [
      "Drive already mounted at /content/drive; to attempt to forcibly remount, call drive.mount(\"/content/drive\", force_remount=True).\n"
     ]
    }
   ],
   "source": [
    "from google.colab import drive\n",
    "drive.mount('/content/drive')"
   ]
  },
  {
   "cell_type": "code",
   "execution_count": 0,
   "metadata": {
    "colab": {},
    "colab_type": "code",
    "id": "OMpLdryImXKG"
   },
   "outputs": [],
   "source": [
    "# Importing the initial dataset for the red wine\n",
    "\n",
    "winequality_red = pd.read_csv('/content/drive/My Drive/winequality-red.csv',delimiter=';')"
   ]
  },
  {
   "cell_type": "code",
   "execution_count": 0,
   "metadata": {
    "colab": {},
    "colab_type": "code",
    "id": "yvxISu3gHEl5"
   },
   "outputs": [],
   "source": [
    "# Importing the inputs and output\n",
    "\n",
    "Xtrain = pd.read_csv('/content/drive/My Drive/Colab_Notebooks/IO/Xtrain.csv').drop(columns=['Unnamed: 0'])\n",
    "Xtest = pd.read_csv('/content/drive/My Drive/Colab_Notebooks/IO/Xtest.csv').drop(columns=['Unnamed: 0'])\n",
    "Xvalid = pd.read_csv('/content/drive/My Drive/Colab_Notebooks/IO/Xvalid.csv').drop(columns=['Unnamed: 0'])\n",
    "\n",
    "ytrain = pd.read_csv('/content/drive/My Drive/Colab_Notebooks/IO/ytrain.csv').drop(columns=['Unnamed: 0'])\n",
    "ytest = pd.read_csv('/content/drive/My Drive/Colab_Notebooks/IO/ytest.csv').drop(columns=['Unnamed: 0'])\n",
    "yvalid = pd.read_csv('/content/drive/My Drive/Colab_Notebooks/IO/yvalid.csv').drop(columns=['Unnamed: 0'])\n",
    "\n",
    "ytrain = np.ravel(ytrain)\n",
    "ytest = np.ravel(ytest)\n",
    "yvalid = np.ravel(yvalid)\n",
    "\n",
    "# Importing the inputs and output with PCA\n",
    "\n",
    "Xtrain_pca = pd.read_csv('/content/drive/My Drive/Colab_Notebooks/IO_PCA/Xtrain_pca.csv').drop(columns=['Unnamed: 0'])\n",
    "Xtest_pca = pd.read_csv('/content/drive/My Drive/Colab_Notebooks/IO_PCA/Xtest_pca.csv').drop(columns=['Unnamed: 0'])\n",
    "Xvalid_pca = pd.read_csv('/content/drive/My Drive/Colab_Notebooks/IO_PCA/Xvalid_pca.csv').drop(columns=['Unnamed: 0'])\n",
    "\n",
    "ytrain_pca = pd.read_csv('/content/drive/My Drive/Colab_Notebooks/IO_PCA/ytrain_pca.csv').drop(columns=['Unnamed: 0'])\n",
    "ytest_pca = pd.read_csv('/content/drive/My Drive/Colab_Notebooks/IO_PCA/ytest_pca.csv').drop(columns=['Unnamed: 0'])\n",
    "yvalid_pca = pd.read_csv('/content/drive/My Drive/Colab_Notebooks/IO_PCA/yvalid_pca.csv').drop(columns=['Unnamed: 0'])\n",
    "\n",
    "ytrain_pca = np.ravel(ytrain_pca)\n",
    "ytest_pca = np.ravel(ytest_pca)\n",
    "yvalid_pca = np.ravel(yvalid_pca)"
   ]
  },
  {
   "cell_type": "markdown",
   "metadata": {
    "colab_type": "text",
    "id": "fbSVYhV5uGby"
   },
   "source": [
    "# 1. Data preparation"
   ]
  },
  {
   "cell_type": "markdown",
   "metadata": {
    "colab_type": "text",
    "id": "a9gBsLFHvQnv"
   },
   "source": [
    "Concerning the data preparation, we followed some essential steps to understand the characteristics of our dataset which include data cleaning, data visualization through descriptive statisics and data pre-processing. \n",
    "\n",
    "At first, we  visualized some statistics to understand how the data was distributed and especially how the quality (our output) was behaving. We noticed thanks to a histogram plot that a large marjority of the values of the quality were either 5 or 6 out of 10. Thus, we decided to handle a binary classification problem : a quality equal to 1 if the initial quality is greater than or equal to 6, and 0 otherwise. \n",
    "\n",
    "Let's visualize the distributions and the correlations in our dataset.\n"
   ]
  },
  {
   "cell_type": "code",
   "execution_count": 0,
   "metadata": {
    "colab": {},
    "colab_type": "code",
    "id": "JHjkzEBNmh5i"
   },
   "outputs": [],
   "source": [
    "#dropping duplicates and re-indexing properly the dataset\n",
    "\n",
    "winequality_red = winequality_red.drop_duplicates()\n",
    "winequality_red = winequality_red.reset_index(drop=True) "
   ]
  },
  {
   "cell_type": "code",
   "execution_count": 0,
   "metadata": {
    "colab": {
     "base_uri": "https://localhost:8080/",
     "height": 284
    },
    "colab_type": "code",
    "id": "v-uE3xPsnsSI",
    "outputId": "c7ab6f77-037e-4b4d-9c94-ff645e757f86"
   },
   "outputs": [
    {
     "data": {
      "text/plain": [
       "<matplotlib.axes._subplots.AxesSubplot at 0x7f2afc22da90>"
      ]
     },
     "execution_count": 25,
     "metadata": {
      "tags": []
     },
     "output_type": "execute_result"
    },
    {
     "data": {
      "image/png": "[encoded data removed]",
      "text/plain": [
       "<Figure size 432x288 with 1 Axes>"
      ]
     },
     "metadata": {
      "needs_background": "light",
      "tags": []
     },
     "output_type": "display_data"
    }
   ],
   "source": [
    "#plotting the histogram for quantity\n",
    "\n",
    "length = winequality_red['quality']\n",
    "fig = plt.figure() \n",
    "length.hist(bins=30)"
   ]
  },
  {
   "cell_type": "markdown",
   "metadata": {
    "colab_type": "text",
    "id": "YFuAO_-Wu9Uv"
   },
   "source": [
    "Comment of the plot : As said before, we can clearly see that quantity is mostly spread between either 5 or 6. This explain our threshold of 6 for assesing the good/bad quality of the wines."
   ]
  },
  {
   "cell_type": "markdown",
   "metadata": {
    "colab_type": "text",
    "id": "AVL8t99Gn8B8"
   },
   "source": [
    "Once our problem defined, we proceeded to the next steps such as handling inconsistent values or normalizing the data because of the different ranges taken by the values of the features. We also handled the possible outliers spotted with the previous statistics by resorting to the zscore metrics. Eventually, the descriptive statistics revealed some correlations between the features so that we wanted to try a Principal Component Analysis (PCA) in order compare the results with and without PCA on few algorithms and this way, to warm-up on this technique.\n",
    "\n",
    "Let us visualize the correlation between some features and the possible outliers of the dataset."
   ]
  },
  {
   "cell_type": "code",
   "execution_count": 0,
   "metadata": {
    "colab": {
     "base_uri": "https://localhost:8080/",
     "height": 793
    },
    "colab_type": "code",
    "id": "oegv7b-5u5wj",
    "outputId": "f8e4fe3b-543a-4fe3-9ebd-e5849a31ce70"
   },
   "outputs": [
    {
     "data": {
      "text/plain": [
       "Text(0, 0.5, 'fixed acidity')"
      ]
     },
     "execution_count": 40,
     "metadata": {
      "tags": []
     },
     "output_type": "execute_result"
    },
    {
     "data": {
      "image/png": "[encoded data removed]",
      "text/plain": [
       "<Figure size 720x504 with 2 Axes>"
      ]
     },
     "metadata": {
      "needs_background": "light",
      "tags": []
     },
     "output_type": "display_data"
    },
    {
     "data": {
      "image/png": "[encoded data removed]",
      "text/plain": [
       "<Figure size 432x288 with 1 Axes>"
      ]
     },
     "metadata": {
      "needs_background": "light",
      "tags": []
     },
     "output_type": "display_data"
    }
   ],
   "source": [
    "#heatmap to visualize the correlations between our features\n",
    "corr = winequality_red.corr()\n",
    "_, ax = plt.subplots(figsize=(10, 7))\n",
    "ax = sn.heatmap(corr, annot=True, cmap='coolwarm', square=True)\n",
    "\n",
    "plt.figure()\n",
    "\n",
    "#correlation between pH and fixed acidity (correlation coefficient given by the scatter matrix : -0.69)\n",
    "\n",
    "plt.scatter(winequality_red['pH'], winequality_red['fixed acidity'])\n",
    "plt.xlabel('pH')\n",
    "plt.ylabel('fixed acidity')"
   ]
  },
  {
   "cell_type": "markdown",
   "metadata": {
    "colab_type": "text",
    "id": "4Predvb5vDFR"
   },
   "source": [
    "Comment of the plots : Thanks to the first plot we can visualize pairwise correlation of all features of the dataset. The highest coeffcients (0.67, 0.69 for example) indicate a strong linear relationship thus we can infer that there is a redundancy of information within the dataset. This is why we will try a Principal Components Analysis (PCA) later on even if the initial dimensionality is not excessively high (11 features).\n",
    "\n",
    "As you will see in the scratch notebook, we yielded the following results after going through the PCA : the first principal component (PC1) contains 94.8% of the information carried by the data set and the second principal component (PC2) contains 99.5% of the information. This is why PCA could be interesting in our case.\n"
   ]
  },
  {
   "cell_type": "markdown",
   "metadata": {
    "colab_type": "text",
    "id": "awHw1Yxkxqaa"
   },
   "source": [
    "Now let us move to the outliers."
   ]
  },
  {
   "cell_type": "code",
   "execution_count": 0,
   "metadata": {
    "colab": {
     "base_uri": "https://localhost:8080/",
     "height": 528
    },
    "colab_type": "code",
    "id": "qMylpNg9xtaT",
    "outputId": "3e31e43d-04f0-4702-e580-e4b5885804a0"
   },
   "outputs": [
    {
     "data": {
      "text/plain": [
       "<matplotlib.axes._subplots.AxesSubplot at 0x7f2af88c26d8>"
      ]
     },
     "execution_count": 48,
     "metadata": {
      "tags": []
     },
     "output_type": "execute_result"
    },
    {
     "data": {
      "image/png": "[encoded data removed]",
      "text/plain": [
       "<Figure size 432x288 with 1 Axes>"
      ]
     },
     "metadata": {
      "needs_background": "light",
      "tags": []
     },
     "output_type": "display_data"
    },
    {
     "data": {
      "image/png": "[encoded data removed]",
      "text/plain": [
       "<Figure size 432x288 with 1 Axes>"
      ]
     },
     "metadata": {
      "needs_background": "light",
      "tags": []
     },
     "output_type": "display_data"
    }
   ],
   "source": [
    "##plotting the histogram for chlorides and citric acid\n",
    "\n",
    "length = winequality_red['chlorides']\n",
    "fig = plt.figure() \n",
    "length.hist(bins=30)\n",
    "\n",
    "length = winequality_red['citric acid']\n",
    "fig = plt.figure() \n",
    "length.hist(bins=30)"
   ]
  },
  {
   "cell_type": "markdown",
   "metadata": {
    "colab_type": "text",
    "id": "w3g3syCSx5lT"
   },
   "source": [
    "Comment of the plot : We can see that the datapoint(s) with a chlorides value of 0.6 is probably an outlier with regards to this feature and same for the point with a citric acid level equal to 1. In the scratch notebook we also plotted the box plots to have a better representation of the variabilty along the features. Here is the box plot for the citric acid feature that also show the outliers at 1 for a quality of 4."
   ]
  },
  {
   "cell_type": "code",
   "execution_count": 0,
   "metadata": {
    "colab": {
     "base_uri": "https://localhost:8080/",
     "height": 278
    },
    "colab_type": "code",
    "id": "Dj6MjH8KAy1H",
    "outputId": "057228d2-a4f9-48a7-8f19-1235fe533ac0"
   },
   "outputs": [
    {
     "data": {
      "image/png": "[encoded data removed]",
      "text/plain": [
       "<Figure size 432x288 with 1 Axes>"
      ]
     },
     "metadata": {
      "needs_background": "light",
      "tags": []
     },
     "output_type": "display_data"
    }
   ],
   "source": [
    "data = pd.concat([winequality_red['citric acid'],winequality_red['quality']], axis=1)\n",
    "fig1=sn.boxplot(x='citric acid', y=\"quality\", data=data,orient=\"h\")\n",
    "fig1.axis(ymin=-1, ymax=6);\n",
    "plt.show()"
   ]
  },
  {
   "cell_type": "markdown",
   "metadata": {
    "colab_type": "text",
    "id": "0GIbVC83CICx"
   },
   "source": [
    "To conclude on outliers, our policy was to delete all the samples of our dataset that had outliers in at least one column (i.e feature) using the zscore metrics with the common threshold of 3 as you will find in the scratch notebook."
   ]
  },
  {
   "cell_type": "markdown",
   "metadata": {
    "colab_type": "text",
    "id": "w8GTTJpVxNf_"
   },
   "source": [
    "# 2. Models"
   ]
  },
  {
   "cell_type": "markdown",
   "metadata": {
    "colab_type": "text",
    "id": "wSTeHBQrxPfw"
   },
   "source": [
    "We decided to try basics algorithms and tune parameters to have, for each model, the best results. We tried 7 algorihtms, from the simpliest ones to more complex models: KNN, logistic regression for classification, decision trees, SVM (with 4 different kernels), random forests, gradient boosted regression trees and a neural network. \n",
    "\n",
    "We are conscious that the neural network is not really adapted to our problem as we don't have a lot of data. However, as our goal is to have a \"warm-up\", we implemented one neural network to rembember how it works. \n",
    "\n",
    "We also wanted to see the impact of having applied PCA on the dataset. So the firsts algorithms have been tested with both datasets: the one without PCA applied, and the one with PCA applied. \n",
    "\n",
    "To not burden this report, we will show how we proceeded for KNN only, and we will give the results obtained for each algorithms. If you want to see the code, you can find it in the _scratch notebook_."
   ]
  },
  {
   "cell_type": "markdown",
   "metadata": {
    "colab_type": "text",
    "id": "5uLBilN8z_-i"
   },
   "source": [
    "### 2.a. The way we proceed on an example: KNN"
   ]
  },
  {
   "cell_type": "markdown",
   "metadata": {
    "colab_type": "text",
    "id": "bEHqDA1R0huI"
   },
   "source": [
    "As said before, our goal is to try basic algorithms and tune parameters. Thus, for KNN, we will train this model with different number of nearest neighbors, and keep the one that <b>minimizes the log loss</b>, as it is this measure we have to optimize. Moreover, as the accuracy is very meaningful, we will display also this measure.  We will finally try KNN algorithm on both datasets."
   ]
  },
  {
   "cell_type": "markdown",
   "metadata": {
    "colab_type": "text",
    "id": "3UOZvQtp-C9P"
   },
   "source": [
    "#### 2.a.i. Dataset without PCA"
   ]
  },
  {
   "cell_type": "markdown",
   "metadata": {
    "colab_type": "text",
    "id": "-xHMO7qO-CSi"
   },
   "source": [
    "Let's try firstly KNN on the dataset on which PCA has not been applied. "
   ]
  },
  {
   "cell_type": "code",
   "execution_count": 0,
   "metadata": {
    "colab": {},
    "colab_type": "code",
    "id": "GergE_Ah0cbd"
   },
   "outputs": [],
   "source": [
    "# KNN on the dataset without PCA\n",
    "n_neighbors = []\n",
    "log_losses = []\n",
    "accuracies = []\n",
    "\n",
    "ytrain = np.ravel(ytrain)\n",
    "\n",
    "for i in range (1,51):\n",
    "    n_neighbors.append(i)\n",
    "    knn = KNeighborsClassifier(n_neighbors = i)\n",
    "    knn.fit(Xtrain, ytrain)\n",
    "    y_pred = knn.predict(Xvalid)\n",
    "    log_loss = sklearn.metrics.log_loss(yvalid, y_pred)\n",
    "    accuracy = np.mean(y_pred == yvalid)\n",
    "    log_losses.append(log_loss)\n",
    "    accuracies.append(accuracy)"
   ]
  },
  {
   "cell_type": "code",
   "execution_count": 0,
   "metadata": {
    "colab": {
     "base_uri": "https://localhost:8080/",
     "height": 34
    },
    "colab_type": "code",
    "id": "fUptRCTU36fR",
    "outputId": "df9c41f0-b89a-473c-d11d-6e6c23214868"
   },
   "outputs": [
    {
     "name": "stdout",
     "output_type": "stream",
     "text": [
      "Minimum log loss on the validation set of 8.36 with an accuracy of 0.7581 obtained with  22  nearest neighbors\n"
     ]
    }
   ],
   "source": [
    "min_log_loss = min(log_losses)\n",
    "n_neigbors = np.argmin(log_losses) + 1\n",
    "accuracy = accuracies[np.argmin(log_losses)]\n",
    "print('Minimum log loss on the validation set of %.2f' % min_log_loss, 'with an accuracy of %.4f' % accuracy,  'obtained with ', n_neigbors, ' nearest neighbors')"
   ]
  },
  {
   "cell_type": "markdown",
   "metadata": {
    "colab_type": "text",
    "id": "uTMaiUJ85Fph"
   },
   "source": [
    "Thus, the optimal parameter is 22 nearest neighbors, and allows to have a log loss on the validation set of <b>8.36</b>. The associated accuracy is 75.81%, which is not that bah for KNN algorithm, known to work quite badly.\n",
    "\n",
    "Let's now try the same algorithm on the other dataset: the one on which PCA has been applied. "
   ]
  },
  {
   "cell_type": "markdown",
   "metadata": {
    "colab_type": "text",
    "id": "tr-AGKXb-M9E"
   },
   "source": [
    "#### 2.a.ii. Dataset with PCA"
   ]
  },
  {
   "cell_type": "code",
   "execution_count": 0,
   "metadata": {
    "colab": {},
    "colab_type": "code",
    "id": "lf4sxnp45rcL"
   },
   "outputs": [],
   "source": [
    "# KNN on the dataset with PCA\n",
    "n_neighbors_pca = []\n",
    "log_losses_pca = []\n",
    "accuracies_pca = []\n",
    "\n",
    "for i in range (1,51):\n",
    "    n_neighbors_pca.append(i)\n",
    "    knn = KNeighborsClassifier(n_neighbors = i)\n",
    "    knn.fit(Xtrain_pca, ytrain_pca)\n",
    "    y_pred = knn.predict(Xvalid_pca)\n",
    "    log_loss_pca = sklearn.metrics.log_loss(yvalid_pca, y_pred)\n",
    "    accuracy_pca = np.mean(y_pred == yvalid_pca)\n",
    "    log_losses_pca.append(log_loss_pca)\n",
    "    accuracies_pca.append(accuracy_pca)"
   ]
  },
  {
   "cell_type": "code",
   "execution_count": 0,
   "metadata": {
    "colab": {
     "base_uri": "https://localhost:8080/",
     "height": 34
    },
    "colab_type": "code",
    "id": "8SWMz56Z6OR8",
    "outputId": "a6391bfc-05b3-4e78-a6d1-37ef8bf97d89"
   },
   "outputs": [
    {
     "name": "stdout",
     "output_type": "stream",
     "text": [
      "Minimum log loss on the validation set of 13.46 with an accuracy of 0.6103 obtained with  6  nearest neighbors\n"
     ]
    }
   ],
   "source": [
    "min_log_loss_pca = min(log_losses_pca)\n",
    "n_neigbors_pca = np.argmin(log_losses_pca) + 1\n",
    "accuracy_pca = accuracies_pca[np.argmin(log_losses_pca)]\n",
    "print('Minimum log loss on the validation set of %.2f' % min_log_loss_pca, 'with an accuracy of %.4f' % accuracy_pca,  'obtained with ', n_neigbors_pca, ' nearest neighbors')"
   ]
  },
  {
   "cell_type": "markdown",
   "metadata": {
    "colab_type": "text",
    "id": "JfldxUZA6YXb"
   },
   "source": [
    "On the dataset with PCA, KNN works badly. With a minimum log loss of <b>13.46</b> (compared to 8.36 on the dataset without PCA), and a corresponding accuracy of 61.03% (compared to 75.81%), the results are much less good. \n",
    "\n",
    "It can be explained by the fact that PCA reduces the dimension of the input features, and thus loses information. KNN need as much information as possible to work well. Thus, PCA is not well adapted to KNN. \n"
   ]
  },
  {
   "cell_type": "markdown",
   "metadata": {
    "colab_type": "text",
    "id": "IVpkI73i-ZER"
   },
   "source": [
    "#### 2.a.iii. Comparison of the results"
   ]
  },
  {
   "cell_type": "markdown",
   "metadata": {
    "colab_type": "text",
    "id": "7QYW2PO3-ZhO"
   },
   "source": [
    "Let's plot the log losses obtained for both datasets with respect to the number of neighbors used."
   ]
  },
  {
   "cell_type": "code",
   "execution_count": 0,
   "metadata": {
    "colab": {
     "base_uri": "https://localhost:8080/",
     "height": 279
    },
    "colab_type": "code",
    "id": "hN6Z8nGN8lgp",
    "outputId": "cf394b62-2d66-4227-e14c-9ac40a22bb7b"
   },
   "outputs": [
    {
     "data": {
      "image/png": "[encoded data removed]",
      "text/plain": [
       "<Figure size 432x288 with 1 Axes>"
      ]
     },
     "metadata": {
      "needs_background": "light",
      "tags": []
     },
     "output_type": "display_data"
    }
   ],
   "source": [
    "plt.xlabel('Number of nearest neighbors')\n",
    "plt.ylabel('Validation log loss')\n",
    "plt.plot(n_neighbors, log_losses, '+', label = \"without PCA\")\n",
    "plt.plot(n_neighbors, log_losses_pca, '+', label = \"with PCA\")\n",
    "plt.legend()\n",
    "plt.show()"
   ]
  },
  {
   "cell_type": "markdown",
   "metadata": {
    "colab_type": "text",
    "id": "QDl3fHEo8Y6L"
   },
   "source": [
    "As expected, the log losses are significantly better when PCA is not applied. \n",
    "\n",
    "**_Recap_:** To conclude with KNN algorithm, after having tuned the parameter (number of neighbors o consider) and tried the algorithm on both datasets, **we finally keep the result obtained with the dataset without PCA, and 22 nearest neighbors**. "
   ]
  },
  {
   "cell_type": "markdown",
   "metadata": {
    "colab_type": "text",
    "id": "iwMsTJTl0JQb"
   },
   "source": [
    "### 2.b. Results"
   ]
  },
  {
   "cell_type": "markdown",
   "metadata": {
    "colab_type": "text",
    "id": "GkiZ3Nlq_DDE"
   },
   "source": [
    "We saw in the part 2.a. the way we proceeded with the example of KNN. Let's now have a look at the results we obtained with the different methods we implemented. \n",
    "\n",
    "Concerning the datasets, as there as not a lot of features, we decided to pursue with the dataset without PCA to keep as much information as we can. Thus, the following results are obtained without having applied PCA.\n",
    "\n",
    "_Remark: As said before, you can see the code in the scratch notebook._"
   ]
  },
  {
   "cell_type": "code",
   "execution_count": 0,
   "metadata": {
    "colab": {
     "base_uri": "https://localhost:8080/",
     "height": 359
    },
    "colab_type": "code",
    "id": "A5afeOzv_YNj",
    "outputId": "45768470-2f13-45c7-d4f7-208d9a5200cc"
   },
   "outputs": [
    {
     "data": {
      "text/html": [
       "<div>\n",
       "<style scoped>\n",
       "    .dataframe tbody tr th:only-of-type {\n",
       "        vertical-align: middle;\n",
       "    }\n",
       "\n",
       "    .dataframe tbody tr th {\n",
       "        vertical-align: top;\n",
       "    }\n",
       "\n",
       "    .dataframe thead th {\n",
       "        text-align: right;\n",
       "    }\n",
       "</style>\n",
       "<table border=\"1\" class=\"dataframe\">\n",
       "  <thead>\n",
       "    <tr style=\"text-align: right;\">\n",
       "      <th></th>\n",
       "      <th>Validation log loss</th>\n",
       "      <th>Validation accuracy</th>\n",
       "      <th>Tuned parameters 1</th>\n",
       "      <th>Tuned parameters 2</th>\n",
       "    </tr>\n",
       "  </thead>\n",
       "  <tbody>\n",
       "    <tr>\n",
       "      <th>KNN</th>\n",
       "      <td>8.36</td>\n",
       "      <td>75.81%</td>\n",
       "      <td>n_neighbors = 22</td>\n",
       "      <td>-</td>\n",
       "    </tr>\n",
       "    <tr>\n",
       "      <th>Logistic regression</th>\n",
       "      <td>6.68</td>\n",
       "      <td>80.65%</td>\n",
       "      <td>regularization param = 4</td>\n",
       "      <td>-</td>\n",
       "    </tr>\n",
       "    <tr>\n",
       "      <th>Decision tree</th>\n",
       "      <td>7.24</td>\n",
       "      <td>79.03%</td>\n",
       "      <td>max depth = 4</td>\n",
       "      <td>-</td>\n",
       "    </tr>\n",
       "    <tr>\n",
       "      <th>Random forests</th>\n",
       "      <td>6.41</td>\n",
       "      <td>81.45%</td>\n",
       "      <td>n_trees = 25</td>\n",
       "      <td>-</td>\n",
       "    </tr>\n",
       "    <tr>\n",
       "      <th>GBRT</th>\n",
       "      <td>6.41</td>\n",
       "      <td>81.45%</td>\n",
       "      <td>max depth = 2</td>\n",
       "      <td>-</td>\n",
       "    </tr>\n",
       "    <tr>\n",
       "      <th>SVM rbf</th>\n",
       "      <td>8.08</td>\n",
       "      <td>76.61%</td>\n",
       "      <td>-</td>\n",
       "      <td>-</td>\n",
       "    </tr>\n",
       "    <tr>\n",
       "      <th>SVM linear</th>\n",
       "      <td>7.80</td>\n",
       "      <td>77.42%</td>\n",
       "      <td>-</td>\n",
       "      <td>-</td>\n",
       "    </tr>\n",
       "    <tr>\n",
       "      <th>SVM poly</th>\n",
       "      <td>7.80</td>\n",
       "      <td>77.42%</td>\n",
       "      <td>-</td>\n",
       "      <td>-</td>\n",
       "    </tr>\n",
       "    <tr>\n",
       "      <th>SVM sigmoid</th>\n",
       "      <td>15.9</td>\n",
       "      <td>54.03%</td>\n",
       "      <td>-</td>\n",
       "      <td>-</td>\n",
       "    </tr>\n",
       "    <tr>\n",
       "      <th>Neural network</th>\n",
       "      <td>6.69</td>\n",
       "      <td>80.65%</td>\n",
       "      <td>regularization param = 0.01</td>\n",
       "      <td>hidden_layer_sizes = 70</td>\n",
       "    </tr>\n",
       "  </tbody>\n",
       "</table>\n",
       "</div>"
      ],
      "text/plain": [
       "                    Validation log loss  ...       Tuned parameters 2\n",
       "KNN                                8.36  ...                        -\n",
       "Logistic regression                6.68  ...                        -\n",
       "Decision tree                      7.24  ...                        -\n",
       "Random forests                     6.41  ...                        -\n",
       "GBRT                               6.41  ...                        -\n",
       "SVM rbf                            8.08  ...                        -\n",
       "SVM linear                         7.80  ...                        -\n",
       "SVM poly                           7.80  ...                        -\n",
       "SVM sigmoid                        15.9  ...                        -\n",
       "Neural network                     6.69  ...  hidden_layer_sizes = 70\n",
       "\n",
       "[10 rows x 4 columns]"
      ]
     },
     "execution_count": 42,
     "metadata": {
      "tags": []
     },
     "output_type": "execute_result"
    }
   ],
   "source": [
    "data = [[8.36, '75.81%', 'n_neighbors = 22', '-'], [6.68, '80.65%', 'regularization param = 4', '-'], [7.24, '79.03%', 'max depth = 4', '-'], [6.41, '81.45%', 'n_trees = 25', '-'], [6.41, '81.45%', 'max depth = 2', '-'], ['8.08', '76.61%', '-', '-'], ['7.80', '77.42%', '-', '-'], ['7.80', '77.42%', '-', '-'], ['15.9', '54.03%', '-', '-'], ['6.69', '80.65%', 'regularization param = 0.01', 'hidden_layer_sizes = 70']]\n",
    "results = pd.DataFrame(data, columns=['Validation log loss', 'Validation accuracy', 'Tuned parameters 1', 'Tuned parameters 2'], index=['KNN', 'Logistic regression', 'Decision tree', 'Random forests', 'GBRT', 'SVM rbf','SVM linear','SVM poly','SVM sigmoid', 'Neural network'])\n",
    "\n",
    "results"
   ]
  },
  {
   "cell_type": "markdown",
   "metadata": {
    "colab_type": "text",
    "id": "-jr5FRlTAeA7"
   },
   "source": [
    "This table recap the minimum log losses we found on the validation set after having tuned the parameters of each method. The associated accuracy and the optimal parameter(s) we found are also displayed. \n",
    "\n",
    "We can see that the random forests is doing the best job on our dataset, with a log loss of **6.41**. Some other models also work well, such as the gradient boosted regression tree (log loss of **6.41**), the logistic regression (log loss of **6.68**) and also the neural network (log loss of **6.69**)."
   ]
  },
  {
   "cell_type": "markdown",
   "metadata": {
    "colab_type": "text",
    "id": "5J6m7pWa6mFd"
   },
   "source": [
    "### 2.c. Model selection"
   ]
  },
  {
   "cell_type": "markdown",
   "metadata": {
    "colab_type": "text",
    "id": "oRZur_9c3MdQ"
   },
   "source": [
    "As we obtained good results with different models, instead of taking only the model that gives the best log loss, our idea is to **merge the best models**, that is to say that we take the predominent class among the 4 algorithms. The code is available at the section *3. Model selection and merging the results* of the scratch notebook.\n",
    "\n",
    "*Example: if we obtained, for a given wine, 3 \"zero\" and 1 \"one\", our wine will finally  be classified as a \"zero\" wine.*\n",
    "\n",
    "- Merging the 4 best models (random forests, GBRT and logistic regression, neural network) gives us a log loss of **6.68**, which is not better than the what we obtained with random forests lonely. \n",
    "\n",
    "- Because the previous result is not that good, we merge only the 3 best models (random forests, GBRT and logistic regression), which gives a log loss of **6.13**, the best result until now! Thus, this is the model we keep.\n",
    "\n",
    "**To conclude, the best model is the one that takes the majoritary class among  the Logistic regression, random forests and Gradient boosted regression tree.**"
   ]
  },
  {
   "cell_type": "markdown",
   "metadata": {
    "colab_type": "text",
    "id": "Wm-qHAzQBoRc"
   },
   "source": [
    "# 3. Conclusion"
   ]
  },
  {
   "cell_type": "markdown",
   "metadata": {
    "colab_type": "text",
    "id": "iiPUKI4SBsNv"
   },
   "source": [
    "As the main goal of a challenge is to optimize a given measure (minimize the log loss in our case) for any data, seen or unseen data, let's see how the model we kept works on the testing set (which constitues totally unseen data as we didn't work on this set until now). The code is available at the section *4. Testing and conclusion* of the scratch notebook.\n",
    "\n",
    "It finally gives a log loss of **9.99** (compared to 6.13 on the validation set), and an associated accuracy of 71.08% (compared to 82.26%). \n",
    "\n",
    "As we worked only on the red dataset (based on the assumption that we know the color of the wine), we would have done exactly the same on the white dataset. "
   ]
  }
 ],
 "metadata": {
  "colab": {
   "collapsed_sections": [
    "w8GTTJpVxNf_",
    "5uLBilN8z_-i",
    "3UOZvQtp-C9P",
    "tr-AGKXb-M9E",
    "iwMsTJTl0JQb",
    "5J6m7pWa6mFd",
    "Wm-qHAzQBoRc"
   ],
   "name": "FinalReport.ipynb",
   "provenance": []
  },
  "kernelspec": {
   "display_name": "Python 3",
   "language": "python",
   "name": "python3"
  },
  "language_info": {
   "codemirror_mode": {
    "name": "ipython",
    "version": 3
   },
   "file_extension": ".py",
   "mimetype": "text/x-python",
   "name": "python",
   "nbconvert_exporter": "python",
   "pygments_lexer": "ipython3",
   "version": "3.7.1"
  }
 },
 "nbformat": 4,
 "nbformat_minor": 1
}
