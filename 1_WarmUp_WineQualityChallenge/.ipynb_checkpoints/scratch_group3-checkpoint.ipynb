{
 "cells": [
  {
   "cell_type": "markdown",
   "metadata": {
    "colab_type": "text",
    "id": "RywexSuM3tWZ"
   },
   "source": [
    "**Srcatch notebook group 3**\n",
    "\n",
    "*Names: ARRIAU Emma, GUIGA Chloé, LUSCAN Pierre, MOSCHINI Irina*"
   ]
  },
  {
   "cell_type": "markdown",
   "metadata": {
    "colab_type": "text",
    "id": "U-TN2dLLHD5y"
   },
   "source": [
    "# **1. Data preparation:**"
   ]
  },
  {
   "cell_type": "markdown",
   "metadata": {
    "colab_type": "text",
    "id": "hLebPKxtHWjZ"
   },
   "source": [
    "## 1.1. data importation\n",
    "\n"
   ]
  },
  {
   "cell_type": "code",
   "execution_count": 0,
   "metadata": {
    "colab": {
     "base_uri": "https://localhost:8080/",
     "height": 54
    },
    "colab_type": "code",
    "id": "zahafP9uMSTk",
    "outputId": "3e6f9bc3-5e92-4c8b-aeec-f5b97b280e35"
   },
   "outputs": [
    {
     "name": "stdout",
     "output_type": "stream",
     "text": [
      "Drive already mounted at /content/drive; to attempt to forcibly remount, call drive.mount(\"/content/drive\", force_remount=True).\n"
     ]
    }
   ],
   "source": [
    "from google.colab import drive\n",
    "drive.mount('/content/drive')"
   ]
  },
  {
   "cell_type": "code",
   "execution_count": 0,
   "metadata": {
    "colab": {
     "base_uri": "https://localhost:8080/",
     "height": 71
    },
    "colab_type": "code",
    "id": "uXmzb7_cBtpU",
    "outputId": "9f1f558d-127f-4b1b-dfd2-89975c78e580"
   },
   "outputs": [
    {
     "name": "stderr",
     "output_type": "stream",
     "text": [
      "/usr/local/lib/python3.6/dist-packages/statsmodels/tools/_testing.py:19: FutureWarning: pandas.util.testing is deprecated. Use the functions in the public API at pandas.testing instead.\n",
      "  import pandas.util.testing as tm\n"
     ]
    }
   ],
   "source": [
    "#imports\n",
    "\n",
    "import pandas as pd\n",
    "import seaborn as sn\n",
    "import pandas as pd\n",
    "import matplotlib.pyplot as plt\n",
    "import numpy as np\n",
    "from numpy import unique\n",
    "import warnings\n",
    "import plotly.graph_objects as go\n",
    "from sklearn.preprocessing import MinMaxScaler\n",
    "import sklearn.metrics\n",
    "from scipy import stats\n",
    "from sklearn.utils import shuffle\n",
    "from sklearn import decomposition\n",
    "\n",
    "from sklearn.model_selection import train_test_split\n",
    "from sklearn.neighbors import KNeighborsClassifier\n",
    "from sklearn.linear_model import LogisticRegression\n",
    "from sklearn.tree import DecisionTreeClassifier\n",
    "from sklearn.ensemble import RandomForestClassifier, GradientBoostingClassifier\n"
   ]
  },
  {
   "cell_type": "code",
   "execution_count": 0,
   "metadata": {
    "colab": {
     "base_uri": "https://localhost:8080/",
     "height": 407
    },
    "colab_type": "code",
    "id": "JJo-qVoTHItC",
    "outputId": "bba50595-4c3f-4dc6-ad93-a297587a6673"
   },
   "outputs": [
    {
     "data": {
      "text/html": [
       "<div>\n",
       "<style scoped>\n",
       "    .dataframe tbody tr th:only-of-type {\n",
       "        vertical-align: middle;\n",
       "    }\n",
       "\n",
       "    .dataframe tbody tr th {\n",
       "        vertical-align: top;\n",
       "    }\n",
       "\n",
       "    .dataframe thead th {\n",
       "        text-align: right;\n",
       "    }\n",
       "</style>\n",
       "<table border=\"1\" class=\"dataframe\">\n",
       "  <thead>\n",
       "    <tr style=\"text-align: right;\">\n",
       "      <th></th>\n",
       "      <th>fixed acidity</th>\n",
       "      <th>volatile acidity</th>\n",
       "      <th>citric acid</th>\n",
       "      <th>residual sugar</th>\n",
       "      <th>chlorides</th>\n",
       "      <th>free sulfur dioxide</th>\n",
       "      <th>total sulfur dioxide</th>\n",
       "      <th>density</th>\n",
       "      <th>pH</th>\n",
       "      <th>sulphates</th>\n",
       "      <th>alcohol</th>\n",
       "      <th>quality</th>\n",
       "    </tr>\n",
       "  </thead>\n",
       "  <tbody>\n",
       "    <tr>\n",
       "      <th>0</th>\n",
       "      <td>7.4</td>\n",
       "      <td>0.700</td>\n",
       "      <td>0.00</td>\n",
       "      <td>1.9</td>\n",
       "      <td>0.076</td>\n",
       "      <td>11.0</td>\n",
       "      <td>34.0</td>\n",
       "      <td>0.99780</td>\n",
       "      <td>3.51</td>\n",
       "      <td>0.56</td>\n",
       "      <td>9.4</td>\n",
       "      <td>5</td>\n",
       "    </tr>\n",
       "    <tr>\n",
       "      <th>1</th>\n",
       "      <td>7.8</td>\n",
       "      <td>0.880</td>\n",
       "      <td>0.00</td>\n",
       "      <td>2.6</td>\n",
       "      <td>0.098</td>\n",
       "      <td>25.0</td>\n",
       "      <td>67.0</td>\n",
       "      <td>0.99680</td>\n",
       "      <td>3.20</td>\n",
       "      <td>0.68</td>\n",
       "      <td>9.8</td>\n",
       "      <td>5</td>\n",
       "    </tr>\n",
       "    <tr>\n",
       "      <th>2</th>\n",
       "      <td>7.8</td>\n",
       "      <td>0.760</td>\n",
       "      <td>0.04</td>\n",
       "      <td>2.3</td>\n",
       "      <td>0.092</td>\n",
       "      <td>15.0</td>\n",
       "      <td>54.0</td>\n",
       "      <td>0.99700</td>\n",
       "      <td>3.26</td>\n",
       "      <td>0.65</td>\n",
       "      <td>9.8</td>\n",
       "      <td>5</td>\n",
       "    </tr>\n",
       "    <tr>\n",
       "      <th>3</th>\n",
       "      <td>11.2</td>\n",
       "      <td>0.280</td>\n",
       "      <td>0.56</td>\n",
       "      <td>1.9</td>\n",
       "      <td>0.075</td>\n",
       "      <td>17.0</td>\n",
       "      <td>60.0</td>\n",
       "      <td>0.99800</td>\n",
       "      <td>3.16</td>\n",
       "      <td>0.58</td>\n",
       "      <td>9.8</td>\n",
       "      <td>6</td>\n",
       "    </tr>\n",
       "    <tr>\n",
       "      <th>4</th>\n",
       "      <td>7.4</td>\n",
       "      <td>0.700</td>\n",
       "      <td>0.00</td>\n",
       "      <td>1.9</td>\n",
       "      <td>0.076</td>\n",
       "      <td>11.0</td>\n",
       "      <td>34.0</td>\n",
       "      <td>0.99780</td>\n",
       "      <td>3.51</td>\n",
       "      <td>0.56</td>\n",
       "      <td>9.4</td>\n",
       "      <td>5</td>\n",
       "    </tr>\n",
       "    <tr>\n",
       "      <th>...</th>\n",
       "      <td>...</td>\n",
       "      <td>...</td>\n",
       "      <td>...</td>\n",
       "      <td>...</td>\n",
       "      <td>...</td>\n",
       "      <td>...</td>\n",
       "      <td>...</td>\n",
       "      <td>...</td>\n",
       "      <td>...</td>\n",
       "      <td>...</td>\n",
       "      <td>...</td>\n",
       "      <td>...</td>\n",
       "    </tr>\n",
       "    <tr>\n",
       "      <th>1594</th>\n",
       "      <td>6.2</td>\n",
       "      <td>0.600</td>\n",
       "      <td>0.08</td>\n",
       "      <td>2.0</td>\n",
       "      <td>0.090</td>\n",
       "      <td>32.0</td>\n",
       "      <td>44.0</td>\n",
       "      <td>0.99490</td>\n",
       "      <td>3.45</td>\n",
       "      <td>0.58</td>\n",
       "      <td>10.5</td>\n",
       "      <td>5</td>\n",
       "    </tr>\n",
       "    <tr>\n",
       "      <th>1595</th>\n",
       "      <td>5.9</td>\n",
       "      <td>0.550</td>\n",
       "      <td>0.10</td>\n",
       "      <td>2.2</td>\n",
       "      <td>0.062</td>\n",
       "      <td>39.0</td>\n",
       "      <td>51.0</td>\n",
       "      <td>0.99512</td>\n",
       "      <td>3.52</td>\n",
       "      <td>0.76</td>\n",
       "      <td>11.2</td>\n",
       "      <td>6</td>\n",
       "    </tr>\n",
       "    <tr>\n",
       "      <th>1596</th>\n",
       "      <td>6.3</td>\n",
       "      <td>0.510</td>\n",
       "      <td>0.13</td>\n",
       "      <td>2.3</td>\n",
       "      <td>0.076</td>\n",
       "      <td>29.0</td>\n",
       "      <td>40.0</td>\n",
       "      <td>0.99574</td>\n",
       "      <td>3.42</td>\n",
       "      <td>0.75</td>\n",
       "      <td>11.0</td>\n",
       "      <td>6</td>\n",
       "    </tr>\n",
       "    <tr>\n",
       "      <th>1597</th>\n",
       "      <td>5.9</td>\n",
       "      <td>0.645</td>\n",
       "      <td>0.12</td>\n",
       "      <td>2.0</td>\n",
       "      <td>0.075</td>\n",
       "      <td>32.0</td>\n",
       "      <td>44.0</td>\n",
       "      <td>0.99547</td>\n",
       "      <td>3.57</td>\n",
       "      <td>0.71</td>\n",
       "      <td>10.2</td>\n",
       "      <td>5</td>\n",
       "    </tr>\n",
       "    <tr>\n",
       "      <th>1598</th>\n",
       "      <td>6.0</td>\n",
       "      <td>0.310</td>\n",
       "      <td>0.47</td>\n",
       "      <td>3.6</td>\n",
       "      <td>0.067</td>\n",
       "      <td>18.0</td>\n",
       "      <td>42.0</td>\n",
       "      <td>0.99549</td>\n",
       "      <td>3.39</td>\n",
       "      <td>0.66</td>\n",
       "      <td>11.0</td>\n",
       "      <td>6</td>\n",
       "    </tr>\n",
       "  </tbody>\n",
       "</table>\n",
       "<p>1599 rows × 12 columns</p>\n",
       "</div>"
      ],
      "text/plain": [
       "      fixed acidity  volatile acidity  citric acid  ...  sulphates  alcohol  quality\n",
       "0               7.4             0.700         0.00  ...       0.56      9.4        5\n",
       "1               7.8             0.880         0.00  ...       0.68      9.8        5\n",
       "2               7.8             0.760         0.04  ...       0.65      9.8        5\n",
       "3              11.2             0.280         0.56  ...       0.58      9.8        6\n",
       "4               7.4             0.700         0.00  ...       0.56      9.4        5\n",
       "...             ...               ...          ...  ...        ...      ...      ...\n",
       "1594            6.2             0.600         0.08  ...       0.58     10.5        5\n",
       "1595            5.9             0.550         0.10  ...       0.76     11.2        6\n",
       "1596            6.3             0.510         0.13  ...       0.75     11.0        6\n",
       "1597            5.9             0.645         0.12  ...       0.71     10.2        5\n",
       "1598            6.0             0.310         0.47  ...       0.66     11.0        6\n",
       "\n",
       "[1599 rows x 12 columns]"
      ]
     },
     "execution_count": 45,
     "metadata": {
      "tags": []
     },
     "output_type": "execute_result"
    }
   ],
   "source": [
    "#importing the red wine data set\n",
    "\n",
    "winequality_red_import = pd.read_csv('/content/drive/My Drive/winequality-red.csv',delimiter=';')\n",
    "winequality_red_import"
   ]
  },
  {
   "cell_type": "markdown",
   "metadata": {
    "colab_type": "text",
    "id": "sQEv0dCwHdrR"
   },
   "source": [
    "## 1.2. data exploration"
   ]
  },
  {
   "cell_type": "markdown",
   "metadata": {
    "colab_type": "text",
    "id": "fzU4z_aJTR0B"
   },
   "source": [
    "### 1.2.1 data cleaning"
   ]
  },
  {
   "cell_type": "code",
   "execution_count": 0,
   "metadata": {
    "colab": {
     "base_uri": "https://localhost:8080/",
     "height": 423
    },
    "colab_type": "code",
    "id": "eNxp_hn6Tzno",
    "outputId": "7938f6a6-7054-4327-9332-e763d127fef6"
   },
   "outputs": [
    {
     "name": "stdout",
     "output_type": "stream",
     "text": [
      "there were 240 duplicates\n"
     ]
    },
    {
     "data": {
      "text/html": [
       "<div>\n",
       "<style scoped>\n",
       "    .dataframe tbody tr th:only-of-type {\n",
       "        vertical-align: middle;\n",
       "    }\n",
       "\n",
       "    .dataframe tbody tr th {\n",
       "        vertical-align: top;\n",
       "    }\n",
       "\n",
       "    .dataframe thead th {\n",
       "        text-align: right;\n",
       "    }\n",
       "</style>\n",
       "<table border=\"1\" class=\"dataframe\">\n",
       "  <thead>\n",
       "    <tr style=\"text-align: right;\">\n",
       "      <th></th>\n",
       "      <th>fixed acidity</th>\n",
       "      <th>volatile acidity</th>\n",
       "      <th>citric acid</th>\n",
       "      <th>residual sugar</th>\n",
       "      <th>chlorides</th>\n",
       "      <th>free sulfur dioxide</th>\n",
       "      <th>total sulfur dioxide</th>\n",
       "      <th>density</th>\n",
       "      <th>pH</th>\n",
       "      <th>sulphates</th>\n",
       "      <th>alcohol</th>\n",
       "      <th>quality</th>\n",
       "    </tr>\n",
       "  </thead>\n",
       "  <tbody>\n",
       "    <tr>\n",
       "      <th>0</th>\n",
       "      <td>7.4</td>\n",
       "      <td>0.700</td>\n",
       "      <td>0.00</td>\n",
       "      <td>1.9</td>\n",
       "      <td>0.076</td>\n",
       "      <td>11.0</td>\n",
       "      <td>34.0</td>\n",
       "      <td>0.99780</td>\n",
       "      <td>3.51</td>\n",
       "      <td>0.56</td>\n",
       "      <td>9.4</td>\n",
       "      <td>5</td>\n",
       "    </tr>\n",
       "    <tr>\n",
       "      <th>1</th>\n",
       "      <td>7.8</td>\n",
       "      <td>0.880</td>\n",
       "      <td>0.00</td>\n",
       "      <td>2.6</td>\n",
       "      <td>0.098</td>\n",
       "      <td>25.0</td>\n",
       "      <td>67.0</td>\n",
       "      <td>0.99680</td>\n",
       "      <td>3.20</td>\n",
       "      <td>0.68</td>\n",
       "      <td>9.8</td>\n",
       "      <td>5</td>\n",
       "    </tr>\n",
       "    <tr>\n",
       "      <th>2</th>\n",
       "      <td>7.8</td>\n",
       "      <td>0.760</td>\n",
       "      <td>0.04</td>\n",
       "      <td>2.3</td>\n",
       "      <td>0.092</td>\n",
       "      <td>15.0</td>\n",
       "      <td>54.0</td>\n",
       "      <td>0.99700</td>\n",
       "      <td>3.26</td>\n",
       "      <td>0.65</td>\n",
       "      <td>9.8</td>\n",
       "      <td>5</td>\n",
       "    </tr>\n",
       "    <tr>\n",
       "      <th>3</th>\n",
       "      <td>11.2</td>\n",
       "      <td>0.280</td>\n",
       "      <td>0.56</td>\n",
       "      <td>1.9</td>\n",
       "      <td>0.075</td>\n",
       "      <td>17.0</td>\n",
       "      <td>60.0</td>\n",
       "      <td>0.99800</td>\n",
       "      <td>3.16</td>\n",
       "      <td>0.58</td>\n",
       "      <td>9.8</td>\n",
       "      <td>6</td>\n",
       "    </tr>\n",
       "    <tr>\n",
       "      <th>4</th>\n",
       "      <td>7.4</td>\n",
       "      <td>0.660</td>\n",
       "      <td>0.00</td>\n",
       "      <td>1.8</td>\n",
       "      <td>0.075</td>\n",
       "      <td>13.0</td>\n",
       "      <td>40.0</td>\n",
       "      <td>0.99780</td>\n",
       "      <td>3.51</td>\n",
       "      <td>0.56</td>\n",
       "      <td>9.4</td>\n",
       "      <td>5</td>\n",
       "    </tr>\n",
       "    <tr>\n",
       "      <th>...</th>\n",
       "      <td>...</td>\n",
       "      <td>...</td>\n",
       "      <td>...</td>\n",
       "      <td>...</td>\n",
       "      <td>...</td>\n",
       "      <td>...</td>\n",
       "      <td>...</td>\n",
       "      <td>...</td>\n",
       "      <td>...</td>\n",
       "      <td>...</td>\n",
       "      <td>...</td>\n",
       "      <td>...</td>\n",
       "    </tr>\n",
       "    <tr>\n",
       "      <th>1354</th>\n",
       "      <td>6.8</td>\n",
       "      <td>0.620</td>\n",
       "      <td>0.08</td>\n",
       "      <td>1.9</td>\n",
       "      <td>0.068</td>\n",
       "      <td>28.0</td>\n",
       "      <td>38.0</td>\n",
       "      <td>0.99651</td>\n",
       "      <td>3.42</td>\n",
       "      <td>0.82</td>\n",
       "      <td>9.5</td>\n",
       "      <td>6</td>\n",
       "    </tr>\n",
       "    <tr>\n",
       "      <th>1355</th>\n",
       "      <td>6.2</td>\n",
       "      <td>0.600</td>\n",
       "      <td>0.08</td>\n",
       "      <td>2.0</td>\n",
       "      <td>0.090</td>\n",
       "      <td>32.0</td>\n",
       "      <td>44.0</td>\n",
       "      <td>0.99490</td>\n",
       "      <td>3.45</td>\n",
       "      <td>0.58</td>\n",
       "      <td>10.5</td>\n",
       "      <td>5</td>\n",
       "    </tr>\n",
       "    <tr>\n",
       "      <th>1356</th>\n",
       "      <td>5.9</td>\n",
       "      <td>0.550</td>\n",
       "      <td>0.10</td>\n",
       "      <td>2.2</td>\n",
       "      <td>0.062</td>\n",
       "      <td>39.0</td>\n",
       "      <td>51.0</td>\n",
       "      <td>0.99512</td>\n",
       "      <td>3.52</td>\n",
       "      <td>0.76</td>\n",
       "      <td>11.2</td>\n",
       "      <td>6</td>\n",
       "    </tr>\n",
       "    <tr>\n",
       "      <th>1357</th>\n",
       "      <td>5.9</td>\n",
       "      <td>0.645</td>\n",
       "      <td>0.12</td>\n",
       "      <td>2.0</td>\n",
       "      <td>0.075</td>\n",
       "      <td>32.0</td>\n",
       "      <td>44.0</td>\n",
       "      <td>0.99547</td>\n",
       "      <td>3.57</td>\n",
       "      <td>0.71</td>\n",
       "      <td>10.2</td>\n",
       "      <td>5</td>\n",
       "    </tr>\n",
       "    <tr>\n",
       "      <th>1358</th>\n",
       "      <td>6.0</td>\n",
       "      <td>0.310</td>\n",
       "      <td>0.47</td>\n",
       "      <td>3.6</td>\n",
       "      <td>0.067</td>\n",
       "      <td>18.0</td>\n",
       "      <td>42.0</td>\n",
       "      <td>0.99549</td>\n",
       "      <td>3.39</td>\n",
       "      <td>0.66</td>\n",
       "      <td>11.0</td>\n",
       "      <td>6</td>\n",
       "    </tr>\n",
       "  </tbody>\n",
       "</table>\n",
       "<p>1359 rows × 12 columns</p>\n",
       "</div>"
      ],
      "text/plain": [
       "      fixed acidity  volatile acidity  citric acid  ...  sulphates  alcohol  quality\n",
       "0               7.4             0.700         0.00  ...       0.56      9.4        5\n",
       "1               7.8             0.880         0.00  ...       0.68      9.8        5\n",
       "2               7.8             0.760         0.04  ...       0.65      9.8        5\n",
       "3              11.2             0.280         0.56  ...       0.58      9.8        6\n",
       "4               7.4             0.660         0.00  ...       0.56      9.4        5\n",
       "...             ...               ...          ...  ...        ...      ...      ...\n",
       "1354            6.8             0.620         0.08  ...       0.82      9.5        6\n",
       "1355            6.2             0.600         0.08  ...       0.58     10.5        5\n",
       "1356            5.9             0.550         0.10  ...       0.76     11.2        6\n",
       "1357            5.9             0.645         0.12  ...       0.71     10.2        5\n",
       "1358            6.0             0.310         0.47  ...       0.66     11.0        6\n",
       "\n",
       "[1359 rows x 12 columns]"
      ]
     },
     "execution_count": 46,
     "metadata": {
      "tags": []
     },
     "output_type": "execute_result"
    }
   ],
   "source": [
    "#dropping duplicates\n",
    "\n",
    "shape1 = winequality_red_import.shape\n",
    "winequality_red = winequality_red_import.drop_duplicates() \n",
    "shape2 = winequality_red.shape\n",
    "\n",
    "print(\"there were\", shape1[0] - shape2[0], \"duplicates\")\n",
    "\n",
    "#re-indexing the rows of the dataset\n",
    "\n",
    "winequality_red = winequality_red.reset_index(drop=True) \n",
    "winequality_red"
   ]
  },
  {
   "cell_type": "markdown",
   "metadata": {
    "colab_type": "text",
    "id": "H_6jo7dP5Ckp"
   },
   "source": [
    "### 1.2.2 data visualization : Descriptive statistics"
   ]
  },
  {
   "cell_type": "code",
   "execution_count": 0,
   "metadata": {
    "colab": {
     "base_uri": "https://localhost:8080/",
     "height": 163
    },
    "colab_type": "code",
    "id": "u818L83-5HjF",
    "outputId": "96982d5d-eaaf-4288-bb0f-e98966294ef3"
   },
   "outputs": [
    {
     "data": {
      "text/plain": [
       "count    1359.000000\n",
       "mean        5.623252\n",
       "std         0.823578\n",
       "min         3.000000\n",
       "25%         5.000000\n",
       "50%         6.000000\n",
       "75%         6.000000\n",
       "max         8.000000\n",
       "Name: quality, dtype: float64"
      ]
     },
     "execution_count": 47,
     "metadata": {
      "tags": []
     },
     "output_type": "execute_result"
    }
   ],
   "source": [
    "#measures of central tendency (mean, median, mode)\n",
    "\n",
    "winequality_red['quality'].describe()"
   ]
  },
  {
   "cell_type": "markdown",
   "metadata": {
    "colab_type": "text",
    "id": "C3CendgmRyBI"
   },
   "source": [
    "**Comments :** We can see that the feature \"quality\" in the red wine dataset is mostly spread between 5 and 6, and the mean of the quality is 5.6 which will guide our choice for the binary separation later on."
   ]
  },
  {
   "cell_type": "code",
   "execution_count": 0,
   "metadata": {
    "colab": {
     "base_uri": "https://localhost:8080/",
     "height": 823
    },
    "colab_type": "code",
    "id": "9TtsyCzKgj14",
    "outputId": "ec1cb49c-9061-4784-fe13-5312a3751e24"
   },
   "outputs": [
    {
     "name": "stdout",
     "output_type": "stream",
     "text": [
      "Populating the interactive namespace from numpy and matplotlib\n"
     ]
    },
    {
     "name": "stderr",
     "output_type": "stream",
     "text": [
      "/usr/local/lib/python3.6/dist-packages/IPython/core/magics/pylab.py:161: UserWarning:\n",
      "\n",
      "pylab import has clobbered these variables: ['shuffle', 'split']\n",
      "`%matplotlib` prevents importing * from pylab and numpy\n",
      "\n"
     ]
    },
    {
     "data": {
      "text/plain": [
       "array([[<matplotlib.axes._subplots.AxesSubplot object at 0x7f9fb4111f60>,\n",
       "        <matplotlib.axes._subplots.AxesSubplot object at 0x7f9fb40c46d8>,\n",
       "        <matplotlib.axes._subplots.AxesSubplot object at 0x7f9fb4073a20>],\n",
       "       [<matplotlib.axes._subplots.AxesSubplot object at 0x7f9fb4021da0>,\n",
       "        <matplotlib.axes._subplots.AxesSubplot object at 0x7f9fb3fe0160>,\n",
       "        <matplotlib.axes._subplots.AxesSubplot object at 0x7f9fb40114e0>],\n",
       "       [<matplotlib.axes._subplots.AxesSubplot object at 0x7f9fb3fc3860>,\n",
       "        <matplotlib.axes._subplots.AxesSubplot object at 0x7f9fb3f74ba8>,\n",
       "        <matplotlib.axes._subplots.AxesSubplot object at 0x7f9fb3f74c18>],\n",
       "       [<matplotlib.axes._subplots.AxesSubplot object at 0x7f9fb3ee9320>,\n",
       "        <matplotlib.axes._subplots.AxesSubplot object at 0x7f9fb3f186a0>,\n",
       "        <matplotlib.axes._subplots.AxesSubplot object at 0x7f9fb3ecca20>]],\n",
       "      dtype=object)"
      ]
     },
     "execution_count": 48,
     "metadata": {
      "tags": []
     },
     "output_type": "execute_result"
    },
    {
     "data": {
      "text/plain": [
       "<Figure size 864x576 with 0 Axes>"
      ]
     },
     "metadata": {
      "tags": []
     },
     "output_type": "display_data"
    },
    {
     "data": {
      "image/png": "[encoded data removed]",
      "text/plain": [
       "<Figure size 864x576 with 12 Axes>"
      ]
     },
     "metadata": {
      "needs_background": "light",
      "tags": []
     },
     "output_type": "display_data"
    }
   ],
   "source": [
    "#plotting histograms to know how data is distributed \n",
    "\n",
    "column_name = [c for c in winequality_red.columns.values]\n",
    "%pylab inline\n",
    "pylab.rcParams['figure.figsize'] = (12, 8)\n",
    "length = winequality_red[column_name]\n",
    "fig = plt.figure() \n",
    "length.hist(bins=30)"
   ]
  },
  {
   "cell_type": "markdown",
   "metadata": {
    "colab_type": "text",
    "id": "LXEvUSRYNtxD"
   },
   "source": [
    "**Comments :** A large majority of the red wines have a value of quality between 5 and 7 and more precisely either 5 or 6. Thus, we decided to set the threshold to 6 to tell the difference between poor quality wines (quality < 6) and good quality wines (quality >= 6). Our problem becomes a binary classification problem : 1 if the wine is of good quality (greater than 6) and 0 otherwise (strictly lesser than 6).\n",
    "\n",
    "Furthermore we can see that the distribution of each feature is similar to a normal distribution and allows us to detect the few outliers which are the points at the extremity, far from the mean. For instance the point with a chlorides value of 0.6 is far from the area where the other points are concentrated (chlorides values around 0.1).\n",
    "\n"
   ]
  },
  {
   "cell_type": "code",
   "execution_count": 0,
   "metadata": {
    "colab": {
     "base_uri": "https://localhost:8080/",
     "height": 423
    },
    "colab_type": "code",
    "id": "e1JQ0JykoFd-",
    "outputId": "ff0f4928-81cb-43ae-d292-f633ab77442e"
   },
   "outputs": [
    {
     "data": {
      "text/html": [
       "<div>\n",
       "<style scoped>\n",
       "    .dataframe tbody tr th:only-of-type {\n",
       "        vertical-align: middle;\n",
       "    }\n",
       "\n",
       "    .dataframe tbody tr th {\n",
       "        vertical-align: top;\n",
       "    }\n",
       "\n",
       "    .dataframe thead th {\n",
       "        text-align: right;\n",
       "    }\n",
       "</style>\n",
       "<table border=\"1\" class=\"dataframe\">\n",
       "  <thead>\n",
       "    <tr style=\"text-align: right;\">\n",
       "      <th></th>\n",
       "      <th>fixed acidity</th>\n",
       "      <th>volatile acidity</th>\n",
       "      <th>citric acid</th>\n",
       "      <th>residual sugar</th>\n",
       "      <th>chlorides</th>\n",
       "      <th>free sulfur dioxide</th>\n",
       "      <th>total sulfur dioxide</th>\n",
       "      <th>density</th>\n",
       "      <th>pH</th>\n",
       "      <th>sulphates</th>\n",
       "      <th>alcohol</th>\n",
       "      <th>quality</th>\n",
       "      <th>boolean quality</th>\n",
       "    </tr>\n",
       "  </thead>\n",
       "  <tbody>\n",
       "    <tr>\n",
       "      <th>0</th>\n",
       "      <td>7.4</td>\n",
       "      <td>0.700</td>\n",
       "      <td>0.00</td>\n",
       "      <td>1.9</td>\n",
       "      <td>0.076</td>\n",
       "      <td>11.0</td>\n",
       "      <td>34.0</td>\n",
       "      <td>0.99780</td>\n",
       "      <td>3.51</td>\n",
       "      <td>0.56</td>\n",
       "      <td>9.4</td>\n",
       "      <td>5</td>\n",
       "      <td>0.0</td>\n",
       "    </tr>\n",
       "    <tr>\n",
       "      <th>1</th>\n",
       "      <td>7.8</td>\n",
       "      <td>0.880</td>\n",
       "      <td>0.00</td>\n",
       "      <td>2.6</td>\n",
       "      <td>0.098</td>\n",
       "      <td>25.0</td>\n",
       "      <td>67.0</td>\n",
       "      <td>0.99680</td>\n",
       "      <td>3.20</td>\n",
       "      <td>0.68</td>\n",
       "      <td>9.8</td>\n",
       "      <td>5</td>\n",
       "      <td>0.0</td>\n",
       "    </tr>\n",
       "    <tr>\n",
       "      <th>2</th>\n",
       "      <td>7.8</td>\n",
       "      <td>0.760</td>\n",
       "      <td>0.04</td>\n",
       "      <td>2.3</td>\n",
       "      <td>0.092</td>\n",
       "      <td>15.0</td>\n",
       "      <td>54.0</td>\n",
       "      <td>0.99700</td>\n",
       "      <td>3.26</td>\n",
       "      <td>0.65</td>\n",
       "      <td>9.8</td>\n",
       "      <td>5</td>\n",
       "      <td>0.0</td>\n",
       "    </tr>\n",
       "    <tr>\n",
       "      <th>3</th>\n",
       "      <td>11.2</td>\n",
       "      <td>0.280</td>\n",
       "      <td>0.56</td>\n",
       "      <td>1.9</td>\n",
       "      <td>0.075</td>\n",
       "      <td>17.0</td>\n",
       "      <td>60.0</td>\n",
       "      <td>0.99800</td>\n",
       "      <td>3.16</td>\n",
       "      <td>0.58</td>\n",
       "      <td>9.8</td>\n",
       "      <td>6</td>\n",
       "      <td>1.0</td>\n",
       "    </tr>\n",
       "    <tr>\n",
       "      <th>4</th>\n",
       "      <td>7.4</td>\n",
       "      <td>0.660</td>\n",
       "      <td>0.00</td>\n",
       "      <td>1.8</td>\n",
       "      <td>0.075</td>\n",
       "      <td>13.0</td>\n",
       "      <td>40.0</td>\n",
       "      <td>0.99780</td>\n",
       "      <td>3.51</td>\n",
       "      <td>0.56</td>\n",
       "      <td>9.4</td>\n",
       "      <td>5</td>\n",
       "      <td>0.0</td>\n",
       "    </tr>\n",
       "    <tr>\n",
       "      <th>...</th>\n",
       "      <td>...</td>\n",
       "      <td>...</td>\n",
       "      <td>...</td>\n",
       "      <td>...</td>\n",
       "      <td>...</td>\n",
       "      <td>...</td>\n",
       "      <td>...</td>\n",
       "      <td>...</td>\n",
       "      <td>...</td>\n",
       "      <td>...</td>\n",
       "      <td>...</td>\n",
       "      <td>...</td>\n",
       "      <td>...</td>\n",
       "    </tr>\n",
       "    <tr>\n",
       "      <th>1354</th>\n",
       "      <td>6.8</td>\n",
       "      <td>0.620</td>\n",
       "      <td>0.08</td>\n",
       "      <td>1.9</td>\n",
       "      <td>0.068</td>\n",
       "      <td>28.0</td>\n",
       "      <td>38.0</td>\n",
       "      <td>0.99651</td>\n",
       "      <td>3.42</td>\n",
       "      <td>0.82</td>\n",
       "      <td>9.5</td>\n",
       "      <td>6</td>\n",
       "      <td>1.0</td>\n",
       "    </tr>\n",
       "    <tr>\n",
       "      <th>1355</th>\n",
       "      <td>6.2</td>\n",
       "      <td>0.600</td>\n",
       "      <td>0.08</td>\n",
       "      <td>2.0</td>\n",
       "      <td>0.090</td>\n",
       "      <td>32.0</td>\n",
       "      <td>44.0</td>\n",
       "      <td>0.99490</td>\n",
       "      <td>3.45</td>\n",
       "      <td>0.58</td>\n",
       "      <td>10.5</td>\n",
       "      <td>5</td>\n",
       "      <td>0.0</td>\n",
       "    </tr>\n",
       "    <tr>\n",
       "      <th>1356</th>\n",
       "      <td>5.9</td>\n",
       "      <td>0.550</td>\n",
       "      <td>0.10</td>\n",
       "      <td>2.2</td>\n",
       "      <td>0.062</td>\n",
       "      <td>39.0</td>\n",
       "      <td>51.0</td>\n",
       "      <td>0.99512</td>\n",
       "      <td>3.52</td>\n",
       "      <td>0.76</td>\n",
       "      <td>11.2</td>\n",
       "      <td>6</td>\n",
       "      <td>1.0</td>\n",
       "    </tr>\n",
       "    <tr>\n",
       "      <th>1357</th>\n",
       "      <td>5.9</td>\n",
       "      <td>0.645</td>\n",
       "      <td>0.12</td>\n",
       "      <td>2.0</td>\n",
       "      <td>0.075</td>\n",
       "      <td>32.0</td>\n",
       "      <td>44.0</td>\n",
       "      <td>0.99547</td>\n",
       "      <td>3.57</td>\n",
       "      <td>0.71</td>\n",
       "      <td>10.2</td>\n",
       "      <td>5</td>\n",
       "      <td>0.0</td>\n",
       "    </tr>\n",
       "    <tr>\n",
       "      <th>1358</th>\n",
       "      <td>6.0</td>\n",
       "      <td>0.310</td>\n",
       "      <td>0.47</td>\n",
       "      <td>3.6</td>\n",
       "      <td>0.067</td>\n",
       "      <td>18.0</td>\n",
       "      <td>42.0</td>\n",
       "      <td>0.99549</td>\n",
       "      <td>3.39</td>\n",
       "      <td>0.66</td>\n",
       "      <td>11.0</td>\n",
       "      <td>6</td>\n",
       "      <td>1.0</td>\n",
       "    </tr>\n",
       "  </tbody>\n",
       "</table>\n",
       "<p>1359 rows × 13 columns</p>\n",
       "</div>"
      ],
      "text/plain": [
       "      fixed acidity  volatile acidity  ...  quality  boolean quality\n",
       "0               7.4             0.700  ...        5              0.0\n",
       "1               7.8             0.880  ...        5              0.0\n",
       "2               7.8             0.760  ...        5              0.0\n",
       "3              11.2             0.280  ...        6              1.0\n",
       "4               7.4             0.660  ...        5              0.0\n",
       "...             ...               ...  ...      ...              ...\n",
       "1354            6.8             0.620  ...        6              1.0\n",
       "1355            6.2             0.600  ...        5              0.0\n",
       "1356            5.9             0.550  ...        6              1.0\n",
       "1357            5.9             0.645  ...        5              0.0\n",
       "1358            6.0             0.310  ...        6              1.0\n",
       "\n",
       "[1359 rows x 13 columns]"
      ]
     },
     "execution_count": 49,
     "metadata": {
      "tags": []
     },
     "output_type": "execute_result"
    }
   ],
   "source": [
    "#turning the problem into a binary classification problem \n",
    "\n",
    "winequality_red.loc[winequality_red['quality']>=6,'boolean quality']=1\n",
    "winequality_red = winequality_red.fillna(0)\n",
    "winequality_red"
   ]
  },
  {
   "cell_type": "code",
   "execution_count": 0,
   "metadata": {
    "colab": {
     "base_uri": "https://localhost:8080/",
     "height": 606
    },
    "colab_type": "code",
    "id": "oeQXhvnTgl1_",
    "outputId": "1431d0f5-3da0-4e87-ab2a-8b26c09dd25f"
   },
   "outputs": [
    {
     "data": {
      "image/png": "[encoded data removed]",
      "text/plain": [
       "<Figure size 1008x720 with 12 Axes>"
      ]
     },
     "metadata": {
      "needs_background": "light",
      "tags": []
     },
     "output_type": "display_data"
    }
   ],
   "source": [
    "#plotting the box plots to visualize variance and outliers \n",
    "\n",
    "fig, axes = plt.subplots(3,4, figsize=(14,10))\n",
    "for i in range(11):\n",
    "  column=column_name[i]\n",
    "  data = pd.concat([winequality_red[column],winequality_red['quality']], axis=1)\n",
    "  fig1=sn.boxplot(x=column, y=\"quality\", data=data,orient=\"h\",ax=axes[i % 3, i%4])\n",
    "  fig1.axis(ymin=-1, ymax=6);\n",
    "plt.show()"
   ]
  },
  {
   "cell_type": "markdown",
   "metadata": {
    "colab_type": "text",
    "id": "ruKw_QmXT4mX"
   },
   "source": [
    "**Comments :** These box plots also indicate the variance within the dataset, underlying the possible outliers."
   ]
  },
  {
   "cell_type": "code",
   "execution_count": 0,
   "metadata": {
    "colab": {
     "base_uri": "https://localhost:8080/",
     "height": 1000
    },
    "colab_type": "code",
    "id": "IClYhuNpJ0Me",
    "outputId": "5e1bd594-002a-4152-f9c3-78b249b5cf5e"
   },
   "outputs": [
    {
     "data": {
      "image/png": "[encoded data removed]",
      "text/plain": [
       "<Figure size 720x504 with 2 Axes>"
      ]
     },
     "metadata": {
      "needs_background": "light",
      "tags": []
     },
     "output_type": "display_data"
    },
    {
     "data": {
      "text/plain": [
       "<Figure size 864x576 with 0 Axes>"
      ]
     },
     "metadata": {
      "tags": []
     },
     "output_type": "display_data"
    },
    {
     "data": {
      "image/png": "[encoded data removed]",
      "text/plain": [
       "<Figure size 720x720 with 169 Axes>"
      ]
     },
     "metadata": {
      "needs_background": "light",
      "tags": []
     },
     "output_type": "display_data"
    }
   ],
   "source": [
    "#graphical representation via scatterplots\n",
    "\n",
    "corr = winequality_red.corr()\n",
    "_, ax = plt.subplots(figsize=(10, 7))\n",
    "ax = sn.heatmap(corr, annot=True, cmap='coolwarm', square=True)\n",
    "\n",
    "plt.figure()\n",
    "\n",
    "sm = pd.plotting.scatter_matrix(winequality_red, alpha=0.05, figsize=(10,10), diagonal='kde')\n",
    "[s.xaxis.label.set_rotation(45) for s in sm.reshape(-1)]\n",
    "[s.yaxis.label.set_rotation(0) for s in sm.reshape(-1)]\n",
    "[s.get_yaxis().set_label_coords(-0.3,0.5) for s in sm.reshape(-1)]\n",
    "\n",
    "plt.show()"
   ]
  },
  {
   "cell_type": "code",
   "execution_count": 0,
   "metadata": {
    "colab": {
     "base_uri": "https://localhost:8080/",
     "height": 441
    },
    "colab_type": "code",
    "id": "LRhPulMT_YQj",
    "outputId": "9cb2b6ed-1b38-4d87-ca94-48f168b4c9b1"
   },
   "outputs": [
    {
     "data": {
      "text/plain": [
       "[Text(0, 0.5, 'density'), Text(0.5, 0, 'fixed acidity')]"
      ]
     },
     "execution_count": 13,
     "metadata": {
      "tags": []
     },
     "output_type": "execute_result"
    },
    {
     "data": {
      "image/png": "[encoded data removed]",
      "text/plain": [
       "<Figure size 1440x504 with 3 Axes>"
      ]
     },
     "metadata": {
      "needs_background": "light",
      "tags": []
     },
     "output_type": "display_data"
    }
   ],
   "source": [
    "#zooming on specific scatter plots \n",
    "\n",
    "fig, (im1, im2, im3) = plt.subplots(1, 3)\n",
    "fig.set_size_inches(20,7)\n",
    "  \n",
    "  #correlation between pH and fixed acidity (-0.69)\n",
    "\n",
    "im1.scatter(winequality_red['pH'], winequality_red['fixed acidity'])\n",
    "im1.set(xlabel='pH', ylabel='fixed acidity')\n",
    "\n",
    "  #correlation between pH and fixed acidity (0.67)\n",
    "\n",
    "im2.scatter(winequality_red['total sulfur dioxide'], winequality_red['free sulfur dioxide'])\n",
    "im2.set(xlabel='total sulfur dioxide', ylabel='free sulfur dioxide')\n",
    "\n",
    "  #correlation between chlorides and density (-0.55)\n",
    "\n",
    "im3.scatter(winequality_red['fixed acidity'], winequality_red['density'])\n",
    "im3.set(xlabel='fixed acidity', ylabel='density')\n"
   ]
  },
  {
   "cell_type": "markdown",
   "metadata": {
    "colab_type": "text",
    "id": "_q77dXshDq6T"
   },
   "source": [
    "\n",
    "Comments :\n",
    "\n",
    "We can notice that many variables are correlated between each other (3 pairs have a coefficient of correlation equal to 0.67, 1 pair at -0.69) such as fixed acidity and citric acid or fixed acidity and pH for example. We can infer that there is a redundancy of information within the dataset. This is why we will try a Principal Components Analysis (PCA) later on even if the initial dimensionality is not excessively high (11 features)."
   ]
  },
  {
   "cell_type": "code",
   "execution_count": 0,
   "metadata": {
    "colab": {
     "base_uri": "https://localhost:8080/",
     "height": 407
    },
    "colab_type": "code",
    "id": "p7dlkD5z9WVy",
    "outputId": "2dd3cb8f-b433-4373-d910-0453c0cd1a60"
   },
   "outputs": [
    {
     "data": {
      "text/html": [
       "<div>\n",
       "<style scoped>\n",
       "    .dataframe tbody tr th:only-of-type {\n",
       "        vertical-align: middle;\n",
       "    }\n",
       "\n",
       "    .dataframe tbody tr th {\n",
       "        vertical-align: top;\n",
       "    }\n",
       "\n",
       "    .dataframe thead th {\n",
       "        text-align: right;\n",
       "    }\n",
       "</style>\n",
       "<table border=\"1\" class=\"dataframe\">\n",
       "  <thead>\n",
       "    <tr style=\"text-align: right;\">\n",
       "      <th></th>\n",
       "      <th>fixed acidity</th>\n",
       "      <th>volatile acidity</th>\n",
       "      <th>citric acid</th>\n",
       "      <th>residual sugar</th>\n",
       "      <th>chlorides</th>\n",
       "      <th>free sulfur dioxide</th>\n",
       "      <th>total sulfur dioxide</th>\n",
       "      <th>density</th>\n",
       "      <th>pH</th>\n",
       "      <th>sulphates</th>\n",
       "      <th>alcohol</th>\n",
       "      <th>boolean quality</th>\n",
       "    </tr>\n",
       "  </thead>\n",
       "  <tbody>\n",
       "    <tr>\n",
       "      <th>0</th>\n",
       "      <td>7.4</td>\n",
       "      <td>0.700</td>\n",
       "      <td>0.00</td>\n",
       "      <td>1.9</td>\n",
       "      <td>0.076</td>\n",
       "      <td>11.0</td>\n",
       "      <td>34.0</td>\n",
       "      <td>0.99780</td>\n",
       "      <td>3.51</td>\n",
       "      <td>0.56</td>\n",
       "      <td>9.4</td>\n",
       "      <td>0.0</td>\n",
       "    </tr>\n",
       "    <tr>\n",
       "      <th>1</th>\n",
       "      <td>7.8</td>\n",
       "      <td>0.880</td>\n",
       "      <td>0.00</td>\n",
       "      <td>2.6</td>\n",
       "      <td>0.098</td>\n",
       "      <td>25.0</td>\n",
       "      <td>67.0</td>\n",
       "      <td>0.99680</td>\n",
       "      <td>3.20</td>\n",
       "      <td>0.68</td>\n",
       "      <td>9.8</td>\n",
       "      <td>0.0</td>\n",
       "    </tr>\n",
       "    <tr>\n",
       "      <th>2</th>\n",
       "      <td>7.8</td>\n",
       "      <td>0.760</td>\n",
       "      <td>0.04</td>\n",
       "      <td>2.3</td>\n",
       "      <td>0.092</td>\n",
       "      <td>15.0</td>\n",
       "      <td>54.0</td>\n",
       "      <td>0.99700</td>\n",
       "      <td>3.26</td>\n",
       "      <td>0.65</td>\n",
       "      <td>9.8</td>\n",
       "      <td>0.0</td>\n",
       "    </tr>\n",
       "    <tr>\n",
       "      <th>3</th>\n",
       "      <td>11.2</td>\n",
       "      <td>0.280</td>\n",
       "      <td>0.56</td>\n",
       "      <td>1.9</td>\n",
       "      <td>0.075</td>\n",
       "      <td>17.0</td>\n",
       "      <td>60.0</td>\n",
       "      <td>0.99800</td>\n",
       "      <td>3.16</td>\n",
       "      <td>0.58</td>\n",
       "      <td>9.8</td>\n",
       "      <td>1.0</td>\n",
       "    </tr>\n",
       "    <tr>\n",
       "      <th>4</th>\n",
       "      <td>7.4</td>\n",
       "      <td>0.660</td>\n",
       "      <td>0.00</td>\n",
       "      <td>1.8</td>\n",
       "      <td>0.075</td>\n",
       "      <td>13.0</td>\n",
       "      <td>40.0</td>\n",
       "      <td>0.99780</td>\n",
       "      <td>3.51</td>\n",
       "      <td>0.56</td>\n",
       "      <td>9.4</td>\n",
       "      <td>0.0</td>\n",
       "    </tr>\n",
       "    <tr>\n",
       "      <th>...</th>\n",
       "      <td>...</td>\n",
       "      <td>...</td>\n",
       "      <td>...</td>\n",
       "      <td>...</td>\n",
       "      <td>...</td>\n",
       "      <td>...</td>\n",
       "      <td>...</td>\n",
       "      <td>...</td>\n",
       "      <td>...</td>\n",
       "      <td>...</td>\n",
       "      <td>...</td>\n",
       "      <td>...</td>\n",
       "    </tr>\n",
       "    <tr>\n",
       "      <th>1354</th>\n",
       "      <td>6.8</td>\n",
       "      <td>0.620</td>\n",
       "      <td>0.08</td>\n",
       "      <td>1.9</td>\n",
       "      <td>0.068</td>\n",
       "      <td>28.0</td>\n",
       "      <td>38.0</td>\n",
       "      <td>0.99651</td>\n",
       "      <td>3.42</td>\n",
       "      <td>0.82</td>\n",
       "      <td>9.5</td>\n",
       "      <td>1.0</td>\n",
       "    </tr>\n",
       "    <tr>\n",
       "      <th>1355</th>\n",
       "      <td>6.2</td>\n",
       "      <td>0.600</td>\n",
       "      <td>0.08</td>\n",
       "      <td>2.0</td>\n",
       "      <td>0.090</td>\n",
       "      <td>32.0</td>\n",
       "      <td>44.0</td>\n",
       "      <td>0.99490</td>\n",
       "      <td>3.45</td>\n",
       "      <td>0.58</td>\n",
       "      <td>10.5</td>\n",
       "      <td>0.0</td>\n",
       "    </tr>\n",
       "    <tr>\n",
       "      <th>1356</th>\n",
       "      <td>5.9</td>\n",
       "      <td>0.550</td>\n",
       "      <td>0.10</td>\n",
       "      <td>2.2</td>\n",
       "      <td>0.062</td>\n",
       "      <td>39.0</td>\n",
       "      <td>51.0</td>\n",
       "      <td>0.99512</td>\n",
       "      <td>3.52</td>\n",
       "      <td>0.76</td>\n",
       "      <td>11.2</td>\n",
       "      <td>1.0</td>\n",
       "    </tr>\n",
       "    <tr>\n",
       "      <th>1357</th>\n",
       "      <td>5.9</td>\n",
       "      <td>0.645</td>\n",
       "      <td>0.12</td>\n",
       "      <td>2.0</td>\n",
       "      <td>0.075</td>\n",
       "      <td>32.0</td>\n",
       "      <td>44.0</td>\n",
       "      <td>0.99547</td>\n",
       "      <td>3.57</td>\n",
       "      <td>0.71</td>\n",
       "      <td>10.2</td>\n",
       "      <td>0.0</td>\n",
       "    </tr>\n",
       "    <tr>\n",
       "      <th>1358</th>\n",
       "      <td>6.0</td>\n",
       "      <td>0.310</td>\n",
       "      <td>0.47</td>\n",
       "      <td>3.6</td>\n",
       "      <td>0.067</td>\n",
       "      <td>18.0</td>\n",
       "      <td>42.0</td>\n",
       "      <td>0.99549</td>\n",
       "      <td>3.39</td>\n",
       "      <td>0.66</td>\n",
       "      <td>11.0</td>\n",
       "      <td>1.0</td>\n",
       "    </tr>\n",
       "  </tbody>\n",
       "</table>\n",
       "<p>1359 rows × 12 columns</p>\n",
       "</div>"
      ],
      "text/plain": [
       "      fixed acidity  volatile acidity  ...  alcohol  boolean quality\n",
       "0               7.4             0.700  ...      9.4              0.0\n",
       "1               7.8             0.880  ...      9.8              0.0\n",
       "2               7.8             0.760  ...      9.8              0.0\n",
       "3              11.2             0.280  ...      9.8              1.0\n",
       "4               7.4             0.660  ...      9.4              0.0\n",
       "...             ...               ...  ...      ...              ...\n",
       "1354            6.8             0.620  ...      9.5              1.0\n",
       "1355            6.2             0.600  ...     10.5              0.0\n",
       "1356            5.9             0.550  ...     11.2              1.0\n",
       "1357            5.9             0.645  ...     10.2              0.0\n",
       "1358            6.0             0.310  ...     11.0              1.0\n",
       "\n",
       "[1359 rows x 12 columns]"
      ]
     },
     "execution_count": 52,
     "metadata": {
      "tags": []
     },
     "output_type": "execute_result"
    }
   ],
   "source": [
    "#dropping the column quality\n",
    "\n",
    "winequality_red = winequality_red.drop(columns=['quality'])\n",
    "winequality_red"
   ]
  },
  {
   "cell_type": "markdown",
   "metadata": {
    "colab_type": "text",
    "id": "yobMH7l2HjSx"
   },
   "source": [
    "## 1.3 data pre-processing"
   ]
  },
  {
   "cell_type": "markdown",
   "metadata": {
    "colab_type": "text",
    "id": "rbrRIqFUK-V_"
   },
   "source": [
    "Here is the outline for the data pre-processing :\n",
    "\n",
    "1) Handling null values\n",
    "\n",
    "2) Normalising and standardising the given data\n",
    "\n",
    "3) Handling outliers\n",
    "\n",
    "4) Combining existing features resorting to PCA."
   ]
  },
  {
   "cell_type": "markdown",
   "metadata": {
    "colab_type": "text",
    "id": "Fd15Df6F5dp_"
   },
   "source": [
    "### 1.3.1 handling null values"
   ]
  },
  {
   "cell_type": "code",
   "execution_count": 0,
   "metadata": {
    "colab": {
     "base_uri": "https://localhost:8080/",
     "height": 407
    },
    "colab_type": "code",
    "id": "IuN3XF2TK_AS",
    "outputId": "38a76cf4-8fca-4cb0-b3f6-f7d52ace835e"
   },
   "outputs": [
    {
     "data": {
      "text/html": [
       "<div>\n",
       "<style scoped>\n",
       "    .dataframe tbody tr th:only-of-type {\n",
       "        vertical-align: middle;\n",
       "    }\n",
       "\n",
       "    .dataframe tbody tr th {\n",
       "        vertical-align: top;\n",
       "    }\n",
       "\n",
       "    .dataframe thead th {\n",
       "        text-align: right;\n",
       "    }\n",
       "</style>\n",
       "<table border=\"1\" class=\"dataframe\">\n",
       "  <thead>\n",
       "    <tr style=\"text-align: right;\">\n",
       "      <th></th>\n",
       "      <th>fixed acidity</th>\n",
       "      <th>volatile acidity</th>\n",
       "      <th>citric acid</th>\n",
       "      <th>residual sugar</th>\n",
       "      <th>chlorides</th>\n",
       "      <th>free sulfur dioxide</th>\n",
       "      <th>total sulfur dioxide</th>\n",
       "      <th>density</th>\n",
       "      <th>pH</th>\n",
       "      <th>sulphates</th>\n",
       "      <th>alcohol</th>\n",
       "      <th>boolean quality</th>\n",
       "    </tr>\n",
       "  </thead>\n",
       "  <tbody>\n",
       "    <tr>\n",
       "      <th>0</th>\n",
       "      <td>7.4</td>\n",
       "      <td>0.700</td>\n",
       "      <td>0.00</td>\n",
       "      <td>1.9</td>\n",
       "      <td>0.076</td>\n",
       "      <td>11.0</td>\n",
       "      <td>34.0</td>\n",
       "      <td>0.99780</td>\n",
       "      <td>3.51</td>\n",
       "      <td>0.56</td>\n",
       "      <td>9.4</td>\n",
       "      <td>0.0</td>\n",
       "    </tr>\n",
       "    <tr>\n",
       "      <th>1</th>\n",
       "      <td>7.8</td>\n",
       "      <td>0.880</td>\n",
       "      <td>0.00</td>\n",
       "      <td>2.6</td>\n",
       "      <td>0.098</td>\n",
       "      <td>25.0</td>\n",
       "      <td>67.0</td>\n",
       "      <td>0.99680</td>\n",
       "      <td>3.20</td>\n",
       "      <td>0.68</td>\n",
       "      <td>9.8</td>\n",
       "      <td>0.0</td>\n",
       "    </tr>\n",
       "    <tr>\n",
       "      <th>2</th>\n",
       "      <td>7.8</td>\n",
       "      <td>0.760</td>\n",
       "      <td>0.04</td>\n",
       "      <td>2.3</td>\n",
       "      <td>0.092</td>\n",
       "      <td>15.0</td>\n",
       "      <td>54.0</td>\n",
       "      <td>0.99700</td>\n",
       "      <td>3.26</td>\n",
       "      <td>0.65</td>\n",
       "      <td>9.8</td>\n",
       "      <td>0.0</td>\n",
       "    </tr>\n",
       "    <tr>\n",
       "      <th>3</th>\n",
       "      <td>11.2</td>\n",
       "      <td>0.280</td>\n",
       "      <td>0.56</td>\n",
       "      <td>1.9</td>\n",
       "      <td>0.075</td>\n",
       "      <td>17.0</td>\n",
       "      <td>60.0</td>\n",
       "      <td>0.99800</td>\n",
       "      <td>3.16</td>\n",
       "      <td>0.58</td>\n",
       "      <td>9.8</td>\n",
       "      <td>1.0</td>\n",
       "    </tr>\n",
       "    <tr>\n",
       "      <th>4</th>\n",
       "      <td>7.4</td>\n",
       "      <td>0.660</td>\n",
       "      <td>0.00</td>\n",
       "      <td>1.8</td>\n",
       "      <td>0.075</td>\n",
       "      <td>13.0</td>\n",
       "      <td>40.0</td>\n",
       "      <td>0.99780</td>\n",
       "      <td>3.51</td>\n",
       "      <td>0.56</td>\n",
       "      <td>9.4</td>\n",
       "      <td>0.0</td>\n",
       "    </tr>\n",
       "    <tr>\n",
       "      <th>...</th>\n",
       "      <td>...</td>\n",
       "      <td>...</td>\n",
       "      <td>...</td>\n",
       "      <td>...</td>\n",
       "      <td>...</td>\n",
       "      <td>...</td>\n",
       "      <td>...</td>\n",
       "      <td>...</td>\n",
       "      <td>...</td>\n",
       "      <td>...</td>\n",
       "      <td>...</td>\n",
       "      <td>...</td>\n",
       "    </tr>\n",
       "    <tr>\n",
       "      <th>1354</th>\n",
       "      <td>6.8</td>\n",
       "      <td>0.620</td>\n",
       "      <td>0.08</td>\n",
       "      <td>1.9</td>\n",
       "      <td>0.068</td>\n",
       "      <td>28.0</td>\n",
       "      <td>38.0</td>\n",
       "      <td>0.99651</td>\n",
       "      <td>3.42</td>\n",
       "      <td>0.82</td>\n",
       "      <td>9.5</td>\n",
       "      <td>1.0</td>\n",
       "    </tr>\n",
       "    <tr>\n",
       "      <th>1355</th>\n",
       "      <td>6.2</td>\n",
       "      <td>0.600</td>\n",
       "      <td>0.08</td>\n",
       "      <td>2.0</td>\n",
       "      <td>0.090</td>\n",
       "      <td>32.0</td>\n",
       "      <td>44.0</td>\n",
       "      <td>0.99490</td>\n",
       "      <td>3.45</td>\n",
       "      <td>0.58</td>\n",
       "      <td>10.5</td>\n",
       "      <td>0.0</td>\n",
       "    </tr>\n",
       "    <tr>\n",
       "      <th>1356</th>\n",
       "      <td>5.9</td>\n",
       "      <td>0.550</td>\n",
       "      <td>0.10</td>\n",
       "      <td>2.2</td>\n",
       "      <td>0.062</td>\n",
       "      <td>39.0</td>\n",
       "      <td>51.0</td>\n",
       "      <td>0.99512</td>\n",
       "      <td>3.52</td>\n",
       "      <td>0.76</td>\n",
       "      <td>11.2</td>\n",
       "      <td>1.0</td>\n",
       "    </tr>\n",
       "    <tr>\n",
       "      <th>1357</th>\n",
       "      <td>5.9</td>\n",
       "      <td>0.645</td>\n",
       "      <td>0.12</td>\n",
       "      <td>2.0</td>\n",
       "      <td>0.075</td>\n",
       "      <td>32.0</td>\n",
       "      <td>44.0</td>\n",
       "      <td>0.99547</td>\n",
       "      <td>3.57</td>\n",
       "      <td>0.71</td>\n",
       "      <td>10.2</td>\n",
       "      <td>0.0</td>\n",
       "    </tr>\n",
       "    <tr>\n",
       "      <th>1358</th>\n",
       "      <td>6.0</td>\n",
       "      <td>0.310</td>\n",
       "      <td>0.47</td>\n",
       "      <td>3.6</td>\n",
       "      <td>0.067</td>\n",
       "      <td>18.0</td>\n",
       "      <td>42.0</td>\n",
       "      <td>0.99549</td>\n",
       "      <td>3.39</td>\n",
       "      <td>0.66</td>\n",
       "      <td>11.0</td>\n",
       "      <td>1.0</td>\n",
       "    </tr>\n",
       "  </tbody>\n",
       "</table>\n",
       "<p>1359 rows × 12 columns</p>\n",
       "</div>"
      ],
      "text/plain": [
       "      fixed acidity  volatile acidity  ...  alcohol  boolean quality\n",
       "0               7.4             0.700  ...      9.4              0.0\n",
       "1               7.8             0.880  ...      9.8              0.0\n",
       "2               7.8             0.760  ...      9.8              0.0\n",
       "3              11.2             0.280  ...      9.8              1.0\n",
       "4               7.4             0.660  ...      9.4              0.0\n",
       "...             ...               ...  ...      ...              ...\n",
       "1354            6.8             0.620  ...      9.5              1.0\n",
       "1355            6.2             0.600  ...     10.5              0.0\n",
       "1356            5.9             0.550  ...     11.2              1.0\n",
       "1357            5.9             0.645  ...     10.2              0.0\n",
       "1358            6.0             0.310  ...     11.0              1.0\n",
       "\n",
       "[1359 rows x 12 columns]"
      ]
     },
     "execution_count": 53,
     "metadata": {
      "tags": []
     },
     "output_type": "execute_result"
    }
   ],
   "source": [
    "#we drop null values\n",
    "\n",
    "winequality_red.dropna(axis=0)"
   ]
  },
  {
   "cell_type": "markdown",
   "metadata": {
    "colab_type": "text",
    "id": "08qmIDHJU2ae"
   },
   "source": [
    "**Comments :** We can see that there is no null values."
   ]
  },
  {
   "cell_type": "markdown",
   "metadata": {
    "colab_type": "text",
    "id": "ZLJg51XW50Q9"
   },
   "source": [
    "### 1.3.2 handling inconsistent values"
   ]
  },
  {
   "cell_type": "code",
   "execution_count": 0,
   "metadata": {
    "colab": {
     "base_uri": "https://localhost:8080/",
     "height": 63
    },
    "colab_type": "code",
    "id": "SCE3Tyc3PyKM",
    "outputId": "15d1c871-f877-4e8b-8f30-a0702b51fe8c"
   },
   "outputs": [
    {
     "data": {
      "text/html": [
       "<div>\n",
       "<style scoped>\n",
       "    .dataframe tbody tr th:only-of-type {\n",
       "        vertical-align: middle;\n",
       "    }\n",
       "\n",
       "    .dataframe tbody tr th {\n",
       "        vertical-align: top;\n",
       "    }\n",
       "\n",
       "    .dataframe thead th {\n",
       "        text-align: right;\n",
       "    }\n",
       "</style>\n",
       "<table border=\"1\" class=\"dataframe\">\n",
       "  <thead>\n",
       "    <tr style=\"text-align: right;\">\n",
       "      <th></th>\n",
       "      <th>fixed acidity</th>\n",
       "      <th>volatile acidity</th>\n",
       "      <th>citric acid</th>\n",
       "      <th>residual sugar</th>\n",
       "      <th>chlorides</th>\n",
       "      <th>free sulfur dioxide</th>\n",
       "      <th>total sulfur dioxide</th>\n",
       "      <th>density</th>\n",
       "      <th>pH</th>\n",
       "      <th>sulphates</th>\n",
       "      <th>alcohol</th>\n",
       "      <th>boolean quality</th>\n",
       "    </tr>\n",
       "  </thead>\n",
       "  <tbody>\n",
       "  </tbody>\n",
       "</table>\n",
       "</div>"
      ],
      "text/plain": [
       "Empty DataFrame\n",
       "Columns: [fixed acidity, volatile acidity, citric acid, residual sugar, chlorides, free sulfur dioxide, total sulfur dioxide, density, pH, sulphates, alcohol, boolean quality]\n",
       "Index: []"
      ]
     },
     "execution_count": 62,
     "metadata": {
      "tags": []
     },
     "output_type": "execute_result"
    }
   ],
   "source": [
    "# let's check if there is some negative values of residual sugar\n",
    "\n",
    "winequality_red[winequality_red[\"residual sugar\"] < 0] "
   ]
  },
  {
   "cell_type": "code",
   "execution_count": 0,
   "metadata": {
    "colab": {
     "base_uri": "https://localhost:8080/",
     "height": 63
    },
    "colab_type": "code",
    "id": "NqAHqP42SvBM",
    "outputId": "90ae196e-58b3-473c-a8bd-14daac26f510"
   },
   "outputs": [
    {
     "data": {
      "text/html": [
       "<div>\n",
       "<style scoped>\n",
       "    .dataframe tbody tr th:only-of-type {\n",
       "        vertical-align: middle;\n",
       "    }\n",
       "\n",
       "    .dataframe tbody tr th {\n",
       "        vertical-align: top;\n",
       "    }\n",
       "\n",
       "    .dataframe thead th {\n",
       "        text-align: right;\n",
       "    }\n",
       "</style>\n",
       "<table border=\"1\" class=\"dataframe\">\n",
       "  <thead>\n",
       "    <tr style=\"text-align: right;\">\n",
       "      <th></th>\n",
       "      <th>fixed acidity</th>\n",
       "      <th>volatile acidity</th>\n",
       "      <th>citric acid</th>\n",
       "      <th>residual sugar</th>\n",
       "      <th>chlorides</th>\n",
       "      <th>free sulfur dioxide</th>\n",
       "      <th>total sulfur dioxide</th>\n",
       "      <th>density</th>\n",
       "      <th>pH</th>\n",
       "      <th>sulphates</th>\n",
       "      <th>alcohol</th>\n",
       "      <th>boolean quality</th>\n",
       "    </tr>\n",
       "  </thead>\n",
       "  <tbody>\n",
       "  </tbody>\n",
       "</table>\n",
       "</div>"
      ],
      "text/plain": [
       "Empty DataFrame\n",
       "Columns: [fixed acidity, volatile acidity, citric acid, residual sugar, chlorides, free sulfur dioxide, total sulfur dioxide, density, pH, sulphates, alcohol, boolean quality]\n",
       "Index: []"
      ]
     },
     "execution_count": 63,
     "metadata": {
      "tags": []
     },
     "output_type": "execute_result"
    }
   ],
   "source": [
    "# let's check if quatities of free sulfur dioxide are less of equal to quantities of total sulfur dioxide\n",
    "\n",
    "winequality_red[winequality_red[\"free sulfur dioxide\"] > winequality_red[\"total sulfur dioxide\"]] "
   ]
  },
  {
   "cell_type": "code",
   "execution_count": 0,
   "metadata": {
    "colab": {
     "base_uri": "https://localhost:8080/",
     "height": 63
    },
    "colab_type": "code",
    "id": "xpBieef6S47n",
    "outputId": "df1e0fe1-aa56-4ab0-9e09-d6787cd431be"
   },
   "outputs": [
    {
     "data": {
      "text/html": [
       "<div>\n",
       "<style scoped>\n",
       "    .dataframe tbody tr th:only-of-type {\n",
       "        vertical-align: middle;\n",
       "    }\n",
       "\n",
       "    .dataframe tbody tr th {\n",
       "        vertical-align: top;\n",
       "    }\n",
       "\n",
       "    .dataframe thead th {\n",
       "        text-align: right;\n",
       "    }\n",
       "</style>\n",
       "<table border=\"1\" class=\"dataframe\">\n",
       "  <thead>\n",
       "    <tr style=\"text-align: right;\">\n",
       "      <th></th>\n",
       "      <th>fixed acidity</th>\n",
       "      <th>volatile acidity</th>\n",
       "      <th>citric acid</th>\n",
       "      <th>residual sugar</th>\n",
       "      <th>chlorides</th>\n",
       "      <th>free sulfur dioxide</th>\n",
       "      <th>total sulfur dioxide</th>\n",
       "      <th>density</th>\n",
       "      <th>pH</th>\n",
       "      <th>sulphates</th>\n",
       "      <th>alcohol</th>\n",
       "      <th>boolean quality</th>\n",
       "    </tr>\n",
       "  </thead>\n",
       "  <tbody>\n",
       "  </tbody>\n",
       "</table>\n",
       "</div>"
      ],
      "text/plain": [
       "Empty DataFrame\n",
       "Columns: [fixed acidity, volatile acidity, citric acid, residual sugar, chlorides, free sulfur dioxide, total sulfur dioxide, density, pH, sulphates, alcohol, boolean quality]\n",
       "Index: []"
      ]
     },
     "execution_count": 64,
     "metadata": {
      "tags": []
     },
     "output_type": "execute_result"
    }
   ],
   "source": [
    "# let's check if there is some negative values of density\n",
    "\n",
    "winequality_red[winequality_red[\"density\"] < 0 ] "
   ]
  },
  {
   "cell_type": "markdown",
   "metadata": {
    "colab_type": "text",
    "id": "IsO-u6g-HEQe"
   },
   "source": [
    "Comments : \n",
    "\n",
    "It seems that there is no inconsistency in the dataset for this warm up challenge."
   ]
  },
  {
   "cell_type": "markdown",
   "metadata": {
    "colab_type": "text",
    "id": "PZs0peBUDPqH"
   },
   "source": [
    "### 1.3.3 normalising the given data "
   ]
  },
  {
   "cell_type": "code",
   "execution_count": 0,
   "metadata": {
    "colab": {},
    "colab_type": "code",
    "id": "ngxoZUlUymKF"
   },
   "outputs": [],
   "source": [
    "#splitting the dataset into a train dataset, a test dataset and a valid dataset\n",
    "\n",
    "from sklearn.utils import shuffle\n",
    "\n",
    "  #shffling\n",
    "\n",
    "winequality_red = shuffle(winequality_red, random_state=2) \n",
    "\n",
    "  #function for the split\n",
    "\n",
    "def split(ar, prop=[0.6, 0.1, 0.3]):\n",
    "\n",
    "  train_val_test_nb = np.round(np.array(prop)*len(ar)).astype(np.int)\n",
    "  ar_train = ar[0:train_val_test_nb[0]]\n",
    "  ar_valid = ar[train_val_test_nb[0]:train_val_test_nb[0]+train_val_test_nb[1]]\n",
    "  ar_test = ar[train_val_test_nb[0]+train_val_test_nb[1]:train_val_test_nb[0]+train_val_test_nb[1]+train_val_test_nb[2]]\n",
    "  return ar_train, ar_valid, ar_test\n",
    "\n",
    "dataset_train, dataset_valid, dataset_test = split(winequality_red)"
   ]
  },
  {
   "cell_type": "code",
   "execution_count": 0,
   "metadata": {
    "colab": {
     "base_uri": "https://localhost:8080/",
     "height": 407
    },
    "colab_type": "code",
    "id": "OWF8eC831jml",
    "outputId": "543ee069-8c98-405a-cc06-9e4fd249d623"
   },
   "outputs": [
    {
     "data": {
      "text/html": [
       "<div>\n",
       "<style scoped>\n",
       "    .dataframe tbody tr th:only-of-type {\n",
       "        vertical-align: middle;\n",
       "    }\n",
       "\n",
       "    .dataframe tbody tr th {\n",
       "        vertical-align: top;\n",
       "    }\n",
       "\n",
       "    .dataframe thead th {\n",
       "        text-align: right;\n",
       "    }\n",
       "</style>\n",
       "<table border=\"1\" class=\"dataframe\">\n",
       "  <thead>\n",
       "    <tr style=\"text-align: right;\">\n",
       "      <th></th>\n",
       "      <th>fixed acidity</th>\n",
       "      <th>volatile acidity</th>\n",
       "      <th>citric acid</th>\n",
       "      <th>residual sugar</th>\n",
       "      <th>chlorides</th>\n",
       "      <th>free sulfur dioxide</th>\n",
       "      <th>total sulfur dioxide</th>\n",
       "      <th>density</th>\n",
       "      <th>pH</th>\n",
       "      <th>sulphates</th>\n",
       "      <th>alcohol</th>\n",
       "      <th>boolean quality</th>\n",
       "    </tr>\n",
       "  </thead>\n",
       "  <tbody>\n",
       "    <tr>\n",
       "      <th>1345</th>\n",
       "      <td>6.7</td>\n",
       "      <td>0.320</td>\n",
       "      <td>0.44</td>\n",
       "      <td>2.4</td>\n",
       "      <td>0.061</td>\n",
       "      <td>24.0</td>\n",
       "      <td>34.0</td>\n",
       "      <td>0.99484</td>\n",
       "      <td>3.29</td>\n",
       "      <td>0.80</td>\n",
       "      <td>11.6</td>\n",
       "      <td>1.0</td>\n",
       "    </tr>\n",
       "    <tr>\n",
       "      <th>959</th>\n",
       "      <td>6.3</td>\n",
       "      <td>0.760</td>\n",
       "      <td>0.00</td>\n",
       "      <td>2.9</td>\n",
       "      <td>0.072</td>\n",
       "      <td>26.0</td>\n",
       "      <td>52.0</td>\n",
       "      <td>0.99379</td>\n",
       "      <td>3.51</td>\n",
       "      <td>0.60</td>\n",
       "      <td>11.5</td>\n",
       "      <td>1.0</td>\n",
       "    </tr>\n",
       "    <tr>\n",
       "      <th>71</th>\n",
       "      <td>6.8</td>\n",
       "      <td>0.785</td>\n",
       "      <td>0.00</td>\n",
       "      <td>2.4</td>\n",
       "      <td>0.104</td>\n",
       "      <td>14.0</td>\n",
       "      <td>30.0</td>\n",
       "      <td>0.99660</td>\n",
       "      <td>3.52</td>\n",
       "      <td>0.55</td>\n",
       "      <td>10.7</td>\n",
       "      <td>1.0</td>\n",
       "    </tr>\n",
       "    <tr>\n",
       "      <th>268</th>\n",
       "      <td>10.3</td>\n",
       "      <td>0.410</td>\n",
       "      <td>0.42</td>\n",
       "      <td>2.4</td>\n",
       "      <td>0.213</td>\n",
       "      <td>6.0</td>\n",
       "      <td>14.0</td>\n",
       "      <td>0.99940</td>\n",
       "      <td>3.19</td>\n",
       "      <td>0.62</td>\n",
       "      <td>9.5</td>\n",
       "      <td>1.0</td>\n",
       "    </tr>\n",
       "    <tr>\n",
       "      <th>1098</th>\n",
       "      <td>7.0</td>\n",
       "      <td>0.600</td>\n",
       "      <td>0.30</td>\n",
       "      <td>4.5</td>\n",
       "      <td>0.068</td>\n",
       "      <td>20.0</td>\n",
       "      <td>110.0</td>\n",
       "      <td>0.99914</td>\n",
       "      <td>3.30</td>\n",
       "      <td>1.17</td>\n",
       "      <td>10.2</td>\n",
       "      <td>0.0</td>\n",
       "    </tr>\n",
       "    <tr>\n",
       "      <th>...</th>\n",
       "      <td>...</td>\n",
       "      <td>...</td>\n",
       "      <td>...</td>\n",
       "      <td>...</td>\n",
       "      <td>...</td>\n",
       "      <td>...</td>\n",
       "      <td>...</td>\n",
       "      <td>...</td>\n",
       "      <td>...</td>\n",
       "      <td>...</td>\n",
       "      <td>...</td>\n",
       "      <td>...</td>\n",
       "    </tr>\n",
       "    <tr>\n",
       "      <th>48</th>\n",
       "      <td>6.6</td>\n",
       "      <td>0.500</td>\n",
       "      <td>0.04</td>\n",
       "      <td>2.1</td>\n",
       "      <td>0.068</td>\n",
       "      <td>6.0</td>\n",
       "      <td>14.0</td>\n",
       "      <td>0.99550</td>\n",
       "      <td>3.39</td>\n",
       "      <td>0.64</td>\n",
       "      <td>9.4</td>\n",
       "      <td>1.0</td>\n",
       "    </tr>\n",
       "    <tr>\n",
       "      <th>289</th>\n",
       "      <td>8.4</td>\n",
       "      <td>0.560</td>\n",
       "      <td>0.08</td>\n",
       "      <td>2.1</td>\n",
       "      <td>0.105</td>\n",
       "      <td>16.0</td>\n",
       "      <td>44.0</td>\n",
       "      <td>0.99580</td>\n",
       "      <td>3.13</td>\n",
       "      <td>0.52</td>\n",
       "      <td>11.0</td>\n",
       "      <td>0.0</td>\n",
       "    </tr>\n",
       "    <tr>\n",
       "      <th>76</th>\n",
       "      <td>7.4</td>\n",
       "      <td>0.500</td>\n",
       "      <td>0.47</td>\n",
       "      <td>2.0</td>\n",
       "      <td>0.086</td>\n",
       "      <td>21.0</td>\n",
       "      <td>73.0</td>\n",
       "      <td>0.99700</td>\n",
       "      <td>3.36</td>\n",
       "      <td>0.57</td>\n",
       "      <td>9.1</td>\n",
       "      <td>0.0</td>\n",
       "    </tr>\n",
       "    <tr>\n",
       "      <th>206</th>\n",
       "      <td>8.0</td>\n",
       "      <td>0.380</td>\n",
       "      <td>0.06</td>\n",
       "      <td>1.8</td>\n",
       "      <td>0.078</td>\n",
       "      <td>12.0</td>\n",
       "      <td>49.0</td>\n",
       "      <td>0.99625</td>\n",
       "      <td>3.37</td>\n",
       "      <td>0.52</td>\n",
       "      <td>9.9</td>\n",
       "      <td>1.0</td>\n",
       "    </tr>\n",
       "    <tr>\n",
       "      <th>1129</th>\n",
       "      <td>6.5</td>\n",
       "      <td>0.520</td>\n",
       "      <td>0.11</td>\n",
       "      <td>1.8</td>\n",
       "      <td>0.073</td>\n",
       "      <td>13.0</td>\n",
       "      <td>38.0</td>\n",
       "      <td>0.99550</td>\n",
       "      <td>3.34</td>\n",
       "      <td>0.52</td>\n",
       "      <td>9.3</td>\n",
       "      <td>0.0</td>\n",
       "    </tr>\n",
       "  </tbody>\n",
       "</table>\n",
       "<p>815 rows × 12 columns</p>\n",
       "</div>"
      ],
      "text/plain": [
       "      fixed acidity  volatile acidity  ...  alcohol  boolean quality\n",
       "1345            6.7             0.320  ...     11.6              1.0\n",
       "959             6.3             0.760  ...     11.5              1.0\n",
       "71              6.8             0.785  ...     10.7              1.0\n",
       "268            10.3             0.410  ...      9.5              1.0\n",
       "1098            7.0             0.600  ...     10.2              0.0\n",
       "...             ...               ...  ...      ...              ...\n",
       "48              6.6             0.500  ...      9.4              1.0\n",
       "289             8.4             0.560  ...     11.0              0.0\n",
       "76              7.4             0.500  ...      9.1              0.0\n",
       "206             8.0             0.380  ...      9.9              1.0\n",
       "1129            6.5             0.520  ...      9.3              0.0\n",
       "\n",
       "[815 rows x 12 columns]"
      ]
     },
     "execution_count": 55,
     "metadata": {
      "tags": []
     },
     "output_type": "execute_result"
    }
   ],
   "source": [
    "dataset_train"
   ]
  },
  {
   "cell_type": "code",
   "execution_count": 0,
   "metadata": {
    "colab": {},
    "colab_type": "code",
    "id": "sB0_6ztZSw0Z"
   },
   "outputs": [],
   "source": [
    "#normalizing each dataset with MinMaxScaler from sklearn\n",
    "\n",
    "  #train\n",
    "scaler = MinMaxScaler(feature_range=(0, 1)) #all the values of the dataset are between 0 and 1.\n",
    "dataset_train = scaler.fit_transform(dataset_train)\n",
    "dataset_train = pd.DataFrame(dataset_train)\n",
    "\n",
    "  #test\n",
    "dataset_test = scaler.fit_transform(dataset_test)\n",
    "dataset_test = pd.DataFrame(dataset_test)\n",
    "\n",
    "  #valid\n",
    "dataset_valid = scaler.fit_transform(dataset_valid)\n",
    "dataset_valid = pd.DataFrame(dataset_valid)\n",
    "\n",
    "\n",
    "#inputs and output\n",
    "Xtrain = dataset_train.iloc[:, 0:11]\n",
    "Xtest = dataset_test.iloc[:, 0:11]\n",
    "Xvalid = dataset_valid.iloc[:, 0:11]\n",
    "\n",
    "ytrain = dataset_train.iloc[:, 11]\n",
    "ytest = dataset_test.iloc[:, 11]\n",
    "yvalid = dataset_valid.iloc[:, 11]"
   ]
  },
  {
   "cell_type": "markdown",
   "metadata": {
    "colab_type": "text",
    "id": "Ib_RDn3dllb9"
   },
   "source": [
    "### 1.3.4 handling outliers"
   ]
  },
  {
   "cell_type": "markdown",
   "metadata": {
    "colab_type": "text",
    "id": "a7KUNEYiDzQR"
   },
   "source": [
    "**Comments :** We saw earlier that there could be some outliers in our dataset. We will use the zscore method to retrieve these points."
   ]
  },
  {
   "cell_type": "code",
   "execution_count": 0,
   "metadata": {
    "colab": {
     "base_uri": "https://localhost:8080/",
     "height": 245
    },
    "colab_type": "code",
    "id": "pDwCPiGX7u2c",
    "outputId": "7e70c9a8-6a5d-46ac-e2ab-7a2b92fea094"
   },
   "outputs": [
    {
     "name": "stdout",
     "output_type": "stream",
     "text": [
      "###### TRAIN #####\n",
      "outliers are located at rows : [ 15  22  29  38  43  45  45  45  52  63  68  79  97  97 101 105 147 147\n",
      " 158 160 174 182 190 202 214 223 223 223 247 247 251 251 257 262 263 271\n",
      " 314 314 329 345 345 366 367 376 382 383 383 384 411 416 421 424 428 464\n",
      " 479 479 483 490 492 495 507 510 523 534 546 551 552 556 564 613 617 630\n",
      " 633 637 662 662 670 670 671 671 680 687 704 704 711 711 711 717 717 737\n",
      " 737 737 737 738 754 768 788 804]\n",
      "number of outliers = 98\n",
      "number of rows impacted by outliers = 76\n",
      "\n",
      "###### VALIDATION #####\n",
      "outliers are located at rows : [  6   7   7  24  43  49  54  57  64  71  78  83  91 123 123]\n",
      "number of outliers = 15\n",
      "number of rows impacted by outliers = 13\n"
     ]
    }
   ],
   "source": [
    "print('###### TRAIN #####')\n",
    "  #for the training set\n",
    "z_train = np.abs(stats.zscore(Xtrain))\n",
    "threshold = 3  #common value  \n",
    "outliers_train = np.where(z_train > threshold)\n",
    "print('outliers are located at rows :', outliers_train[0])\n",
    "print('number of outliers =', len(outliers_train[0]))\n",
    "print('number of rows impacted by outliers =', len(list(set(outliers_train[0])))) #removing duplicates in the list\n",
    "#print('percentage of outliers = ', len(outliers_train[0])/Xtrain.shape[0])\n",
    "\n",
    "print('')\n",
    "print('###### VALIDATION #####')\n",
    "  #for the validation set\n",
    "z_valid = np.abs(stats.zscore(Xvalid))\n",
    "outliers_valid = np.where(z_valid > threshold)\n",
    "print('outliers are located at rows :', outliers_valid[0])\n",
    "print('number of outliers =', len(outliers_valid[0]))\n",
    "print('number of rows impacted by outliers =', len(list(set(outliers_valid[0])))) #removing duplicates in the list\n",
    "#print('percentage of outliers = ', len(outliers_valid[0])/Xvalid.shape[0])\n"
   ]
  },
  {
   "cell_type": "code",
   "execution_count": 0,
   "metadata": {
    "colab": {},
    "colab_type": "code",
    "id": "6aWsbNuTEpgB"
   },
   "outputs": [],
   "source": [
    "#dropping the rows of which outliers belong to\n",
    "\n",
    "Xtrain = Xtrain.drop(list(set(outliers_train[0])), axis=0)\n",
    "ytrain = ytrain.drop(list(set(outliers_train[0])), axis=0)\n",
    "\n",
    "Xvalid = Xvalid.drop(list(set(outliers_valid[0])), axis=0)\n",
    "yvalid = yvalid.drop(list(set(outliers_valid[0])), axis=0)\n",
    "\n",
    "#reseting the indexes after dropping outliers\n",
    "\n",
    "Xtrain = Xtrain.reset_index(drop=True)\n",
    "ytrain = ytrain.reset_index(drop=True)\n",
    "\n",
    "Xvalid = Xvalid.reset_index(drop=True)\n",
    "yvalid = yvalid.reset_index(drop=True)"
   ]
  },
  {
   "cell_type": "markdown",
   "metadata": {
    "colab_type": "text",
    "id": "sqtFqOljE1Jx"
   },
   "source": [
    "**Comments :** Removing outliers boils down to removing noise and thus decresease the probability of overfitting, this is why this step in important.\n"
   ]
  },
  {
   "cell_type": "markdown",
   "metadata": {
    "colab_type": "text",
    "id": "51wACHillwEt"
   },
   "source": [
    "### 1.3.5 combining existing features using PCA"
   ]
  },
  {
   "cell_type": "code",
   "execution_count": 0,
   "metadata": {
    "colab": {},
    "colab_type": "code",
    "id": "e-rgAJrBqv97"
   },
   "outputs": [],
   "source": [
    "inputs= winequality_red.drop(columns=['boolean quality'])\n",
    "output=winequality_red['boolean quality']"
   ]
  },
  {
   "cell_type": "code",
   "execution_count": 0,
   "metadata": {
    "colab": {
     "base_uri": "https://localhost:8080/",
     "height": 212
    },
    "colab_type": "code",
    "id": "n6YJindM7c9Q",
    "outputId": "f24d1197-fa12-4894-e48a-71ed56545b63"
   },
   "outputs": [
    {
     "data": {
      "text/plain": [
       "1345    1.0\n",
       "959     1.0\n",
       "71      1.0\n",
       "268     1.0\n",
       "1098    0.0\n",
       "       ... \n",
       "466     1.0\n",
       "299     1.0\n",
       "493     1.0\n",
       "527     1.0\n",
       "1192    1.0\n",
       "Name: boolean quality, Length: 1359, dtype: float64"
      ]
     },
     "execution_count": 34,
     "metadata": {
      "tags": []
     },
     "output_type": "execute_result"
    }
   ],
   "source": [
    "inputs\n",
    "output"
   ]
  },
  {
   "cell_type": "code",
   "execution_count": 0,
   "metadata": {
    "colab": {},
    "colab_type": "code",
    "id": "tVIUjKYL8DkJ"
   },
   "outputs": [],
   "source": [
    "inputs = inputs.reset_index(drop=True)\n",
    "output = output.reset_index(drop=True)"
   ]
  },
  {
   "cell_type": "code",
   "execution_count": 0,
   "metadata": {
    "colab": {
     "base_uri": "https://localhost:8080/",
     "height": 212
    },
    "colab_type": "code",
    "id": "uvfrPYRs-uEW",
    "outputId": "9ab5b937-2177-46f2-8eea-f550d01df97f"
   },
   "outputs": [
    {
     "data": {
      "text/plain": [
       "0       1.0\n",
       "1       1.0\n",
       "2       1.0\n",
       "3       1.0\n",
       "4       0.0\n",
       "       ... \n",
       "1354    1.0\n",
       "1355    1.0\n",
       "1356    1.0\n",
       "1357    1.0\n",
       "1358    1.0\n",
       "Name: boolean quality, Length: 1359, dtype: float64"
      ]
     },
     "execution_count": 36,
     "metadata": {
      "tags": []
     },
     "output_type": "execute_result"
    }
   ],
   "source": [
    "output"
   ]
  },
  {
   "cell_type": "code",
   "execution_count": 0,
   "metadata": {
    "colab": {
     "base_uri": "https://localhost:8080/",
     "height": 407
    },
    "colab_type": "code",
    "id": "Y-sXH9BrOr8u",
    "outputId": "b67c3cd7-7663-4c9c-bd77-bc01fd08020b"
   },
   "outputs": [
    {
     "name": "stdout",
     "output_type": "stream",
     "text": [
      "[0.9481314  0.99517676 0.99767046]\n"
     ]
    },
    {
     "data": {
      "text/html": [
       "<div>\n",
       "<style scoped>\n",
       "    .dataframe tbody tr th:only-of-type {\n",
       "        vertical-align: middle;\n",
       "    }\n",
       "\n",
       "    .dataframe tbody tr th {\n",
       "        vertical-align: top;\n",
       "    }\n",
       "\n",
       "    .dataframe thead th {\n",
       "        text-align: right;\n",
       "    }\n",
       "</style>\n",
       "<table border=\"1\" class=\"dataframe\">\n",
       "  <thead>\n",
       "    <tr style=\"text-align: right;\">\n",
       "      <th></th>\n",
       "      <th>0</th>\n",
       "      <th>1</th>\n",
       "      <th>2</th>\n",
       "    </tr>\n",
       "  </thead>\n",
       "  <tbody>\n",
       "    <tr>\n",
       "      <th>0</th>\n",
       "      <td>-10.783111</td>\n",
       "      <td>10.721972</td>\n",
       "      <td>-1.431214</td>\n",
       "    </tr>\n",
       "    <tr>\n",
       "      <th>1</th>\n",
       "      <td>7.231655</td>\n",
       "      <td>8.816540</td>\n",
       "      <td>-1.743276</td>\n",
       "    </tr>\n",
       "    <tr>\n",
       "      <th>2</th>\n",
       "      <td>-16.833012</td>\n",
       "      <td>1.804630</td>\n",
       "      <td>-1.558539</td>\n",
       "    </tr>\n",
       "    <tr>\n",
       "      <th>3</th>\n",
       "      <td>-34.188404</td>\n",
       "      <td>-2.661808</td>\n",
       "      <td>1.801469</td>\n",
       "    </tr>\n",
       "    <tr>\n",
       "      <th>4</th>\n",
       "      <td>62.600669</td>\n",
       "      <td>-9.532819</td>\n",
       "      <td>-0.796843</td>\n",
       "    </tr>\n",
       "    <tr>\n",
       "      <th>...</th>\n",
       "      <td>...</td>\n",
       "      <td>...</td>\n",
       "      <td>...</td>\n",
       "    </tr>\n",
       "    <tr>\n",
       "      <th>1354</th>\n",
       "      <td>-35.378189</td>\n",
       "      <td>-3.359106</td>\n",
       "      <td>-0.507411</td>\n",
       "    </tr>\n",
       "    <tr>\n",
       "      <th>1355</th>\n",
       "      <td>-16.625519</td>\n",
       "      <td>-6.547608</td>\n",
       "      <td>3.313811</td>\n",
       "    </tr>\n",
       "    <tr>\n",
       "      <th>1356</th>\n",
       "      <td>-4.044875</td>\n",
       "      <td>4.133973</td>\n",
       "      <td>-2.120754</td>\n",
       "    </tr>\n",
       "    <tr>\n",
       "      <th>1357</th>\n",
       "      <td>7.227878</td>\n",
       "      <td>8.748324</td>\n",
       "      <td>0.864462</td>\n",
       "    </tr>\n",
       "    <tr>\n",
       "      <th>1358</th>\n",
       "      <td>-12.079317</td>\n",
       "      <td>4.837008</td>\n",
       "      <td>-0.676061</td>\n",
       "    </tr>\n",
       "  </tbody>\n",
       "</table>\n",
       "<p>1359 rows × 3 columns</p>\n",
       "</div>"
      ],
      "text/plain": [
       "              0          1         2\n",
       "0    -10.783111  10.721972 -1.431214\n",
       "1      7.231655   8.816540 -1.743276\n",
       "2    -16.833012   1.804630 -1.558539\n",
       "3    -34.188404  -2.661808  1.801469\n",
       "4     62.600669  -9.532819 -0.796843\n",
       "...         ...        ...       ...\n",
       "1354 -35.378189  -3.359106 -0.507411\n",
       "1355 -16.625519  -6.547608  3.313811\n",
       "1356  -4.044875   4.133973 -2.120754\n",
       "1357   7.227878   8.748324  0.864462\n",
       "1358 -12.079317   4.837008 -0.676061\n",
       "\n",
       "[1359 rows x 3 columns]"
      ]
     },
     "execution_count": 37,
     "metadata": {
      "tags": []
     },
     "output_type": "execute_result"
    }
   ],
   "source": [
    "#PCA\n",
    "\n",
    "pca = decomposition.PCA(n_components=3)\n",
    "principal_components = pca.fit_transform(inputs)\n",
    "principal_components = pd.DataFrame(principal_components)\n",
    "\n",
    "print(pca.explained_variance_ratio_.cumsum())\n",
    "\n",
    "principal_components\n"
   ]
  },
  {
   "cell_type": "markdown",
   "metadata": {
    "colab_type": "text",
    "id": "M_tMpXho3VBj"
   },
   "source": [
    "**Comments :** We can see that the first principal component (PC1) contains 94.8% of the information carried by the data set, the second principal component (PC2) contains 99.5% of the information etc. This is why PCA could be interesting in our case even if the initial dimentinality (11 features) is not excessive. In order to warm up, we decided to try PCA for some algorithms."
   ]
  },
  {
   "cell_type": "code",
   "execution_count": 0,
   "metadata": {
    "colab": {
     "base_uri": "https://localhost:8080/",
     "height": 391
    },
    "colab_type": "code",
    "id": "-OFUUzr3TVf-",
    "outputId": "e947ca40-887e-4da9-e89b-f662b452a705"
   },
   "outputs": [
    {
     "data": {
      "text/html": [
       "<div>\n",
       "<style scoped>\n",
       "    .dataframe tbody tr th:only-of-type {\n",
       "        vertical-align: middle;\n",
       "    }\n",
       "\n",
       "    .dataframe tbody tr th {\n",
       "        vertical-align: top;\n",
       "    }\n",
       "\n",
       "    .dataframe thead th {\n",
       "        text-align: right;\n",
       "    }\n",
       "</style>\n",
       "<table border=\"1\" class=\"dataframe\">\n",
       "  <thead>\n",
       "    <tr style=\"text-align: right;\">\n",
       "      <th></th>\n",
       "      <th>0</th>\n",
       "      <th>1</th>\n",
       "      <th>2</th>\n",
       "      <th>boolean quality</th>\n",
       "    </tr>\n",
       "  </thead>\n",
       "  <tbody>\n",
       "    <tr>\n",
       "      <th>0</th>\n",
       "      <td>-10.783111</td>\n",
       "      <td>10.721972</td>\n",
       "      <td>-1.431214</td>\n",
       "      <td>1.0</td>\n",
       "    </tr>\n",
       "    <tr>\n",
       "      <th>1</th>\n",
       "      <td>7.231655</td>\n",
       "      <td>8.816540</td>\n",
       "      <td>-1.743276</td>\n",
       "      <td>1.0</td>\n",
       "    </tr>\n",
       "    <tr>\n",
       "      <th>2</th>\n",
       "      <td>-16.833012</td>\n",
       "      <td>1.804630</td>\n",
       "      <td>-1.558539</td>\n",
       "      <td>1.0</td>\n",
       "    </tr>\n",
       "    <tr>\n",
       "      <th>3</th>\n",
       "      <td>-34.188404</td>\n",
       "      <td>-2.661808</td>\n",
       "      <td>1.801469</td>\n",
       "      <td>1.0</td>\n",
       "    </tr>\n",
       "    <tr>\n",
       "      <th>4</th>\n",
       "      <td>62.600669</td>\n",
       "      <td>-9.532819</td>\n",
       "      <td>-0.796843</td>\n",
       "      <td>0.0</td>\n",
       "    </tr>\n",
       "    <tr>\n",
       "      <th>...</th>\n",
       "      <td>...</td>\n",
       "      <td>...</td>\n",
       "      <td>...</td>\n",
       "      <td>...</td>\n",
       "    </tr>\n",
       "    <tr>\n",
       "      <th>1354</th>\n",
       "      <td>-35.378189</td>\n",
       "      <td>-3.359106</td>\n",
       "      <td>-0.507411</td>\n",
       "      <td>1.0</td>\n",
       "    </tr>\n",
       "    <tr>\n",
       "      <th>1355</th>\n",
       "      <td>-16.625519</td>\n",
       "      <td>-6.547608</td>\n",
       "      <td>3.313811</td>\n",
       "      <td>1.0</td>\n",
       "    </tr>\n",
       "    <tr>\n",
       "      <th>1356</th>\n",
       "      <td>-4.044875</td>\n",
       "      <td>4.133973</td>\n",
       "      <td>-2.120754</td>\n",
       "      <td>1.0</td>\n",
       "    </tr>\n",
       "    <tr>\n",
       "      <th>1357</th>\n",
       "      <td>7.227878</td>\n",
       "      <td>8.748324</td>\n",
       "      <td>0.864462</td>\n",
       "      <td>1.0</td>\n",
       "    </tr>\n",
       "    <tr>\n",
       "      <th>1358</th>\n",
       "      <td>-12.079317</td>\n",
       "      <td>4.837008</td>\n",
       "      <td>-0.676061</td>\n",
       "      <td>1.0</td>\n",
       "    </tr>\n",
       "  </tbody>\n",
       "</table>\n",
       "<p>1359 rows × 4 columns</p>\n",
       "</div>"
      ],
      "text/plain": [
       "              0          1         2  boolean quality\n",
       "0    -10.783111  10.721972 -1.431214              1.0\n",
       "1      7.231655   8.816540 -1.743276              1.0\n",
       "2    -16.833012   1.804630 -1.558539              1.0\n",
       "3    -34.188404  -2.661808  1.801469              1.0\n",
       "4     62.600669  -9.532819 -0.796843              0.0\n",
       "...         ...        ...       ...              ...\n",
       "1354 -35.378189  -3.359106 -0.507411              1.0\n",
       "1355 -16.625519  -6.547608  3.313811              1.0\n",
       "1356  -4.044875   4.133973 -2.120754              1.0\n",
       "1357   7.227878   8.748324  0.864462              1.0\n",
       "1358 -12.079317   4.837008 -0.676061              1.0\n",
       "\n",
       "[1359 rows x 4 columns]"
      ]
     },
     "execution_count": 38,
     "metadata": {
      "tags": []
     },
     "output_type": "execute_result"
    }
   ],
   "source": [
    "dataset_PCA = pd.concat([principal_components, output], axis=1)\n",
    "dataset_PCA"
   ]
  },
  {
   "cell_type": "markdown",
   "metadata": {
    "colab_type": "text",
    "id": "O1lvr47ipGnv"
   },
   "source": [
    "We now will split the dataset into : \n",
    "- The traning set\n",
    "- The testing set\n",
    "- The validation set\n",
    "\n",
    "We use the same function as we did before i.e split."
   ]
  },
  {
   "cell_type": "code",
   "execution_count": 0,
   "metadata": {
    "colab": {},
    "colab_type": "code",
    "id": "J-dq08ATpyrQ"
   },
   "outputs": [],
   "source": [
    "dataset_PCA_train, dataset_PCA_valid, dataset_PCA_test = split(dataset_PCA)"
   ]
  },
  {
   "cell_type": "code",
   "execution_count": 0,
   "metadata": {
    "colab": {},
    "colab_type": "code",
    "id": "4fnRR47x_fot"
   },
   "outputs": [],
   "source": [
    "#We normalize each dataset exactly as before\n",
    "\n",
    "  #train PCA\n",
    "scaler = MinMaxScaler(feature_range=(0, 1)) #all the values of the dataset are between 0 and 1.\n",
    "dataset_PCA_train = scaler.fit_transform(dataset_PCA_train)\n",
    "dataset_PCA_train = pd.DataFrame(dataset_PCA_train)\n",
    "\n",
    "  #test PCA\n",
    "dataset_PCA_test = scaler.fit_transform(dataset_PCA_test)\n",
    "dataset_PCA_test = pd.DataFrame(dataset_PCA_test)\n",
    "\n",
    "  #valid PCA\n",
    "dataset_PCA_valid = scaler.fit_transform(dataset_PCA_valid)\n",
    "dataset_PCA_valid = pd.DataFrame(dataset_PCA_valid)\n",
    "\n",
    "\n",
    "#Then we create the inputs and output for PCA\n",
    "Xtrain_pca = dataset_PCA_train.iloc[:, 0:3]\n",
    "Xtest_pca = dataset_PCA_test.iloc[:, 0:3]\n",
    "Xvalid_pca = dataset_PCA_valid.iloc[:, 0:3]\n",
    "\n",
    "ytrain_pca = dataset_PCA_train.iloc[:, 3]\n",
    "ytest_pca = dataset_PCA_test.iloc[:, 3]\n",
    "yvalid_pca = dataset_PCA_valid.iloc[:, 3]"
   ]
  },
  {
   "cell_type": "code",
   "execution_count": 0,
   "metadata": {
    "colab": {},
    "colab_type": "code",
    "id": "oQ0Ht49qDdLG"
   },
   "outputs": [],
   "source": [
    "#exporting to CSV\n",
    "\n",
    "#no pca\n",
    "\n",
    "Xtrain.to_csv('Xtrain.csv')\n",
    "Xtest.to_csv('Xtest.csv')\n",
    "Xvalid.to_csv('Xvalid.csv')\n",
    "\n",
    "ytrain.to_csv('ytrain.csv')\n",
    "ytest.to_csv('ytest.csv')\n",
    "yvalid.to_csv('yvalid.csv')\n",
    "\n",
    "#pca\n",
    "\n",
    "Xtrain_pca.to_csv('Xtrain_pca.csv')\n",
    "Xtest_pca.to_csv('Xtest_pca.csv')\n",
    "Xvalid_pca.to_csv('Xvalid_pca.csv')\n",
    "\n",
    "ytrain_pca.to_csv('ytrain_pca.csv')\n",
    "ytest_pca.to_csv('ytest_pca.csv')\n",
    "yvalid_pca.to_csv('yvalid_pca.csv')\n"
   ]
  },
  {
   "cell_type": "markdown",
   "metadata": {
    "colab_type": "text",
    "id": "muvAreRBgXx0"
   },
   "source": [
    "# **2. Models**"
   ]
  },
  {
   "cell_type": "code",
   "execution_count": 0,
   "metadata": {
    "colab": {},
    "colab_type": "code",
    "id": "yQYh4QSf7gmF"
   },
   "outputs": [],
   "source": [
    "#no PCA\n",
    "\n",
    "Xtrain = pd.read_csv('/content/drive/My Drive/Colab_Notebooks/IO/Xtrain.csv').drop(columns=['Unnamed: 0'])\n",
    "Xtest = pd.read_csv('/content/drive/My Drive/Colab_Notebooks/IO/Xtest.csv').drop(columns=['Unnamed: 0'])\n",
    "Xvalid = pd.read_csv('/content/drive/My Drive/Colab_Notebooks/IO/Xvalid.csv').drop(columns=['Unnamed: 0'])\n",
    "\n",
    "ytrain = pd.read_csv('/content/drive/My Drive/Colab_Notebooks/IO/ytrain.csv').drop(columns=['Unnamed: 0'])\n",
    "ytest = pd.read_csv('/content/drive/My Drive/Colab_Notebooks/IO/ytest.csv').drop(columns=['Unnamed: 0'])\n",
    "yvalid = pd.read_csv('/content/drive/My Drive/Colab_Notebooks/IO/yvalid.csv').drop(columns=['Unnamed: 0'])\n",
    "\n",
    "ytrain = np.ravel(ytrain)\n",
    "ytest = np.ravel(ytest)\n",
    "yvalid = np.ravel(yvalid)\n",
    "\n",
    "#PCA\n",
    "\n",
    "Xtrain_pca = pd.read_csv('/content/drive/My Drive/Colab_Notebooks/IO_PCA/Xtrain_pca.csv').drop(columns=['Unnamed: 0'])\n",
    "Xtest_pca = pd.read_csv('/content/drive/My Drive/Colab_Notebooks/IO_PCA/Xtest_pca.csv').drop(columns=['Unnamed: 0'])\n",
    "Xvalid_pca = pd.read_csv('/content/drive/My Drive/Colab_Notebooks/IO_PCA/Xvalid_pca.csv').drop(columns=['Unnamed: 0'])\n",
    "\n",
    "ytrain_pca = pd.read_csv('/content/drive/My Drive/Colab_Notebooks/IO_PCA/ytrain_pca.csv').drop(columns=['Unnamed: 0'])\n",
    "ytest_pca = pd.read_csv('/content/drive/My Drive/Colab_Notebooks/IO_PCA/ytest_pca.csv').drop(columns=['Unnamed: 0'])\n",
    "yvalid_pca = pd.read_csv('/content/drive/My Drive/Colab_Notebooks/IO_PCA/yvalid_pca.csv').drop(columns=['Unnamed: 0'])\n",
    "\n",
    "ytrain_pca = np.ravel(ytrain_pca)\n",
    "ytest_pca = np.ravel(ytest_pca)\n",
    "yvalid_pca = np.ravel(yvalid_pca)"
   ]
  },
  {
   "cell_type": "markdown",
   "metadata": {
    "colab_type": "text",
    "id": "BbxHenSmGb9L"
   },
   "source": [
    "The sets use are those available on the Drive. I will try all algorithm with on two dataset: the one on which we don't apply PCA, and the one on which PCA have been applied. We work with the <b>log loss measure</b>, computable thank to the function _sklearn.metrics.log_loss(y\\_true, y\\_pred)_."
   ]
  },
  {
   "cell_type": "markdown",
   "metadata": {
    "colab_type": "text",
    "id": "bfJyighLOmzZ"
   },
   "source": [
    "## 2.1. _KNN_"
   ]
  },
  {
   "cell_type": "markdown",
   "metadata": {
    "colab_type": "text",
    "id": "8xQphd5BFwZc"
   },
   "source": [
    "It is well know that KNN does not performs very well, but let's see what he can do by giving different number of nearest neighbors to take into account."
   ]
  },
  {
   "cell_type": "markdown",
   "metadata": {
    "colab_type": "text",
    "id": "oH_7_yvrO2k5"
   },
   "source": [
    "#### 2.a.i. Without PCA"
   ]
  },
  {
   "cell_type": "code",
   "execution_count": 0,
   "metadata": {
    "colab": {
     "base_uri": "https://localhost:8080/",
     "height": 887
    },
    "colab_type": "code",
    "id": "X2OHphrvFxFN",
    "outputId": "72c68ec1-2bb0-425a-aea8-a43bad9c0dba"
   },
   "outputs": [
    {
     "name": "stdout",
     "output_type": "stream",
     "text": [
      "Log loss on the validation set: 11.9773 with an accuracy of: accuracy of: 0.6532 obtained with  1  nearest neighbors\n",
      "Log loss on the validation set: 13.9270 with an accuracy of: accuracy of: 0.5968 obtained with  2  nearest neighbors\n",
      "Log loss on the validation set: 11.6987 with an accuracy of: accuracy of: 0.6613 obtained with  3  nearest neighbors\n",
      "Log loss on the validation set: 11.6987 with an accuracy of: accuracy of: 0.6613 obtained with  4  nearest neighbors\n",
      "Log loss on the validation set: 10.3060 with an accuracy of: accuracy of: 0.7016 obtained with  5  nearest neighbors\n",
      "Log loss on the validation set: 10.0275 with an accuracy of: accuracy of: 0.7097 obtained with  6  nearest neighbors\n",
      "Log loss on the validation set: 10.0275 with an accuracy of: accuracy of: 0.7097 obtained with  7  nearest neighbors\n",
      "Log loss on the validation set: 9.7489 with an accuracy of: accuracy of: 0.7177 obtained with  8  nearest neighbors\n",
      "Log loss on the validation set: 8.6348 with an accuracy of: accuracy of: 0.7500 obtained with  9  nearest neighbors\n",
      "Log loss on the validation set: 9.1918 with an accuracy of: accuracy of: 0.7339 obtained with  10  nearest neighbors\n",
      "Log loss on the validation set: 9.1919 with an accuracy of: accuracy of: 0.7339 obtained with  11  nearest neighbors\n",
      "Log loss on the validation set: 9.4704 with an accuracy of: accuracy of: 0.7258 obtained with  12  nearest neighbors\n",
      "Log loss on the validation set: 10.0275 with an accuracy of: accuracy of: 0.7097 obtained with  13  nearest neighbors\n",
      "Log loss on the validation set: 9.4704 with an accuracy of: accuracy of: 0.7258 obtained with  14  nearest neighbors\n",
      "Log loss on the validation set: 9.4704 with an accuracy of: accuracy of: 0.7258 obtained with  15  nearest neighbors\n",
      "Log loss on the validation set: 9.4704 with an accuracy of: accuracy of: 0.7258 obtained with  16  nearest neighbors\n",
      "Log loss on the validation set: 9.4704 with an accuracy of: accuracy of: 0.7258 obtained with  17  nearest neighbors\n",
      "Log loss on the validation set: 9.4704 with an accuracy of: accuracy of: 0.7258 obtained with  18  nearest neighbors\n",
      "Log loss on the validation set: 9.7489 with an accuracy of: accuracy of: 0.7177 obtained with  19  nearest neighbors\n",
      "Log loss on the validation set: 9.1918 with an accuracy of: accuracy of: 0.7339 obtained with  20  nearest neighbors\n",
      "Log loss on the validation set: 8.6348 with an accuracy of: accuracy of: 0.7500 obtained with  21  nearest neighbors\n",
      "Log loss on the validation set: 8.3562 with an accuracy of: accuracy of: 0.7581 obtained with  22  nearest neighbors\n",
      "Log loss on the validation set: 8.3562 with an accuracy of: accuracy of: 0.7581 obtained with  23  nearest neighbors\n",
      "Log loss on the validation set: 8.3562 with an accuracy of: accuracy of: 0.7581 obtained with  24  nearest neighbors\n",
      "Log loss on the validation set: 8.6348 with an accuracy of: accuracy of: 0.7500 obtained with  25  nearest neighbors\n",
      "Log loss on the validation set: 9.1918 with an accuracy of: accuracy of: 0.7339 obtained with  26  nearest neighbors\n",
      "Log loss on the validation set: 9.4704 with an accuracy of: accuracy of: 0.7258 obtained with  27  nearest neighbors\n",
      "Log loss on the validation set: 9.1918 with an accuracy of: accuracy of: 0.7339 obtained with  28  nearest neighbors\n",
      "Log loss on the validation set: 9.1918 with an accuracy of: accuracy of: 0.7339 obtained with  29  nearest neighbors\n",
      "Log loss on the validation set: 8.6348 with an accuracy of: accuracy of: 0.7500 obtained with  30  nearest neighbors\n",
      "Log loss on the validation set: 8.9133 with an accuracy of: accuracy of: 0.7419 obtained with  31  nearest neighbors\n",
      "Log loss on the validation set: 8.9133 with an accuracy of: accuracy of: 0.7419 obtained with  32  nearest neighbors\n",
      "Log loss on the validation set: 8.9133 with an accuracy of: accuracy of: 0.7419 obtained with  33  nearest neighbors\n",
      "Log loss on the validation set: 9.1918 with an accuracy of: accuracy of: 0.7339 obtained with  34  nearest neighbors\n",
      "Log loss on the validation set: 8.3562 with an accuracy of: accuracy of: 0.7581 obtained with  35  nearest neighbors\n",
      "Log loss on the validation set: 8.6348 with an accuracy of: accuracy of: 0.7500 obtained with  36  nearest neighbors\n",
      "Log loss on the validation set: 8.9133 with an accuracy of: accuracy of: 0.7419 obtained with  37  nearest neighbors\n",
      "Log loss on the validation set: 8.9133 with an accuracy of: accuracy of: 0.7419 obtained with  38  nearest neighbors\n",
      "Log loss on the validation set: 8.6348 with an accuracy of: accuracy of: 0.7500 obtained with  39  nearest neighbors\n",
      "Log loss on the validation set: 8.9133 with an accuracy of: accuracy of: 0.7419 obtained with  40  nearest neighbors\n",
      "Log loss on the validation set: 8.6348 with an accuracy of: accuracy of: 0.7500 obtained with  41  nearest neighbors\n",
      "Log loss on the validation set: 8.3562 with an accuracy of: accuracy of: 0.7581 obtained with  42  nearest neighbors\n",
      "Log loss on the validation set: 8.3562 with an accuracy of: accuracy of: 0.7581 obtained with  43  nearest neighbors\n",
      "Log loss on the validation set: 8.6348 with an accuracy of: accuracy of: 0.7500 obtained with  44  nearest neighbors\n",
      "Log loss on the validation set: 8.3562 with an accuracy of: accuracy of: 0.7581 obtained with  45  nearest neighbors\n",
      "Log loss on the validation set: 8.9133 with an accuracy of: accuracy of: 0.7419 obtained with  46  nearest neighbors\n",
      "Log loss on the validation set: 9.1919 with an accuracy of: accuracy of: 0.7339 obtained with  47  nearest neighbors\n",
      "Log loss on the validation set: 8.9133 with an accuracy of: accuracy of: 0.7419 obtained with  48  nearest neighbors\n",
      "Log loss on the validation set: 9.4704 with an accuracy of: accuracy of: 0.7258 obtained with  49  nearest neighbors\n",
      "Log loss on the validation set: 9.4704 with an accuracy of: accuracy of: 0.7258 obtained with  50  nearest neighbors\n"
     ]
    }
   ],
   "source": [
    "n_neighbors = []\n",
    "log_losses = []\n",
    "accuracies = []\n",
    "\n",
    "for i in range (1,51):\n",
    "    n_neighbors.append(i)\n",
    "    knn = KNeighborsClassifier(n_neighbors = i)\n",
    "    knn.fit(Xtrain, ytrain)\n",
    "    y_pred = knn.predict(Xvalid)\n",
    "    log_loss = sklearn.metrics.log_loss(yvalid, y_pred)\n",
    "    accuracy = np.mean(y_pred == yvalid)\n",
    "    log_losses.append(log_loss)\n",
    "    accuracies.append(accuracy)\n",
    "    print('Log loss on the validation set: %.4f' % log_loss, 'with an accuracy of: accuracy of: %.4f' % accuracy,  'obtained with ', i, ' nearest neighbors')"
   ]
  },
  {
   "cell_type": "code",
   "execution_count": 0,
   "metadata": {
    "colab": {
     "base_uri": "https://localhost:8080/",
     "height": 54
    },
    "colab_type": "code",
    "id": "0ib-Bm5XPIa6",
    "outputId": "48c171ec-4f49-433f-8e9a-bba946104cf8"
   },
   "outputs": [
    {
     "name": "stdout",
     "output_type": "stream",
     "text": [
      "Minimum log loss on the validation set of 8.36 with an accuracy of 0.7581 obtained with  22  nearest neighbors\n"
     ]
    }
   ],
   "source": [
    "min_log_loss = min(log_losses)\n",
    "n_neigbors = np.argmin(log_losses) + 1\n",
    "accuracy = accuracies[np.argmin(log_losses)]\n",
    "print('Minimum log loss on the validation set of %.2f' % min_log_loss, 'with an accuracy of %.4f' % accuracy,  'obtained with ', n_neigbors, ' nearest neighbors')"
   ]
  },
  {
   "cell_type": "markdown",
   "metadata": {
    "colab_type": "text",
    "id": "X-0nriANPMIS"
   },
   "source": [
    "As we want to minimize the log loss, we choose the number of neighbors that minimizes this metric. This minimum of <b>8.36</b> is reached with 22 nearest neighbors, and the associated accuracy is 75.81%. As expected, we can do better."
   ]
  },
  {
   "cell_type": "markdown",
   "metadata": {
    "colab_type": "text",
    "id": "KHEQLT8gPWIE"
   },
   "source": [
    "#### 2.b.ii. With PCA"
   ]
  },
  {
   "cell_type": "code",
   "execution_count": 0,
   "metadata": {
    "colab": {},
    "colab_type": "code",
    "id": "ybleFJylPZ6l"
   },
   "outputs": [],
   "source": [
    "# KNN on the dataset with PCA\n",
    "n_neighbors_pca = []\n",
    "log_losses_pca = []\n",
    "accuracies_pca = []\n",
    "\n",
    "for i in range (1,51):\n",
    "    n_neighbors_pca.append(i)\n",
    "    knn = KNeighborsClassifier(n_neighbors = i)\n",
    "    knn.fit(Xtrain_pca, ytrain_pca)\n",
    "    y_pred = knn.predict(Xvalid_pca)\n",
    "    log_loss_pca = sklearn.metrics.log_loss(yvalid_pca, y_pred)\n",
    "    accuracy_pca = np.mean(y_pred == yvalid_pca)\n",
    "    log_losses_pca.append(log_loss_pca)\n",
    "    accuracies_pca.append(accuracy_pca)"
   ]
  },
  {
   "cell_type": "code",
   "execution_count": 0,
   "metadata": {
    "colab": {
     "base_uri": "https://localhost:8080/",
     "height": 34
    },
    "colab_type": "code",
    "id": "2KTQWoC2Pd_H",
    "outputId": "cc6a59d8-2d5c-4bf3-d911-41b4120c0fc1"
   },
   "outputs": [
    {
     "name": "stdout",
     "output_type": "stream",
     "text": [
      "Minimum log loss on the validation set of 13.46 with an accuracy of 0.6103 obtained with  6  nearest neighbors\n"
     ]
    }
   ],
   "source": [
    "min_log_loss_pca = min(log_losses_pca)\n",
    "n_neigbors_pca = np.argmin(log_losses_pca) + 1\n",
    "accuracy_pca = accuracies_pca[np.argmin(log_losses_pca)]\n",
    "print('Minimum log loss on the validation set of %.2f' % min_log_loss_pca, 'with an accuracy of %.4f' % accuracy_pca,  'obtained with ', n_neigbors_pca, ' nearest neighbors')"
   ]
  },
  {
   "cell_type": "markdown",
   "metadata": {
    "colab_type": "text",
    "id": "9PfF8VbkPgZg"
   },
   "source": [
    "We can see that the results are much less good when using PCA as the log loss is now **13.46** (compared to 8.36 without PCA), and the accuracy is 61.06% (compared to 75.81%). Using the set without PCA is, for KNN, better. "
   ]
  },
  {
   "cell_type": "markdown",
   "metadata": {
    "colab_type": "text",
    "id": "hfCUFAviPnPF"
   },
   "source": [
    "#### 2.a.iii. Comparison of the results"
   ]
  },
  {
   "cell_type": "code",
   "execution_count": 0,
   "metadata": {
    "colab": {
     "base_uri": "https://localhost:8080/",
     "height": 497
    },
    "colab_type": "code",
    "id": "Ky9DExUhPvZP",
    "outputId": "f2672623-bd77-4241-bf3b-4ee9be65520c"
   },
   "outputs": [
    {
     "data": {
      "image/png": "[encoded data removed]",
      "text/plain": [
       "<Figure size 864x576 with 1 Axes>"
      ]
     },
     "metadata": {
      "needs_background": "light",
      "tags": []
     },
     "output_type": "display_data"
    }
   ],
   "source": [
    "plt.xlabel('Number of nearest neighbors')\n",
    "plt.ylabel('Validation log loss')\n",
    "plt.plot(n_neighbors, log_losses, '+', color = 'r', label = \"without PCA\")\n",
    "plt.plot(n_neighbors, log_losses_pca, '+', color = 'b', label = \"with PCA\")\n",
    "plt.legend()\n",
    "plt.show()"
   ]
  },
  {
   "cell_type": "markdown",
   "metadata": {
    "colab_type": "text",
    "id": "4EWx99qNPzFI"
   },
   "source": [
    "Not using PCA is, by far, better than using it."
   ]
  },
  {
   "cell_type": "code",
   "execution_count": 0,
   "metadata": {
    "colab": {},
    "colab_type": "code",
    "id": "SwFiQA-mP16a"
   },
   "outputs": [],
   "source": [
    "# Saving the best model obtained with KNN\n",
    "knn = KNeighborsClassifier(n_neighbors = 22)\n",
    "knn.fit(Xtrain, ytrain)\n",
    "y_pred_knn = knn.predict(Xvalid)"
   ]
  },
  {
   "cell_type": "markdown",
   "metadata": {
    "colab_type": "text",
    "id": "4Cy2qbeqHAG4"
   },
   "source": [
    "##2.2 *Logistic regression for classification*"
   ]
  },
  {
   "cell_type": "markdown",
   "metadata": {
    "colab_type": "text",
    "id": "lUUNBNBnHQel"
   },
   "source": [
    "Even if logistic regression is not always adapted to multiclasses problem (our case), let's see what it can do on our data. "
   ]
  },
  {
   "cell_type": "code",
   "execution_count": 0,
   "metadata": {
    "colab": {},
    "colab_type": "code",
    "id": "Yk-C9UjaHRCU"
   },
   "outputs": [],
   "source": [
    "warnings.simplefilter('ignore')\n",
    "regularization_parameter = []\n",
    "train_log_loss_lr = []\n",
    "valid_log_loss_lr = []\n",
    "train_accuracy_lr = []\n",
    "valid_accuracy_lr = []\n",
    "\n",
    "for c in range (1, 500, 5):\n",
    "    regularization_parameter.append(c)\n",
    "    logreg = LogisticRegression(C=c).fit(Xtrain, ytrain)\n",
    "    y_pred_train = logreg.predict(Xtrain)\n",
    "    y_pred_valid = logreg.predict(Xvalid)\n",
    "    train_log_loss_lr.append(sklearn.metrics.log_loss(ytrain, y_pred_train))\n",
    "    valid_log_loss_lr.append(sklearn.metrics.log_loss(yvalid, y_pred_valid))\n",
    "    train_accuracy_lr.append(logreg.score(Xtrain, ytrain))\n",
    "    valid_accuracy_lr.append(logreg.score(Xvalid, yvalid))"
   ]
  },
  {
   "cell_type": "code",
   "execution_count": 0,
   "metadata": {
    "colab": {
     "base_uri": "https://localhost:8080/",
     "height": 497
    },
    "colab_type": "code",
    "id": "8Rs74r2UHbfR",
    "outputId": "1bdef8c6-0d56-4dff-9468-07b69d271593"
   },
   "outputs": [
    {
     "data": {
      "image/png": "[encoded data removed]",
      "text/plain": [
       "<Figure size 864x576 with 1 Axes>"
      ]
     },
     "metadata": {
      "needs_background": "light",
      "tags": []
     },
     "output_type": "display_data"
    }
   ],
   "source": [
    "plt.xlabel('Regularization parameter')\n",
    "plt.ylabel('Log loss')\n",
    "plt.plot(regularization_parameter, train_log_loss_lr, '+', label = \"training log loss\")\n",
    "plt.plot(regularization_parameter, valid_log_loss_lr, '+', label = \"validation log loss\")\n",
    "plt.legend()\n",
    "plt.show()"
   ]
  },
  {
   "cell_type": "code",
   "execution_count": 0,
   "metadata": {
    "colab": {
     "base_uri": "https://localhost:8080/",
     "height": 34
    },
    "colab_type": "code",
    "id": "tw3mua9OHphW",
    "outputId": "af2c5fcc-4906-485f-920c-48e0dae12374"
   },
   "outputs": [
    {
     "name": "stdout",
     "output_type": "stream",
     "text": [
      "Minimum log loss on the validation set of 6.68 with an accuracy of 0.8065 obtained with a regularization parameter = 21\n"
     ]
    }
   ],
   "source": [
    "min_log_loss = min(valid_log_loss_lr)\n",
    "regularization_param = regularization_parameter[np.argmin(valid_log_loss_lr)]\n",
    "accuracy = valid_accuracy_lr[np.argmin(valid_log_loss_lr)]\n",
    "print('Minimum log loss on the validation set of %.2f' % min_log_loss, 'with an accuracy of %.4f' % accuracy,  'obtained with a regularization parameter =', regularization_param)"
   ]
  },
  {
   "cell_type": "markdown",
   "metadata": {
    "colab_type": "text",
    "id": "N1YeyHgoQE_S"
   },
   "source": [
    "_Logistic regression_ gives worse results than KNN, with a minimum validation log loss of <b>6.68</b> that is smaller than the one we found with KNN. The corresponding accuracy is also better than KNN (80.65%) obtained with a regularization parameter C = 21, but the accuracy is still not very good. "
   ]
  },
  {
   "cell_type": "code",
   "execution_count": 0,
   "metadata": {
    "colab": {},
    "colab_type": "code",
    "id": "7AKh8tBDH6mc"
   },
   "outputs": [],
   "source": [
    "# Saving the best model obtained with logistic regression\n",
    "logreg = LogisticRegression(C=21).fit(Xtrain, ytrain)\n",
    "y_pred_logreg = logreg.predict(Xvalid)"
   ]
  },
  {
   "cell_type": "markdown",
   "metadata": {
    "colab_type": "text",
    "id": "c1PQW1l8IYRd"
   },
   "source": [
    "## 2.3 *Decision tree*"
   ]
  },
  {
   "cell_type": "code",
   "execution_count": 0,
   "metadata": {
    "colab": {
     "base_uri": "https://localhost:8080/",
     "height": 51
    },
    "colab_type": "code",
    "id": "pPcniDzLIU3f",
    "outputId": "42236821-70b7-4066-bc5b-971237784724"
   },
   "outputs": [
    {
     "name": "stdout",
     "output_type": "stream",
     "text": [
      "Log loss on the training set 0.0000 with an accuracy of 1.0000\n",
      "Log loss on the validation set 11.4202 with an accuracy of 0.6694\n"
     ]
    }
   ],
   "source": [
    "tree = DecisionTreeClassifier(random_state=0)\n",
    "tree.fit(Xtrain, ytrain)\n",
    "y_pred_train = tree.predict(Xtrain)\n",
    "y_pred_valid = tree.predict(Xvalid)\n",
    "log_loss_train = sklearn.metrics.log_loss(ytrain, y_pred_train)\n",
    "log_loss_valid = sklearn.metrics.log_loss(yvalid, y_pred_valid)\n",
    "print('Log loss on the training set %.4f' % log_loss_train, 'with an accuracy of %.4f' % tree.score(Xtrain, ytrain))\n",
    "print('Log loss on the validation set %.4f' % log_loss_valid, 'with an accuracy of %.4f' % tree.score(Xvalid, yvalid))"
   ]
  },
  {
   "cell_type": "markdown",
   "metadata": {
    "colab_type": "text",
    "id": "NHMQvkViQRId"
   },
   "source": [
    "Without putting any constrains on the depth of the tree, there is overfitting (as the value of the training accuracy shows, as it is equals to 1.00). That is why the accuracy on the validation is only 66.94%, and the associated log loss of <b>11.42</b> is not good. Let's constrain the depth of the tree by adding a max_depth value. "
   ]
  },
  {
   "cell_type": "code",
   "execution_count": 0,
   "metadata": {
    "colab": {
     "base_uri": "https://localhost:8080/",
     "height": 51
    },
    "colab_type": "code",
    "id": "qVZc_E9fQX7e",
    "outputId": "4e393497-b68c-43d2-e31b-153c26e4b1be"
   },
   "outputs": [
    {
     "name": "stdout",
     "output_type": "stream",
     "text": [
      "Log loss on the training set 6.96 with an accuracy of 0.7984\n",
      "Log loss on the validation set 7.24 with an accuracy of 0.7903\n"
     ]
    }
   ],
   "source": [
    "tree = DecisionTreeClassifier(max_depth = 5, random_state=0)\n",
    "tree.fit(Xtrain, ytrain)\n",
    "y_pred_train = tree.predict(Xtrain)\n",
    "y_pred_valid = tree.predict(Xvalid)\n",
    "log_loss_train = sklearn.metrics.log_loss(ytrain, y_pred_train)\n",
    "log_loss_valid = sklearn.metrics.log_loss(yvalid, y_pred_valid)\n",
    "print('Log loss on the training set %.2f' % log_loss_train, 'with an accuracy of %.4f' % tree.score(Xtrain, ytrain))\n",
    "print('Log loss on the validation set %.2f' % log_loss_valid, 'with an accuracy of %.4f' % tree.score(Xvalid, yvalid))"
   ]
  },
  {
   "cell_type": "markdown",
   "metadata": {
    "colab_type": "text",
    "id": "Xt3inoE8Qbdo"
   },
   "source": [
    "As expected, the tree no more overfits the training set, as the training accuracy is only of 79.84%. Thus, it performs better on the validation set, with an accuracy of 79.03%, and the log loss is also smaller with a value of <b>7.24</b>. Let's tune the parameter _max_depth_ to see if we can get even better results."
   ]
  },
  {
   "cell_type": "code",
   "execution_count": 0,
   "metadata": {
    "colab": {},
    "colab_type": "code",
    "id": "pMpffn73Qd-e"
   },
   "outputs": [],
   "source": [
    "max_depths = []\n",
    "train_log_loss_tree = []\n",
    "valid_log_loss_tree = []\n",
    "train_accuracy_tree = []\n",
    "valid_accuracy_tree = []\n",
    "\n",
    "for depth in range (1, 51):\n",
    "    max_depths.append(depth)\n",
    "    tree = DecisionTreeClassifier(max_depth = depth, random_state=0)\n",
    "    tree.fit(Xtrain, ytrain)\n",
    "    y_pred_train = tree.predict(Xtrain)\n",
    "    y_pred_valid = tree.predict(Xvalid)\n",
    "    train_log_loss_tree.append(sklearn.metrics.log_loss(ytrain, y_pred_train))\n",
    "    valid_log_loss_tree.append(sklearn.metrics.log_loss(yvalid, y_pred_valid))\n",
    "    train_accuracy_tree.append(tree.score(Xtrain, ytrain))\n",
    "    valid_accuracy_tree.append(tree.score(Xvalid, yvalid))"
   ]
  },
  {
   "cell_type": "code",
   "execution_count": 0,
   "metadata": {
    "colab": {
     "base_uri": "https://localhost:8080/",
     "height": 498
    },
    "colab_type": "code",
    "id": "Mi2Dc2YuQik_",
    "outputId": "97075dcf-c3e7-410c-8ca8-086f5c0e783d"
   },
   "outputs": [
    {
     "data": {
      "image/png": "[encoded data removed]",
      "text/plain": [
       "<Figure size 864x576 with 1 Axes>"
      ]
     },
     "metadata": {
      "needs_background": "light",
      "tags": []
     },
     "output_type": "display_data"
    }
   ],
   "source": [
    "plt.xlabel('max_depth')\n",
    "plt.ylabel('Log loss')\n",
    "plt.plot(max_depths, train_log_loss_tree, '+', label = \"training log loss\")\n",
    "plt.plot(max_depths, valid_log_loss_tree, '+', label = \"validation log loss\")\n",
    "plt.legend()\n",
    "plt.show()"
   ]
  },
  {
   "cell_type": "code",
   "execution_count": 0,
   "metadata": {
    "colab": {
     "base_uri": "https://localhost:8080/",
     "height": 34
    },
    "colab_type": "code",
    "id": "IF4K5AB9QlA6",
    "outputId": "3d8dfeda-dfc0-49af-e48a-ad1d4bacfe13"
   },
   "outputs": [
    {
     "name": "stdout",
     "output_type": "stream",
     "text": [
      "Minimum log loss on the validation set of 7.24 with an accuracy of 0.7903 obtained with a max depth of 4\n"
     ]
    }
   ],
   "source": [
    "min_log_loss = min(valid_log_loss_tree)\n",
    "depth = max_depths[np.argmin(valid_log_loss_tree)]\n",
    "accuracy = valid_accuracy_tree[np.argmin(valid_log_loss_tree)]\n",
    "print('Minimum log loss on the validation set of %.2f' % min_log_loss, 'with an accuracy of %.4f' % accuracy,  'obtained with a max depth of', depth)"
   ]
  },
  {
   "cell_type": "markdown",
   "metadata": {
    "colab_type": "text",
    "id": "ckLAR0bQQpMP"
   },
   "source": [
    "The overfitting occurs very quickly. The best result is obtained with a maximal depth of 4, a log loss of <b>7.24</b> and a validation accuracy of 79.03%, which is a bit better than the score we obtained with KNN, but not better that the score we had for logistic regression for classification.\n",
    "The results obtained so far are not that good, we let's try more complex models. "
   ]
  },
  {
   "cell_type": "code",
   "execution_count": 0,
   "metadata": {
    "colab": {},
    "colab_type": "code",
    "id": "YPliFQEyQsNh"
   },
   "outputs": [],
   "source": [
    "# Saving the best model obtained with decision tree\n",
    "tree = DecisionTreeClassifier(max_depth = 4, random_state=0)\n",
    "tree.fit(Xtrain, ytrain)\n",
    "y_pred_tree = tree.predict(Xvalid)"
   ]
  },
  {
   "cell_type": "markdown",
   "metadata": {
    "colab_type": "text",
    "id": "_a2cd21OJNP7"
   },
   "source": [
    "## 2.4 *Random forest*"
   ]
  },
  {
   "cell_type": "code",
   "execution_count": 0,
   "metadata": {
    "colab": {},
    "colab_type": "code",
    "id": "_8XEB7o9JRI1"
   },
   "outputs": [],
   "source": [
    "n_trees = []\n",
    "train_log_loss_forest = []\n",
    "valid_log_loss_forest = []\n",
    "train_accuracy_forest = []\n",
    "valid_accuracy_forest = []\n",
    "min_log_loss = 100\n",
    "\n",
    "for n in range (1, 101):\n",
    "    n_trees.append(n)\n",
    "    forest = RandomForestClassifier(n_estimators=n)\n",
    "    forest.fit(Xtrain, ytrain)\n",
    "    y_pred_train = forest.predict(Xtrain)\n",
    "    y_pred_valid = forest.predict(Xvalid)\n",
    "    train_log_loss_forest.append(sklearn.metrics.log_loss(ytrain, y_pred_train))\n",
    "    valid_log_loss_forest.append(sklearn.metrics.log_loss(yvalid, y_pred_valid))\n",
    "    train_accuracy_forest.append(forest.score(Xtrain, ytrain))\n",
    "    valid_accuracy_forest.append(forest.score(Xvalid, yvalid))\n",
    "    if sklearn.metrics.log_loss(yvalid, y_pred_valid) < min_log_loss:\n",
    "      n_tree = n\n",
    "      min_log_loss = sklearn.metrics.log_loss(yvalid, y_pred_valid)\n",
    "      accuracy = forest.score(Xvalid, yvalid)\n",
    "      y_pred_forest = y_pred_valid"
   ]
  },
  {
   "cell_type": "code",
   "execution_count": 0,
   "metadata": {
    "colab": {
     "base_uri": "https://localhost:8080/",
     "height": 497
    },
    "colab_type": "code",
    "id": "E9QAgP4hJTz1",
    "outputId": "c071bc43-57e8-47ce-c800-0c2e33c104f1"
   },
   "outputs": [
    {
     "data": {
      "image/png": "[encoded data removed]",
      "text/plain": [
       "<Figure size 864x576 with 1 Axes>"
      ]
     },
     "metadata": {
      "needs_background": "light",
      "tags": []
     },
     "output_type": "display_data"
    }
   ],
   "source": [
    "plt.xlabel('Number of trees')\n",
    "plt.ylabel('Log loss')\n",
    "plt.plot(n_trees, train_log_loss_forest, '+', label = \"training log loss\")\n",
    "plt.plot(n_trees, valid_log_loss_forest, '+', label = \"validation log loss\")\n",
    "plt.legend()\n",
    "plt.show()"
   ]
  },
  {
   "cell_type": "code",
   "execution_count": 0,
   "metadata": {
    "colab": {
     "base_uri": "https://localhost:8080/",
     "height": 34
    },
    "colab_type": "code",
    "id": "7whNMC49Q8NG",
    "outputId": "e37511c7-7488-4ed4-877a-0ec20580bf89"
   },
   "outputs": [
    {
     "name": "stdout",
     "output_type": "stream",
     "text": [
      "Minimum log loss on the validation set of 6.41 with an accuracy of 0.8145 obtained with  25 trees\n"
     ]
    }
   ],
   "source": [
    "min_log_loss = min(valid_log_loss_forest)\n",
    "n_tree = n_trees[np.argmin(valid_log_loss_forest)]\n",
    "accuracy = valid_accuracy_forest[np.argmin(valid_log_loss_forest)]\n",
    "print('Minimum log loss on the validation set of %.2f' % min_log_loss, 'with an accuracy of %.4f' % accuracy,  'obtained with ', n_tree, 'trees')"
   ]
  },
  {
   "cell_type": "markdown",
   "metadata": {
    "colab_type": "text",
    "id": "V3xJ1peWRAz-"
   },
   "source": [
    "With 25 trees, our random forest gives us the best results until here: a validation log loss of <b>6.41</b> (corresponding to an accuracy of 81.45% on the validation set."
   ]
  },
  {
   "cell_type": "markdown",
   "metadata": {
    "colab_type": "text",
    "id": "Ujnzo6hgJqks"
   },
   "source": [
    "## 2.5 *Gradient boosted regression trees*"
   ]
  },
  {
   "cell_type": "code",
   "execution_count": 0,
   "metadata": {
    "colab": {},
    "colab_type": "code",
    "id": "Kv3qZ_lqJuG9"
   },
   "outputs": [],
   "source": [
    "n_depths = []\n",
    "train_log_loss_gbrt = []\n",
    "valid_log_loss_gbrt = []\n",
    "train_accuracy_gbrt = []\n",
    "valid_accuracy_gbrt = []\n",
    "\n",
    "for i in range (1, 31):\n",
    "    n_depths.append(i)\n",
    "    gbrt = GradientBoostingClassifier(max_depth = i)\n",
    "    gbrt.fit(Xtrain, ytrain)\n",
    "    y_pred_train = gbrt.predict(Xtrain)\n",
    "    y_pred_valid = gbrt.predict(Xvalid)\n",
    "    train_log_loss_gbrt.append(sklearn.metrics.log_loss(ytrain, y_pred_train))\n",
    "    valid_log_loss_gbrt.append(sklearn.metrics.log_loss(yvalid, y_pred_valid))\n",
    "    train_accuracy_gbrt.append(gbrt.score(Xtrain, ytrain))\n",
    "    valid_accuracy_gbrt.append(gbrt.score(Xvalid, yvalid))"
   ]
  },
  {
   "cell_type": "code",
   "execution_count": 0,
   "metadata": {
    "colab": {
     "base_uri": "https://localhost:8080/",
     "height": 497
    },
    "colab_type": "code",
    "id": "u1QW-8bHJxfX",
    "outputId": "9708db3b-d902-4038-af69-47a5fcb28dd1"
   },
   "outputs": [
    {
     "data": {
      "image/png": "[encoded data removed]",
      "text/plain": [
       "<Figure size 864x576 with 1 Axes>"
      ]
     },
     "metadata": {
      "needs_background": "light",
      "tags": []
     },
     "output_type": "display_data"
    }
   ],
   "source": [
    "plt.xlabel('Maximal depth')\n",
    "plt.ylabel('Accuracy')\n",
    "plt.plot(n_depths, train_log_loss_gbrt, '+', color = 'r', label = \"training log loss\")\n",
    "plt.plot(n_depths, valid_log_loss_gbrt, '+', color = 'b', label = \"validation log loss\")\n",
    "plt.legend()\n",
    "plt.show()"
   ]
  },
  {
   "cell_type": "code",
   "execution_count": 0,
   "metadata": {
    "colab": {
     "base_uri": "https://localhost:8080/",
     "height": 54
    },
    "colab_type": "code",
    "id": "0oin_kFjfgij",
    "outputId": "f262dee5-6434-4e9c-a7f5-617c977f3203"
   },
   "outputs": [
    {
     "name": "stdout",
     "output_type": "stream",
     "text": [
      "Minimum log loss on the validation set of 6.41 with an accuracy of 0.8145 obtained with a max_depth of  2\n"
     ]
    }
   ],
   "source": [
    "min_log_loss = min(valid_log_loss_gbrt)\n",
    "depth = n_depths[np.argmin(valid_log_loss_gbrt)]\n",
    "accuracy = valid_accuracy_gbrt[np.argmin(valid_log_loss_gbrt)]\n",
    "print('Minimum log loss on the validation set of %.2f' % min_log_loss, 'with an accuracy of %.4f' % accuracy,  'obtained with a max_depth of ', depth)"
   ]
  },
  {
   "cell_type": "markdown",
   "metadata": {
    "colab_type": "text",
    "id": "xhK7zvR5h9Bs"
   },
   "source": [
    "The Gradient Boosted regression tree method allows to obtain, with a depth of 2, a log loss on the validation set of <b>6.41</b> and the corresponding accuracy equals to 81.45%, the best result until now!!"
   ]
  },
  {
   "cell_type": "code",
   "execution_count": 0,
   "metadata": {
    "colab": {},
    "colab_type": "code",
    "id": "cMuOFLbFJzum"
   },
   "outputs": [],
   "source": [
    "# Saving the best model obtained with gradient boosted regression trees\n",
    "gbrt = GradientBoostingClassifier(max_depth = 2)\n",
    "gbrt.fit(Xtrain, ytrain)\n",
    "y_pred_gbrt = gbrt.predict(Xvalid)"
   ]
  },
  {
   "cell_type": "markdown",
   "metadata": {
    "colab_type": "text",
    "id": "-y6LUMGc1bB8"
   },
   "source": [
    "## 2.6 *Neural Networks*"
   ]
  },
  {
   "cell_type": "markdown",
   "metadata": {
    "colab_type": "text",
    "id": "zYTxRn8r3Ii4"
   },
   "source": [
    "According to the problematic we set, we also tried to evaluate the performance of Neural Networks algorithms. Of course, it seems obvious that we do not have enough data to make their uses relevant."
   ]
  },
  {
   "cell_type": "markdown",
   "metadata": {
    "colab_type": "text",
    "id": "5v5SLYzUb8J_"
   },
   "source": [
    "For the moment, the parameters are the ones put by default (max_iter = 1000 in order for the algorithm to converge)"
   ]
  },
  {
   "cell_type": "code",
   "execution_count": 0,
   "metadata": {
    "colab": {
     "base_uri": "https://localhost:8080/",
     "height": 85
    },
    "colab_type": "code",
    "id": "i40Jm3hg2p6O",
    "outputId": "33821007-b102-441d-b4da-269ab9df9344"
   },
   "outputs": [
    {
     "name": "stdout",
     "output_type": "stream",
     "text": [
      "Accuracy on the training set: 0.7616\n",
      "Accuracy on the testing set: 0.6887\n",
      "Accuracy on the validation set: 0.8065\n",
      "Log loss on the validation set: 6.6850\n"
     ]
    }
   ],
   "source": [
    "from sklearn.neural_network import MLPClassifier\n",
    "from sklearn import metrics\n",
    "\n",
    "alpha = 0.01 ## used for regularization (L2 regularization) term which helps in avoiding overfitting by penalizing weights with large magnitudes\n",
    "hidden_layer_sizes= 70\n",
    "max_iter = 1000\n",
    "\n",
    "clf = MLPClassifier(solver='adam',alpha = alpha ,hidden_layer_sizes = hidden_layer_sizes, random_state= None, max_iter = max_iter )\n",
    "\n",
    "clf.fit(Xtrain, ytrain)\n",
    "\n",
    "y_pred_nn = clf.predict(Xvalid)\n",
    "\n",
    "\n",
    "# Accuracy \n",
    "print('Accuracy on the training set: %.4f' % clf.score(Xtrain, ytrain))\n",
    "print('Accuracy on the testing set: %.4f' % clf.score(Xtest, ytest))\n",
    "print('Accuracy on the validation set: %.4f' % clf.score(Xvalid, yvalid))\n",
    "\n",
    "#Log-losses : \n",
    "print('Log loss on the validation set: %.4f' % metrics.log_loss(yvalid, y_pred_nn))\n"
   ]
  },
  {
   "cell_type": "markdown",
   "metadata": {
    "colab_type": "text",
    "id": "cMdUMT1c4vXk"
   },
   "source": [
    "### 2.6.1 *Regularization parameter*"
   ]
  },
  {
   "cell_type": "code",
   "execution_count": 0,
   "metadata": {
    "colab": {},
    "colab_type": "code",
    "id": "q7r-1Vg14zYb"
   },
   "outputs": [],
   "source": [
    "# Compute train and test errors\n",
    "alphas = np.logspace(-5, 1, 60)\n",
    "clf = MLPClassifier(solver='adam',hidden_layer_sizes = hidden_layer_sizes,max_iter = max_iter )\n",
    "train_errors = list()\n",
    "valid_errors = list()\n",
    "for alpha in alphas:\n",
    "    clf.set_params(alpha=alpha)\n",
    "    clf.fit(Xtrain, ytrain.values.ravel())\n",
    "    train_errors.append(clf.score(Xtrain, ytrain))\n",
    "    valid_errors.append(clf.score(Xvalid, yvalid))"
   ]
  },
  {
   "cell_type": "code",
   "execution_count": 0,
   "metadata": {
    "colab": {
     "base_uri": "https://localhost:8080/",
     "height": 304
    },
    "colab_type": "code",
    "id": "iZwu3dOBbWXG",
    "outputId": "f90751c8-0926-403b-dcc4-fe6ebb9a711d"
   },
   "outputs": [
    {
     "name": "stdout",
     "output_type": "stream",
     "text": [
      "Optimal regularization parameter : 0.036251170499885355\n"
     ]
    },
    {
     "data": {
      "image/png": "[encoded data removed]",
      "text/plain": [
       "<Figure size 432x288 with 1 Axes>"
      ]
     },
     "metadata": {
      "needs_background": "light",
      "tags": []
     },
     "output_type": "display_data"
    }
   ],
   "source": [
    "i_alpha_optim = np.argmax(valid_errors)\n",
    "alpha_optim = alphas[i_alpha_optim]\n",
    "print(\"Optimal regularization parameter : %s\" % alpha_optim)\n",
    "\n",
    "# Plot results functions\n",
    "plt.semilogx(alphas, train_errors, label='Train')\n",
    "plt.semilogx(alphas, valid_errors, label='Test')\n",
    "plt.vlines(alpha_optim, plt.ylim()[0], np.max(valid_errors), color='k',\n",
    "           linewidth=3, label='Optimum on test')\n",
    "plt.legend(loc='lower left')\n",
    "plt.ylim([0, 1.2])\n",
    "plt.xlabel('Regularization parameter')\n",
    "plt.ylabel('Performance')\n",
    "plt.legend()\n",
    "plt.show()"
   ]
  },
  {
   "cell_type": "markdown",
   "metadata": {
    "colab_type": "text",
    "id": "2gEOR9Z-7-HK"
   },
   "source": [
    "It seems that the regularization parameter doesn't change much the accuracy (both in training and in the testing set). Let us see if if it different with sklearn methods"
   ]
  },
  {
   "cell_type": "markdown",
   "metadata": {
    "colab_type": "text",
    "id": "Q83pr-V0nWsI"
   },
   "source": [
    "### 2.6.2. Parameters tuning using sklearn methods"
   ]
  },
  {
   "cell_type": "markdown",
   "metadata": {
    "colab_type": "text",
    "id": "zEJYYBsabcHD"
   },
   "source": [
    "Here, we use the GridSearchCV from the model_selection module. It allows us to determine optimized parameters using the K-cross-validation method (by default, the value for K=5)"
   ]
  },
  {
   "cell_type": "code",
   "execution_count": 0,
   "metadata": {
    "colab": {},
    "colab_type": "code",
    "id": "PfrEk9ZSo4ZN"
   },
   "outputs": [],
   "source": [
    "clf_2 = MLPClassifier(solver='adam',alpha = alpha, random_state= None, max_iter = max_iter)"
   ]
  },
  {
   "cell_type": "code",
   "execution_count": 0,
   "metadata": {
    "colab": {},
    "colab_type": "code",
    "id": "PRwmzUN6nWL_"
   },
   "outputs": [],
   "source": [
    "model = model_selection.GridSearchCV(clf_2,{'hidden_layer_sizes':np.arange(30,100,20),'alpha':np.logspace(-3, 1, 60)})\n",
    "model.fit(Xtrain,ytrain.values.ravel())"
   ]
  },
  {
   "cell_type": "code",
   "execution_count": 0,
   "metadata": {
    "colab": {
     "base_uri": "https://localhost:8080/",
     "height": 643
    },
    "colab_type": "code",
    "id": "JvzInpcYpLKH",
    "outputId": "0dae5c02-eecb-4a35-8845-3cb716345db0"
   },
   "outputs": [
    {
     "data": {
      "text/html": [
       "<div>\n",
       "<style scoped>\n",
       "    .dataframe tbody tr th:only-of-type {\n",
       "        vertical-align: middle;\n",
       "    }\n",
       "\n",
       "    .dataframe tbody tr th {\n",
       "        vertical-align: top;\n",
       "    }\n",
       "\n",
       "    .dataframe thead th {\n",
       "        text-align: right;\n",
       "    }\n",
       "</style>\n",
       "<table border=\"1\" class=\"dataframe\">\n",
       "  <thead>\n",
       "    <tr style=\"text-align: right;\">\n",
       "      <th></th>\n",
       "      <th>mean_fit_time</th>\n",
       "      <th>std_fit_time</th>\n",
       "      <th>mean_score_time</th>\n",
       "      <th>std_score_time</th>\n",
       "      <th>param_alpha</th>\n",
       "      <th>param_hidden_layer_sizes</th>\n",
       "      <th>params</th>\n",
       "      <th>split0_test_score</th>\n",
       "      <th>split1_test_score</th>\n",
       "      <th>split2_test_score</th>\n",
       "      <th>split3_test_score</th>\n",
       "      <th>split4_test_score</th>\n",
       "      <th>mean_test_score</th>\n",
       "      <th>std_test_score</th>\n",
       "      <th>rank_test_score</th>\n",
       "    </tr>\n",
       "  </thead>\n",
       "  <tbody>\n",
       "    <tr>\n",
       "      <th>0</th>\n",
       "      <td>0.720143</td>\n",
       "      <td>0.384697</td>\n",
       "      <td>0.001354</td>\n",
       "      <td>0.000123</td>\n",
       "      <td>0.001</td>\n",
       "      <td>30</td>\n",
       "      <td>{'alpha': 0.001, 'hidden_layer_sizes': 30}</td>\n",
       "      <td>0.751678</td>\n",
       "      <td>0.738255</td>\n",
       "      <td>0.825503</td>\n",
       "      <td>0.777027</td>\n",
       "      <td>0.729730</td>\n",
       "      <td>0.764439</td>\n",
       "      <td>0.034469</td>\n",
       "      <td>26</td>\n",
       "    </tr>\n",
       "    <tr>\n",
       "      <th>1</th>\n",
       "      <td>2.310434</td>\n",
       "      <td>0.327639</td>\n",
       "      <td>0.001708</td>\n",
       "      <td>0.000063</td>\n",
       "      <td>0.001</td>\n",
       "      <td>50</td>\n",
       "      <td>{'alpha': 0.001, 'hidden_layer_sizes': 50}</td>\n",
       "      <td>0.751678</td>\n",
       "      <td>0.758389</td>\n",
       "      <td>0.805369</td>\n",
       "      <td>0.743243</td>\n",
       "      <td>0.722973</td>\n",
       "      <td>0.756330</td>\n",
       "      <td>0.027257</td>\n",
       "      <td>144</td>\n",
       "    </tr>\n",
       "    <tr>\n",
       "      <th>2</th>\n",
       "      <td>2.726080</td>\n",
       "      <td>0.179083</td>\n",
       "      <td>0.001740</td>\n",
       "      <td>0.000039</td>\n",
       "      <td>0.001</td>\n",
       "      <td>70</td>\n",
       "      <td>{'alpha': 0.001, 'hidden_layer_sizes': 70}</td>\n",
       "      <td>0.765101</td>\n",
       "      <td>0.731544</td>\n",
       "      <td>0.805369</td>\n",
       "      <td>0.743243</td>\n",
       "      <td>0.729730</td>\n",
       "      <td>0.754997</td>\n",
       "      <td>0.028164</td>\n",
       "      <td>164</td>\n",
       "    </tr>\n",
       "    <tr>\n",
       "      <th>3</th>\n",
       "      <td>3.233548</td>\n",
       "      <td>0.028940</td>\n",
       "      <td>0.001749</td>\n",
       "      <td>0.000012</td>\n",
       "      <td>0.001</td>\n",
       "      <td>90</td>\n",
       "      <td>{'alpha': 0.001, 'hidden_layer_sizes': 90}</td>\n",
       "      <td>0.751678</td>\n",
       "      <td>0.744966</td>\n",
       "      <td>0.818792</td>\n",
       "      <td>0.750000</td>\n",
       "      <td>0.750000</td>\n",
       "      <td>0.763087</td>\n",
       "      <td>0.027943</td>\n",
       "      <td>42</td>\n",
       "    </tr>\n",
       "    <tr>\n",
       "      <th>4</th>\n",
       "      <td>0.861832</td>\n",
       "      <td>0.390745</td>\n",
       "      <td>0.001432</td>\n",
       "      <td>0.000208</td>\n",
       "      <td>0.00116895</td>\n",
       "      <td>30</td>\n",
       "      <td>{'alpha': 0.0011689518164985776, 'hidden_layer...</td>\n",
       "      <td>0.751678</td>\n",
       "      <td>0.731544</td>\n",
       "      <td>0.791946</td>\n",
       "      <td>0.770270</td>\n",
       "      <td>0.709459</td>\n",
       "      <td>0.750980</td>\n",
       "      <td>0.028819</td>\n",
       "      <td>205</td>\n",
       "    </tr>\n",
       "    <tr>\n",
       "      <th>...</th>\n",
       "      <td>...</td>\n",
       "      <td>...</td>\n",
       "      <td>...</td>\n",
       "      <td>...</td>\n",
       "      <td>...</td>\n",
       "      <td>...</td>\n",
       "      <td>...</td>\n",
       "      <td>...</td>\n",
       "      <td>...</td>\n",
       "      <td>...</td>\n",
       "      <td>...</td>\n",
       "      <td>...</td>\n",
       "      <td>...</td>\n",
       "      <td>...</td>\n",
       "      <td>...</td>\n",
       "    </tr>\n",
       "    <tr>\n",
       "      <th>235</th>\n",
       "      <td>0.465259</td>\n",
       "      <td>0.010335</td>\n",
       "      <td>0.001770</td>\n",
       "      <td>0.000014</td>\n",
       "      <td>8.55467</td>\n",
       "      <td>90</td>\n",
       "      <td>{'alpha': 8.554672535565684, 'hidden_layer_siz...</td>\n",
       "      <td>0.751678</td>\n",
       "      <td>0.691275</td>\n",
       "      <td>0.778523</td>\n",
       "      <td>0.750000</td>\n",
       "      <td>0.750000</td>\n",
       "      <td>0.744295</td>\n",
       "      <td>0.028644</td>\n",
       "      <td>235</td>\n",
       "    </tr>\n",
       "    <tr>\n",
       "      <th>236</th>\n",
       "      <td>0.295900</td>\n",
       "      <td>0.037517</td>\n",
       "      <td>0.001289</td>\n",
       "      <td>0.000053</td>\n",
       "      <td>10</td>\n",
       "      <td>30</td>\n",
       "      <td>{'alpha': 10.0, 'hidden_layer_sizes': 30}</td>\n",
       "      <td>0.771812</td>\n",
       "      <td>0.704698</td>\n",
       "      <td>0.778523</td>\n",
       "      <td>0.729730</td>\n",
       "      <td>0.702703</td>\n",
       "      <td>0.737493</td>\n",
       "      <td>0.032272</td>\n",
       "      <td>239</td>\n",
       "    </tr>\n",
       "    <tr>\n",
       "      <th>237</th>\n",
       "      <td>0.435240</td>\n",
       "      <td>0.014538</td>\n",
       "      <td>0.001690</td>\n",
       "      <td>0.000026</td>\n",
       "      <td>10</td>\n",
       "      <td>50</td>\n",
       "      <td>{'alpha': 10.0, 'hidden_layer_sizes': 50}</td>\n",
       "      <td>0.758389</td>\n",
       "      <td>0.704698</td>\n",
       "      <td>0.771812</td>\n",
       "      <td>0.736486</td>\n",
       "      <td>0.702703</td>\n",
       "      <td>0.734818</td>\n",
       "      <td>0.027805</td>\n",
       "      <td>240</td>\n",
       "    </tr>\n",
       "    <tr>\n",
       "      <th>238</th>\n",
       "      <td>0.460597</td>\n",
       "      <td>0.033643</td>\n",
       "      <td>0.001742</td>\n",
       "      <td>0.000026</td>\n",
       "      <td>10</td>\n",
       "      <td>70</td>\n",
       "      <td>{'alpha': 10.0, 'hidden_layer_sizes': 70}</td>\n",
       "      <td>0.765101</td>\n",
       "      <td>0.704698</td>\n",
       "      <td>0.771812</td>\n",
       "      <td>0.743243</td>\n",
       "      <td>0.709459</td>\n",
       "      <td>0.738863</td>\n",
       "      <td>0.027659</td>\n",
       "      <td>237</td>\n",
       "    </tr>\n",
       "    <tr>\n",
       "      <th>239</th>\n",
       "      <td>0.455767</td>\n",
       "      <td>0.019258</td>\n",
       "      <td>0.001735</td>\n",
       "      <td>0.000019</td>\n",
       "      <td>10</td>\n",
       "      <td>90</td>\n",
       "      <td>{'alpha': 10.0, 'hidden_layer_sizes': 90}</td>\n",
       "      <td>0.765101</td>\n",
       "      <td>0.711409</td>\n",
       "      <td>0.771812</td>\n",
       "      <td>0.736486</td>\n",
       "      <td>0.709459</td>\n",
       "      <td>0.738854</td>\n",
       "      <td>0.026069</td>\n",
       "      <td>238</td>\n",
       "    </tr>\n",
       "  </tbody>\n",
       "</table>\n",
       "<p>240 rows × 15 columns</p>\n",
       "</div>"
      ],
      "text/plain": [
       "     mean_fit_time  std_fit_time  ...  std_test_score  rank_test_score\n",
       "0         0.720143      0.384697  ...        0.034469               26\n",
       "1         2.310434      0.327639  ...        0.027257              144\n",
       "2         2.726080      0.179083  ...        0.028164              164\n",
       "3         3.233548      0.028940  ...        0.027943               42\n",
       "4         0.861832      0.390745  ...        0.028819              205\n",
       "..             ...           ...  ...             ...              ...\n",
       "235       0.465259      0.010335  ...        0.028644              235\n",
       "236       0.295900      0.037517  ...        0.032272              239\n",
       "237       0.435240      0.014538  ...        0.027805              240\n",
       "238       0.460597      0.033643  ...        0.027659              237\n",
       "239       0.455767      0.019258  ...        0.026069              238\n",
       "\n",
       "[240 rows x 15 columns]"
      ]
     },
     "execution_count": 24,
     "metadata": {
      "tags": []
     },
     "output_type": "execute_result"
    }
   ],
   "source": [
    "result = pd.DataFrame(model.cv_results_)\n",
    "result"
   ]
  },
  {
   "cell_type": "markdown",
   "metadata": {
    "colab_type": "text",
    "id": "YAvEHE6Bcb10"
   },
   "source": [
    "Here, we get the results for the 239 configurations of parameters. Let us only select the five which gives the better \"rank_test"
   ]
  },
  {
   "cell_type": "code",
   "execution_count": 0,
   "metadata": {
    "colab": {
     "base_uri": "https://localhost:8080/",
     "height": 394
    },
    "colab_type": "code",
    "id": "OhvVkpoVMXMg",
    "outputId": "0a91d440-5c58-4b98-ad29-7aa360209b2d"
   },
   "outputs": [
    {
     "data": {
      "text/html": [
       "<div>\n",
       "<style scoped>\n",
       "    .dataframe tbody tr th:only-of-type {\n",
       "        vertical-align: middle;\n",
       "    }\n",
       "\n",
       "    .dataframe tbody tr th {\n",
       "        vertical-align: top;\n",
       "    }\n",
       "\n",
       "    .dataframe thead th {\n",
       "        text-align: right;\n",
       "    }\n",
       "</style>\n",
       "<table border=\"1\" class=\"dataframe\">\n",
       "  <thead>\n",
       "    <tr style=\"text-align: right;\">\n",
       "      <th></th>\n",
       "      <th>mean_fit_time</th>\n",
       "      <th>std_fit_time</th>\n",
       "      <th>mean_score_time</th>\n",
       "      <th>std_score_time</th>\n",
       "      <th>param_alpha</th>\n",
       "      <th>param_hidden_layer_sizes</th>\n",
       "      <th>params</th>\n",
       "      <th>split0_test_score</th>\n",
       "      <th>split1_test_score</th>\n",
       "      <th>split2_test_score</th>\n",
       "      <th>split3_test_score</th>\n",
       "      <th>split4_test_score</th>\n",
       "      <th>mean_test_score</th>\n",
       "      <th>std_test_score</th>\n",
       "      <th>rank_test_score</th>\n",
       "    </tr>\n",
       "  </thead>\n",
       "  <tbody>\n",
       "    <tr>\n",
       "      <th>19</th>\n",
       "      <td>3.198378</td>\n",
       "      <td>0.024210</td>\n",
       "      <td>0.001742</td>\n",
       "      <td>0.000038</td>\n",
       "      <td>0.00186718</td>\n",
       "      <td>90</td>\n",
       "      <td>{'alpha': 0.0018671810912919207, 'hidden_layer...</td>\n",
       "      <td>0.751678</td>\n",
       "      <td>0.765101</td>\n",
       "      <td>0.812081</td>\n",
       "      <td>0.790541</td>\n",
       "      <td>0.736486</td>\n",
       "      <td>0.771177</td>\n",
       "      <td>0.027087</td>\n",
       "      <td>3</td>\n",
       "    </tr>\n",
       "    <tr>\n",
       "      <th>58</th>\n",
       "      <td>2.850431</td>\n",
       "      <td>0.082053</td>\n",
       "      <td>0.001749</td>\n",
       "      <td>0.000042</td>\n",
       "      <td>0.00889513</td>\n",
       "      <td>70</td>\n",
       "      <td>{'alpha': 0.008895134973108237, 'hidden_layer_...</td>\n",
       "      <td>0.765101</td>\n",
       "      <td>0.771812</td>\n",
       "      <td>0.812081</td>\n",
       "      <td>0.783784</td>\n",
       "      <td>0.736486</td>\n",
       "      <td>0.773853</td>\n",
       "      <td>0.024645</td>\n",
       "      <td>1</td>\n",
       "    </tr>\n",
       "    <tr>\n",
       "      <th>59</th>\n",
       "      <td>3.171984</td>\n",
       "      <td>0.077157</td>\n",
       "      <td>0.001783</td>\n",
       "      <td>0.000025</td>\n",
       "      <td>0.00889513</td>\n",
       "      <td>90</td>\n",
       "      <td>{'alpha': 0.008895134973108237, 'hidden_layer_...</td>\n",
       "      <td>0.765101</td>\n",
       "      <td>0.765101</td>\n",
       "      <td>0.812081</td>\n",
       "      <td>0.770270</td>\n",
       "      <td>0.743243</td>\n",
       "      <td>0.771159</td>\n",
       "      <td>0.022486</td>\n",
       "      <td>5</td>\n",
       "    </tr>\n",
       "    <tr>\n",
       "      <th>87</th>\n",
       "      <td>3.022090</td>\n",
       "      <td>0.382260</td>\n",
       "      <td>0.001770</td>\n",
       "      <td>0.000037</td>\n",
       "      <td>0.0265295</td>\n",
       "      <td>90</td>\n",
       "      <td>{'alpha': 0.02652948464431896, 'hidden_layer_s...</td>\n",
       "      <td>0.758389</td>\n",
       "      <td>0.758389</td>\n",
       "      <td>0.825503</td>\n",
       "      <td>0.763514</td>\n",
       "      <td>0.750000</td>\n",
       "      <td>0.771159</td>\n",
       "      <td>0.027516</td>\n",
       "      <td>4</td>\n",
       "    </tr>\n",
       "    <tr>\n",
       "      <th>94</th>\n",
       "      <td>2.599681</td>\n",
       "      <td>0.322147</td>\n",
       "      <td>0.001748</td>\n",
       "      <td>0.000040</td>\n",
       "      <td>0.0362512</td>\n",
       "      <td>70</td>\n",
       "      <td>{'alpha': 0.036251170499885334, 'hidden_layer_...</td>\n",
       "      <td>0.758389</td>\n",
       "      <td>0.771812</td>\n",
       "      <td>0.825503</td>\n",
       "      <td>0.770270</td>\n",
       "      <td>0.743243</td>\n",
       "      <td>0.773844</td>\n",
       "      <td>0.027788</td>\n",
       "      <td>2</td>\n",
       "    </tr>\n",
       "  </tbody>\n",
       "</table>\n",
       "</div>"
      ],
      "text/plain": [
       "    mean_fit_time  std_fit_time  ...  std_test_score  rank_test_score\n",
       "19       3.198378      0.024210  ...        0.027087                3\n",
       "58       2.850431      0.082053  ...        0.024645                1\n",
       "59       3.171984      0.077157  ...        0.022486                5\n",
       "87       3.022090      0.382260  ...        0.027516                4\n",
       "94       2.599681      0.322147  ...        0.027788                2\n",
       "\n",
       "[5 rows x 15 columns]"
      ]
     },
     "execution_count": 27,
     "metadata": {
      "tags": []
     },
     "output_type": "execute_result"
    }
   ],
   "source": [
    "result.loc[result['rank_test_score'] <= 5]"
   ]
  },
  {
   "cell_type": "markdown",
   "metadata": {
    "colab_type": "text",
    "id": "PmgvuHIXdrYe"
   },
   "source": [
    "So, we will choose : hidden_layer_sizes = 70 ; param_alpha = 0.01."
   ]
  },
  {
   "cell_type": "markdown",
   "metadata": {
    "colab_type": "text",
    "id": "to8eMl6coohS"
   },
   "source": [
    "##2.7 *SVM*"
   ]
  },
  {
   "cell_type": "markdown",
   "metadata": {
    "colab_type": "text",
    "id": "5hcbVMPnt__b"
   },
   "source": [
    "With joint datsets"
   ]
  },
  {
   "cell_type": "markdown",
   "metadata": {
    "colab_type": "text",
    "id": "tiu7385TuF6P"
   },
   "source": [
    "without PCA"
   ]
  },
  {
   "cell_type": "code",
   "execution_count": 0,
   "metadata": {
    "colab": {},
    "colab_type": "code",
    "id": "H5gw65GPtO9c"
   },
   "outputs": [],
   "source": [
    "# kernel : Radial function basis (exp(-||x-x'||²/2s²))\n",
    "\n",
    "svm_rbf_joint=sklearn.svm.SVC()\n",
    "svm_rbf_joint.fit(Xtrain,ytrain) \n",
    "score_svm_rbf_joint=[svm_rbf_joint.score(Xtrain, ytrain),svm_rbf_joint.score(Xvalid, yvalid),svm_rbf_joint.score(Xtest, ytest)]\n",
    "y_pred_svm_rbf = svm_rbf_joint.predict(Xvalid)\n",
    "valid_log_loss_svm_rbf = sklearn.metrics.log_loss(yvalid, y_pred_svm_rbf)\n",
    "\n",
    "# kernel : linear\n",
    "\n",
    "svm_linear_joint=sklearn.svm.SVC(kernel='linear')\n",
    "svm_linear_joint.fit(Xtrain,ytrain) \n",
    "score_svm_linear_joint=[svm_linear_joint.score(Xtrain, ytrain),svm_linear_joint.score(Xvalid, yvalid),svm_linear_joint.score(Xtest, ytest)]\n",
    "y_pred_svm_linear = svm_linear_joint.predict(Xvalid)\n",
    "valid_log_loss_svm_linear = sklearn.metrics.log_loss(yvalid, y_pred_svm_linear)\n",
    "\n",
    "# kernel : polynomial\n",
    "\n",
    "svm_poly_joint=sklearn.svm.SVC(kernel='poly')\n",
    "svm_poly_joint.fit(Xtrain,ytrain) \n",
    "score_svm_poly_joint=[svm_poly_joint.score(Xtrain, ytrain),svm_poly_joint.score(Xvalid, yvalid),svm_poly_joint.score(Xtest, ytest)]\n",
    "y_pred_svm_poly = svm_poly_joint.predict(Xvalid)\n",
    "valid_log_loss_svm_poly = sklearn.metrics.log_loss(yvalid, y_pred_svm_poly)\n",
    "\n",
    "# kernel : sigmoid\n",
    "\n",
    "svm_sigmoid_joint=sklearn.svm.SVC(kernel='sigmoid')\n",
    "svm_sigmoid_joint.fit(Xtrain,ytrain) \n",
    "score_svm_sigmoid_joint=[svm_sigmoid_joint.score(Xtrain, ytrain),svm_sigmoid_joint.score(Xvalid, yvalid),svm_sigmoid_joint.score(Xtest, ytest)]\n",
    "y_pred_svm_sigmoid = svm_sigmoid_joint.predict(Xvalid)\n",
    "valid_log_loss_svm_sigmoid = sklearn.metrics.log_loss(yvalid, y_pred_svm_sigmoid)"
   ]
  },
  {
   "cell_type": "code",
   "execution_count": 0,
   "metadata": {
    "colab": {
     "base_uri": "https://localhost:8080/",
     "height": 82
    },
    "colab_type": "code",
    "id": "UBNZ-nup4XH2",
    "outputId": "3b73e89e-c02d-4c74-e18b-3bfbdce0495d"
   },
   "outputs": [
    {
     "name": "stdout",
     "output_type": "stream",
     "text": [
      "SVM - RBF : accuracy on the validation set = 76.61290322580645 %  and validation log loss =  8.077687992130178\n",
      "SVM - LINEAR : accuracy on the validation set = 77.41935483870968 % and validation log loss =  7.799149472816381\n",
      "SVM - POLYNOMIAL : accuracy on the validation set = 77.41935483870968 % and validation log loss =  7.799149472816381\n",
      "SVM - SIGMOID : accuracy on the validation set = 54.03225806451613 % and validation log loss =  15.87670849761911\n"
     ]
    }
   ],
   "source": [
    "print('SVM - RBF : accuracy on the validation set =', score_svm_rbf_joint[1]*100, '% ', 'and validation log loss = ', valid_log_loss_svm_rbf)\n",
    "print('SVM - LINEAR : accuracy on the validation set =', score_svm_linear_joint[1]*100, '%', 'and validation log loss = ', valid_log_loss_svm_linear)\n",
    "print('SVM - POLYNOMIAL : accuracy on the validation set =', score_svm_poly_joint[1]*100, '%', 'and validation log loss = ', valid_log_loss_svm_poly)\n",
    "print('SVM - SIGMOID : accuracy on the validation set =', score_svm_sigmoid_joint[1]*100, '%', 'and validation log loss = ', valid_log_loss_svm_sigmoid)"
   ]
  },
  {
   "cell_type": "markdown",
   "metadata": {
    "colab_type": "text",
    "id": "n0DIl92gugob"
   },
   "source": [
    "With PCA"
   ]
  },
  {
   "cell_type": "code",
   "execution_count": 0,
   "metadata": {
    "colab": {},
    "colab_type": "code",
    "id": "D8AjlWV1t95a"
   },
   "outputs": [],
   "source": [
    "# kernel : Radial function basis (exp(-||x-x'||²/2s²))\n",
    "svm_rbf_joint_pca=sklearn.svm.SVC()\n",
    "svm_rbf_joint_pca.fit(Xtrain_pca,ytrain_pca) \n",
    "score_svm_rbf_joint_pca=[svm_rbf_joint_pca.score(Xtrain_pca, ytrain_pca),svm_rbf_joint_pca.score(Xvalid_pca, yvalid_pca),svm_rbf_joint_pca.score(Xtest_pca, ytest_pca)]\n",
    "y_pred_svm_rbf_pca = svm_rbf_joint_pca.predict(Xvalid_pca)\n",
    "valid_log_loss_svm_rbf_pca = sklearn.metrics.log_loss(yvalid_pca, y_pred_svm_rbf_pca)\n",
    "\n",
    "# kernel : linear\n",
    "svm_linear_joint_pca=sklearn.svm.SVC(kernel='linear')\n",
    "svm_linear_joint_pca.fit(Xtrain_pca,ytrain_pca) \n",
    "score_svm_linear_joint_pca=[svm_linear_joint_pca.score(Xtrain_pca, ytrain_pca),svm_linear_joint_pca.score(Xvalid_pca, yvalid_pca),svm_linear_joint_pca.score(Xtest_pca, ytest_pca)]\n",
    "y_pred_svm_linear_pca = svm_linear_joint_pca.predict(Xvalid_pca)\n",
    "valid_log_loss_svm_linear_pca = sklearn.metrics.log_loss(yvalid_pca, y_pred_svm_linear_pca)\n",
    "\n",
    "# kernel : polynomial\n",
    "svm_poly_joint_pca=sklearn.svm.SVC(kernel='poly')\n",
    "svm_poly_joint_pca.fit(Xtrain_pca,ytrain_pca) \n",
    "score_svm_poly_joint_pca=[svm_poly_joint_pca.score(Xtrain_pca, ytrain_pca),svm_poly_joint_pca.score(Xvalid_pca, yvalid_pca),svm_poly_joint_pca.score(Xtest_pca, ytest_pca)]\n",
    "y_pred_svm_poly_pca = svm_poly_joint_pca.predict(Xvalid_pca)\n",
    "valid_log_loss_svm_poly_pca = sklearn.metrics.log_loss(yvalid_pca, y_pred_svm_poly_pca)\n",
    "\n",
    "# kernel : sigmoid\n",
    "svm_sigmoid_joint_pca=sklearn.svm.SVC(kernel='sigmoid')\n",
    "svm_sigmoid_joint_pca.fit(Xtrain_pca,ytrain_pca) \n",
    "score_svm_sigmoid_joint_pca=[svm_sigmoid_joint_pca.score(Xtrain_pca, ytrain_pca),svm_sigmoid_joint_pca.score(Xvalid_pca, yvalid_pca),svm_sigmoid_joint_pca.score(Xtest_pca, ytest_pca)]\n",
    "y_pred_svm_sigmoid_pca = svm_sigmoid_joint_pca.predict(Xvalid_pca)\n",
    "valid_log_loss_svm_sigmoid_pca = sklearn.metrics.log_loss(yvalid_pca, y_pred_svm_sigmoid_pca)"
   ]
  },
  {
   "cell_type": "code",
   "execution_count": 0,
   "metadata": {
    "colab": {
     "base_uri": "https://localhost:8080/",
     "height": 98
    },
    "colab_type": "code",
    "id": "5rJ5M8UArx_N",
    "outputId": "e3cb01fd-1cfb-4d5b-8048-3c7ccc4e44fb"
   },
   "outputs": [
    {
     "name": "stdout",
     "output_type": "stream",
     "text": [
      "### With PCA ###\n",
      "SVM - RBF : accuracy on the validation set = 58.82352941176471 % and validation log loss =  14.222172470394552\n",
      "SVM - LINEAR : accuracy on the validation set = 56.61764705882353 % and validation log loss =  14.984074881990306\n",
      "SVM - POLY : accuracy on the validation set = 57.35294117647059 % and validation log loss =  14.730107411458388\n",
      "SVM - SIGMOID : accuracy on the validation set = 42.64705882352941 % and validation log loss =  19.80913345548895\n"
     ]
    }
   ],
   "source": [
    "print('### With PCA ###')\n",
    "print('SVM - RBF : accuracy on the validation set =', score_svm_rbf_joint_pca[1]*100, '%', 'and validation log loss = ', valid_log_loss_svm_rbf_pca)\n",
    "print('SVM - LINEAR : accuracy on the validation set =', score_svm_linear_joint_pca[1]*100, '%', 'and validation log loss = ', valid_log_loss_svm_linear_pca)\n",
    "print('SVM - POLY : accuracy on the validation set =', score_svm_poly_joint_pca[1]*100, '%', 'and validation log loss = ', valid_log_loss_svm_poly_pca)\n",
    "print('SVM - SIGMOID : accuracy on the validation set =', score_svm_sigmoid_joint_pca[1]*100, '%', 'and validation log loss = ', valid_log_loss_svm_sigmoid_pca)"
   ]
  },
  {
   "cell_type": "markdown",
   "metadata": {
    "colab_type": "text",
    "id": "hA_hvo1riSI5"
   },
   "source": [
    "# **3. Model selection and merging the results**"
   ]
  },
  {
   "cell_type": "markdown",
   "metadata": {
    "colab_type": "text",
    "id": "ErypECIRiWa7"
   },
   "source": [
    "We obtained different predictions with different models: KNN, logistic regression, decision tree, random forest, gradient boosted regression trees, SVM and a neural network. Here is a recap of the log losses and the accuracies found on the validation set."
   ]
  },
  {
   "cell_type": "code",
   "execution_count": 0,
   "metadata": {
    "colab": {
     "base_uri": "https://localhost:8080/",
     "height": 359
    },
    "colab_type": "code",
    "id": "VyuDP6TFinl3",
    "outputId": "b86ad331-a7ec-42ca-a6fd-fe1b08c189c5"
   },
   "outputs": [
    {
     "data": {
      "text/html": [
       "<div>\n",
       "<style scoped>\n",
       "    .dataframe tbody tr th:only-of-type {\n",
       "        vertical-align: middle;\n",
       "    }\n",
       "\n",
       "    .dataframe tbody tr th {\n",
       "        vertical-align: top;\n",
       "    }\n",
       "\n",
       "    .dataframe thead th {\n",
       "        text-align: right;\n",
       "    }\n",
       "</style>\n",
       "<table border=\"1\" class=\"dataframe\">\n",
       "  <thead>\n",
       "    <tr style=\"text-align: right;\">\n",
       "      <th></th>\n",
       "      <th>Validation log loss</th>\n",
       "      <th>Validation accuracy</th>\n",
       "      <th>Tuned parameters 1</th>\n",
       "      <th>Tuned parameters 2</th>\n",
       "    </tr>\n",
       "  </thead>\n",
       "  <tbody>\n",
       "    <tr>\n",
       "      <th>KNN</th>\n",
       "      <td>8.36</td>\n",
       "      <td>75.81%</td>\n",
       "      <td>n_neighbors = 22</td>\n",
       "      <td>-</td>\n",
       "    </tr>\n",
       "    <tr>\n",
       "      <th>Logistic regression</th>\n",
       "      <td>6.68</td>\n",
       "      <td>80.65%</td>\n",
       "      <td>regularization param = 4</td>\n",
       "      <td>-</td>\n",
       "    </tr>\n",
       "    <tr>\n",
       "      <th>Decision tree</th>\n",
       "      <td>7.24</td>\n",
       "      <td>79.03%</td>\n",
       "      <td>max depth = 4</td>\n",
       "      <td>-</td>\n",
       "    </tr>\n",
       "    <tr>\n",
       "      <th>Random forests</th>\n",
       "      <td>6.41</td>\n",
       "      <td>81.45%</td>\n",
       "      <td>n_trees = 25</td>\n",
       "      <td>-</td>\n",
       "    </tr>\n",
       "    <tr>\n",
       "      <th>GBRT</th>\n",
       "      <td>6.41</td>\n",
       "      <td>81.45%</td>\n",
       "      <td>max depth = 2</td>\n",
       "      <td>-</td>\n",
       "    </tr>\n",
       "    <tr>\n",
       "      <th>SVM rbf</th>\n",
       "      <td>8.08</td>\n",
       "      <td>76.61%</td>\n",
       "      <td>-</td>\n",
       "      <td>-</td>\n",
       "    </tr>\n",
       "    <tr>\n",
       "      <th>SVM linear</th>\n",
       "      <td>7.80</td>\n",
       "      <td>77.42%</td>\n",
       "      <td>-</td>\n",
       "      <td>-</td>\n",
       "    </tr>\n",
       "    <tr>\n",
       "      <th>SVM poly</th>\n",
       "      <td>7.80</td>\n",
       "      <td>77.42%</td>\n",
       "      <td>-</td>\n",
       "      <td>-</td>\n",
       "    </tr>\n",
       "    <tr>\n",
       "      <th>SVM sigmoid</th>\n",
       "      <td>15.9</td>\n",
       "      <td>54.03%</td>\n",
       "      <td>-</td>\n",
       "      <td>-</td>\n",
       "    </tr>\n",
       "    <tr>\n",
       "      <th>Neural network</th>\n",
       "      <td>6.69</td>\n",
       "      <td>80.65%</td>\n",
       "      <td>regularization param = 0.01</td>\n",
       "      <td>hidden_layer_sizes = 70</td>\n",
       "    </tr>\n",
       "  </tbody>\n",
       "</table>\n",
       "</div>"
      ],
      "text/plain": [
       "                    Validation log loss  ...       Tuned parameters 2\n",
       "KNN                                8.36  ...                        -\n",
       "Logistic regression                6.68  ...                        -\n",
       "Decision tree                      7.24  ...                        -\n",
       "Random forests                     6.41  ...                        -\n",
       "GBRT                               6.41  ...                        -\n",
       "SVM rbf                            8.08  ...                        -\n",
       "SVM linear                         7.80  ...                        -\n",
       "SVM poly                           7.80  ...                        -\n",
       "SVM sigmoid                        15.9  ...                        -\n",
       "Neural network                     6.69  ...  hidden_layer_sizes = 70\n",
       "\n",
       "[10 rows x 4 columns]"
      ]
     },
     "execution_count": 174,
     "metadata": {
      "tags": []
     },
     "output_type": "execute_result"
    }
   ],
   "source": [
    "data = [[8.36, '75.81%', 'n_neighbors = 22', '-'], [6.68, '80.65%', 'regularization param = 21', '-'], [7.24, '79.03%', 'max depth = 4', '-'], [6.41, '81.45%', 'n_trees = 25', '-'], [6.41, '81.45%', 'max depth = 2', '-'], ['8.08', '76.61%', '-', '-'], ['7.80', '77.42%', '-', '-'], ['7.80', '77.42%', '-', '-'], ['15.9', '54.03%', '-', '-'], ['6.69', '80.65%', 'regularization param = 0.01', 'hidden_layer_sizes = 70']]\n",
    "results = pd.DataFrame(data, columns=['Validation log loss', 'Validation accuracy', 'Tuned parameters 1', 'Tuned parameters 2'], index=['KNN', 'Logistic regression', 'Decision tree', 'Random forests', 'GBRT', 'SVM rbf','SVM linear','SVM poly','SVM sigmoid', 'Neural network'])\n",
    "\n",
    "results"
   ]
  },
  {
   "cell_type": "markdown",
   "metadata": {
    "colab_type": "text",
    "id": "YFmtO-FxizY9"
   },
   "source": [
    "We can see that the _random forest_ is doing the best job on our dataset, with a log loss of **6.41**. Some other models also work well, such as the _gradient boosted regression tree_ (log loss of **6.41**), the _logistic regression_ (log loss of **6.68**) but also the _neural network_ (log loss of **6.69**).\n",
    "\n",
    "Let's see how merging the results of these good models works on the validation set."
   ]
  },
  {
   "cell_type": "code",
   "execution_count": 0,
   "metadata": {
    "colab": {
     "base_uri": "https://localhost:8080/",
     "height": 51
    },
    "colab_type": "code",
    "id": "3rJUwt4njPMP",
    "outputId": "b5df3c00-c118-40e6-ad96-1a446cf1d061"
   },
   "outputs": [
    {
     "name": "stdout",
     "output_type": "stream",
     "text": [
      "Log loss when merging the output of all models: 6.684982498828453\n",
      "Accuracy when merging the output of all models: 0.8064516129032258\n"
     ]
    }
   ],
   "source": [
    "pred_matrix_merge = [y_pred_logreg, y_pred_forest, y_pred_gbrt, y_pred_nn]\n",
    "y_mean_valid = np.mean(pred_matrix_merge, axis=0)\n",
    "y_pred_merge = [round(i) for i in y_mean_valid]\n",
    "\n",
    "log_loss_merge = sklearn.metrics.log_loss(yvalid, y_pred_merge)\n",
    "accuracy_merge = sklearn.metrics.accuracy_score(yvalid, y_pred_merge)\n",
    "print('Log loss when merging the output of all models:', log_loss_merge)\n",
    "print('Accuracy when merging the output of all models:', accuracy_merge)"
   ]
  },
  {
   "cell_type": "markdown",
   "metadata": {
    "colab_type": "text",
    "id": "sBKRjv9_qL7u"
   },
   "source": [
    "We can see than the log loss is not better than using only random forests or GBRT. Let's see what merging only logistic regression, random forests and GBRT gives."
   ]
  },
  {
   "cell_type": "code",
   "execution_count": 0,
   "metadata": {
    "colab": {
     "base_uri": "https://localhost:8080/",
     "height": 51
    },
    "colab_type": "code",
    "id": "5FU117XFqo2A",
    "outputId": "bf6f1b3e-1771-4bf3-ac3f-2f619e48cb82"
   },
   "outputs": [
    {
     "name": "stdout",
     "output_type": "stream",
     "text": [
      "Log loss when merging the output of all models: 6.127911908567234\n",
      "Accuracy when merging the output of all models: 0.8225806451612904\n"
     ]
    }
   ],
   "source": [
    "pred_matrix_merge = [y_pred_logreg, y_pred_forest, y_pred_gbrt]\n",
    "y_mean_valid = np.mean(pred_matrix_merge, axis=0)\n",
    "y_pred_merge = [round(i) for i in y_mean_valid]\n",
    "\n",
    "log_loss_merge = sklearn.metrics.log_loss(yvalid, y_pred_merge)\n",
    "accuracy_merge = sklearn.metrics.accuracy_score(yvalid, y_pred_merge)\n",
    "print('Log loss when merging the output of all models:', log_loss_merge)\n",
    "print('Accuracy when merging the output of all models:', accuracy_merge)"
   ]
  },
  {
   "cell_type": "markdown",
   "metadata": {
    "colab_type": "text",
    "id": "kikJ9uY_qsov"
   },
   "source": [
    "Merging those 3 algorithms is more efficient, as it allows to reach the smallest log loss until now, **6.13** (and a associated accuracy of 82.26%).\n",
    "\n",
    "**To conclude, the best model is the one that takes the majoritary class among  the Logistic regression, random forests and Gradient boosted regression tree.**"
   ]
  },
  {
   "cell_type": "markdown",
   "metadata": {
    "colab_type": "text",
    "id": "0S_3KTeFrmVi"
   },
   "source": [
    "# **4. Testing and conclusion**"
   ]
  },
  {
   "cell_type": "markdown",
   "metadata": {
    "colab_type": "text",
    "id": "4iD24gflro2k"
   },
   "source": [
    "Now that we kept the model that performs the best on the validation set (a merge of logistic regression, random forests and GBRT), let's test it on the testing set."
   ]
  },
  {
   "cell_type": "code",
   "execution_count": 0,
   "metadata": {
    "colab": {},
    "colab_type": "code",
    "id": "LvvvHYddsS4n"
   },
   "outputs": [],
   "source": [
    "# Best model obtained with logistic regression\n",
    "logreg_test = LogisticRegression(C=21).fit(Xtrain, ytrain)\n",
    "y_pred_test_logreg = logreg_test.predict(Xtest)"
   ]
  },
  {
   "cell_type": "code",
   "execution_count": 0,
   "metadata": {
    "colab": {},
    "colab_type": "code",
    "id": "pT4iRq77svH3"
   },
   "outputs": [],
   "source": [
    "# Best model obtained with random forests\n",
    "forest_test = RandomForestClassifier(n_estimators = 25).fit(Xtrain, ytrain)\n",
    "y_pred_test_forest = forest_test.predict(Xtest)"
   ]
  },
  {
   "cell_type": "code",
   "execution_count": 0,
   "metadata": {
    "colab": {},
    "colab_type": "code",
    "id": "EB58DVcqs7E0"
   },
   "outputs": [],
   "source": [
    "# Best model obtained with GBRT\n",
    "gbrt_test = GradientBoostingClassifier(max_depth = 2).fit(Xtrain, ytrain)\n",
    "y_pred_test_gbrt = gbrt_test.predict(Xtest)"
   ]
  },
  {
   "cell_type": "code",
   "execution_count": 0,
   "metadata": {
    "colab": {
     "base_uri": "https://localhost:8080/",
     "height": 51
    },
    "colab_type": "code",
    "id": "Y5Omx2T8uICj",
    "outputId": "030ac38a-2b9e-4df2-d09b-fa228a77b48c"
   },
   "outputs": [
    {
     "name": "stdout",
     "output_type": "stream",
     "text": [
      "Log loss when merging the output of all models: 9.989330340124383\n",
      "Accuracy when merging the output of all models: 0.7107843137254902\n"
     ]
    }
   ],
   "source": [
    "pred_test_matrix_merge = [y_pred_test_logreg, y_pred_test_forest, y_pred_test_gbrt]\n",
    "y_mean_test = np.mean(pred_test_matrix_merge, axis=0)\n",
    "y_pred_test_merge = [round(i) for i in y_mean_test]\n",
    "\n",
    "log_loss_test = sklearn.metrics.log_loss(ytest, y_pred_test_merge)\n",
    "accuracy_test = sklearn.metrics.accuracy_score(ytest, y_pred_test_merge)\n",
    "print('Log loss when merging the output of all models:', log_loss_test)\n",
    "print('Accuracy when merging the output of all models:', accuracy_test)"
   ]
  },
  {
   "cell_type": "markdown",
   "metadata": {
    "colab_type": "text",
    "id": "OJPBH0WCu_QO"
   },
   "source": [
    "After having tested the best model on the testing set, we finally get a log loss of **9.99**, which is less good than the results on the validation set. "
   ]
  }
 ],
 "metadata": {
  "colab": {
   "collapsed_sections": [
    "U-TN2dLLHD5y",
    "ZLJg51XW50Q9",
    "muvAreRBgXx0",
    "bfJyighLOmzZ",
    "KHEQLT8gPWIE",
    "4Cy2qbeqHAG4",
    "c1PQW1l8IYRd",
    "_a2cd21OJNP7",
    "Ujnzo6hgJqks",
    "-y6LUMGc1bB8",
    "Q83pr-V0nWsI",
    "to8eMl6coohS"
   ],
   "name": "wine_challenge_Chloé_scratch.ipynb",
   "provenance": []
  },
  "kernelspec": {
   "display_name": "Python 3",
   "language": "python",
   "name": "python3"
  },
  "language_info": {
   "codemirror_mode": {
    "name": "ipython",
    "version": 3
   },
   "file_extension": ".py",
   "mimetype": "text/x-python",
   "name": "python",
   "nbconvert_exporter": "python",
   "pygments_lexer": "ipython3",
   "version": "3.7.1"
  }
 },
 "nbformat": 4,
 "nbformat_minor": 1
}
